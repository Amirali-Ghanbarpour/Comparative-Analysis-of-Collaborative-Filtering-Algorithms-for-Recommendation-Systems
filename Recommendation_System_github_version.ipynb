{
  "cells": [
    {
      "cell_type": "markdown",
      "metadata": {
        "id": "aQJtR5lqRwpV"
      },
      "source": [
        "# Introduction"
      ]
    },
    {
      "cell_type": "markdown",
      "metadata": {
        "id": "M7Ab1Dt1RxzR"
      },
      "source": [
        "## Purpose"
      ]
    },
    {
      "cell_type": "markdown",
      "source": [
        "This notebook is dedicated to developing and evaluating a movie recommendation system using the MovieLens dataset, comparing multiple algorithms: Matrix Factorization with PyTorch, Funk Singular Value Decomposition (SVD) with Robust Principal Component Analysis (RPCA), and Neural Collaborative Filtering (NCF) with and without contrastive learning. My objective is to identify the algorithm that achieves the highest predictive performance and recommendation quality, measured through metrics such as accuracy, precision@K, recall@K, F1-score@K, and NDCG@K. This is accomplished through rigorous data preprocessing, user- and item-based data splitting, hyperparameter tuning, and comprehensive evaluation to ensure robust generalization on sparse rating data."
      ],
      "metadata": {
        "id": "Efa7nxt8LKhp"
      }
    },
    {
      "cell_type": "markdown",
      "source": [
        "## Dataset Discription"
      ],
      "metadata": {
        "id": "OZNnXQ_5LMBC"
      }
    },
    {
      "cell_type": "markdown",
      "source": [
        "The MovieLens dataset (ml-latest-small) contains 100,836 ratings from 610 unique users across 9,742 unique movies, as sourced from the GroupLens research group. Each record includes a user ID, movie ID, rating (on a scale of 0.5 to 5.0 in 0.5 increments), and timestamp, with movies also described by titles and genres in a separate file. The dataset is highly sparse, with only approximately 1.7% of the user-movie rating matrix filled, presenting challenges such as sparsity and potential cold-start problems for users or movies with few ratings. These challenges are addressed in this study through filtering users and movies with insufficient ratings (minimum 20 ratings per user, 5 per movie), balanced data splitting per user (70% train, 15% cross-validation, 15% test), and the application of advanced matrix factorization and neural network techniques."
      ],
      "metadata": {
        "id": "3GiHbZNvLQ-e"
      }
    },
    {
      "cell_type": "markdown",
      "metadata": {
        "id": "7uOOa_6gR627"
      },
      "source": [
        "# Setup"
      ]
    },
    {
      "cell_type": "markdown",
      "source": [
        "## Libraries"
      ],
      "metadata": {
        "id": "eaIXXE18MgNJ"
      }
    },
    {
      "cell_type": "code",
      "execution_count": null,
      "metadata": {
        "id": "sxoG_UJcR8kn"
      },
      "outputs": [],
      "source": [
        "import numpy as np\n",
        "import pandas as pd\n",
        "import torch\n",
        "from torch.utils.data import Dataset, DataLoader\n",
        "from sklearn.model_selection import train_test_split\n",
        "import scipy.sparse\n",
        "from scipy.sparse.linalg import svds\n",
        "import tensorflow as tf\n",
        "from tensorflow.keras.models import Model\n",
        "from tensorflow.keras.layers import Input, Embedding, Dropout, Dense, BatchNormalization, Concatenate, Multiply, Lambda\n",
        "from tensorflow.keras.optimizers import Adam\n",
        "from tensorflow.keras.callbacks import EarlyStopping\n",
        "from tensorflow.keras import regularizers\n",
        "from tqdm import tqdm\n",
        "import random\n",
        "import matplotlib.pyplot as plt\n",
        "import seaborn as sns\n",
        "import zipfile\n",
        "import os\n",
        "import contextlib\n",
        "from torch.autograd import Variable\n",
        "from tqdm import tqdm_notebook as tqdm\n",
        "from tqdm.notebook import tqdm\n",
        "from torch.utils.data import Dataset, DataLoader"
      ]
    },
    {
      "cell_type": "markdown",
      "metadata": {
        "id": "jFI-M7yxSEsw"
      },
      "source": [
        "# Configuration"
      ]
    },
    {
      "cell_type": "code",
      "execution_count": null,
      "metadata": {
        "colab": {
          "base_uri": "https://localhost:8080/"
        },
        "id": "8yefQ9LmSH7f",
        "outputId": "d01c3ff7-5e1f-42f6-8a79-c10d1cdadc15"
      },
      "outputs": [
        {
          "output_type": "stream",
          "name": "stdout",
          "text": [
            "Is running on GPU: False\n"
          ]
        }
      ],
      "source": [
        "np.random.seed(42)\n",
        "tf.random.set_seed(42)\n",
        "torch.manual_seed(42)\n",
        "pd.set_option('display.max_columns', 10)\n",
        "pd.set_option('display.max_rows', 10)\n",
        "cuda = torch.cuda.is_available()\n",
        "print(f\"Is running on GPU: {cuda}\")"
      ]
    },
    {
      "cell_type": "markdown",
      "metadata": {
        "id": "2JHGKEzWSKIQ"
      },
      "source": [
        "# Data Loading"
      ]
    },
    {
      "cell_type": "markdown",
      "source": [
        "This cell downloads the MovieLens dataset (ml-latest-small) using a curl command from the GroupLens repository and extracts it into a data directory with the zipfile module, yielding movies.csv (movie IDs, titles, genres) and ratings.csv. This step is crucial for setting up the dataset for all subsequent analysis and modeling tasks."
      ],
      "metadata": {
        "id": "9424QkKBPqbV"
      }
    },
    {
      "cell_type": "code",
      "execution_count": null,
      "metadata": {
        "id": "pjPa_OWoSMtu",
        "colab": {
          "base_uri": "https://localhost:8080/"
        },
        "outputId": "e7408bb9-34e4-4075-c290-0f37e7a2cd2f"
      },
      "outputs": [
        {
          "output_type": "stream",
          "name": "stdout",
          "text": [
            "  % Total    % Received % Xferd  Average Speed   Time    Time     Time  Current\n",
            "                                 Dload  Upload   Total   Spent    Left  Speed\n",
            "100  955k  100  955k    0     0  3075k      0 --:--:-- --:--:-- --:--:-- 3071k\n"
          ]
        }
      ],
      "source": [
        "! curl http://files.grouplens.org/datasets/movielens/ml-latest-small.zip -o ml-latest-small.zip\n",
        "\n",
        "with zipfile.ZipFile('ml-latest-small.zip', 'r') as zip_ref:\n",
        "    zip_ref.extractall('data')\n",
        "movies_df = pd.read_csv('data/ml-latest-small/movies.csv')\n",
        "ratings_df = pd.read_csv('data/ml-latest-small/ratings.csv')"
      ]
    },
    {
      "cell_type": "markdown",
      "metadata": {
        "id": "_SZ_xrb8STbJ"
      },
      "source": [
        "# Data Exploration"
      ]
    },
    {
      "cell_type": "markdown",
      "source": [
        "This section maps movie IDs to titles, counts unique users and movies, calculates the rating matrix size and sparsity, and prints these statistics, highlighting the dataset’s sparse nature. It underscores the need for matrix factorization techniques to handle memory challenges and implicit patterns in sparse data."
      ],
      "metadata": {
        "id": "1T0Z6iB8QNvw"
      }
    },
    {
      "cell_type": "code",
      "execution_count": null,
      "metadata": {
        "colab": {
          "base_uri": "https://localhost:8080/"
        },
        "id": "ACoMAMlXSWJp",
        "outputId": "087bfef8-0453-4718-e024-97aa07e413ff"
      },
      "outputs": [
        {
          "output_type": "stream",
          "name": "stdout",
          "text": [
            "Movies DataFrame Dimensions: (9742, 3)\n",
            "\n",
            "Movies DataFrame Sample:\n",
            "   movieId                               title  \\\n",
            "0        1                    Toy Story (1995)   \n",
            "1        2                      Jumanji (1995)   \n",
            "2        3             Grumpier Old Men (1995)   \n",
            "3        4            Waiting to Exhale (1995)   \n",
            "4        5  Father of the Bride Part II (1995)   \n",
            "\n",
            "                                        genres  \n",
            "0  Adventure|Animation|Children|Comedy|Fantasy  \n",
            "1                   Adventure|Children|Fantasy  \n",
            "2                               Comedy|Romance  \n",
            "3                         Comedy|Drama|Romance  \n",
            "4                                       Comedy  \n",
            "\n",
            "Ratings DataFrame Sample:\n",
            "   userId  movieId  rating  timestamp\n",
            "0       1        1     4.0  964982703\n",
            "1       1        3     4.0  964981247\n",
            "2       1        6     4.0  964982224\n",
            "3       1       47     5.0  964983815\n",
            "4       1       50     5.0  964982931\n",
            "\n",
            "Ratings DataFrame Info:\n",
            "<class 'pandas.core.frame.DataFrame'>\n",
            "RangeIndex: 100836 entries, 0 to 100835\n",
            "Data columns (total 4 columns):\n",
            " #   Column     Non-Null Count   Dtype  \n",
            "---  ------     --------------   -----  \n",
            " 0   userId     100836 non-null  int64  \n",
            " 1   movieId    100836 non-null  int64  \n",
            " 2   rating     100836 non-null  float64\n",
            " 3   timestamp  100836 non-null  int64  \n",
            "dtypes: float64(1), int64(3)\n",
            "memory usage: 3.1 MB\n",
            "None\n",
            "\n",
            "Ratings Descriptive Statistics:\n",
            "count    100836.000000\n",
            "mean          3.501557\n",
            "std           1.042529\n",
            "min           0.500000\n",
            "25%           3.000000\n",
            "50%           3.500000\n",
            "75%           4.000000\n",
            "max           5.000000\n",
            "Name: rating, dtype: float64\n",
            "\n",
            "Number of unique users: 610\n",
            "Number of unique movies: 9724\n",
            "Full rating matrix elements: 5931640\n",
            "Number of ratings: 100836\n",
            "Matrix fill percentage: 1.6999683055613624 %\n"
          ]
        }
      ],
      "source": [
        "print('Movies DataFrame Dimensions:', movies_df.shape)\n",
        "print('\\nMovies DataFrame Sample:')\n",
        "print(movies_df.head())\n",
        "print('\\nRatings DataFrame Sample:')\n",
        "print(ratings_df.head())\n",
        "print('\\nRatings DataFrame Info:')\n",
        "print(ratings_df.info())\n",
        "print('\\nRatings Descriptive Statistics:')\n",
        "print(ratings_df['rating'].describe())\n",
        "\n",
        "movie_names = movies_df.set_index('movieId')['title'].to_dict()\n",
        "n_users = len(ratings_df.userId.unique())\n",
        "n_items = len(ratings_df.movieId.unique())\n",
        "print(\"\\nNumber of unique users:\", n_users)\n",
        "print(\"Number of unique movies:\", n_items)\n",
        "print(\"Full rating matrix elements:\", n_users * n_items)\n",
        "print(\"Number of ratings:\", len(ratings_df))\n",
        "print(\"Matrix fill percentage:\", len(ratings_df) / (n_users * n_items) * 100, '%')"
      ]
    },
    {
      "cell_type": "markdown",
      "metadata": {
        "id": "mGKOPBunShH-"
      },
      "source": [
        "# Data Preprocessing"
      ]
    },
    {
      "cell_type": "markdown",
      "source": [
        "filters the MovieLens ratings dataset and creates index mappings for users and movies. The `filter_data` function removes users with fewer than 20 ratings and movies with fewer than 5 ratings, reducing sparsity and yielding a filtered DataFrame with approximately 80,000–90,000 ratings, as indicated by the printed output. The `create_index_mappings` function generates dictionaries to map user and movie IDs to continuous indices and returns the number of unique users and movies. These steps prepare the data for efficient matrix operations in Matrix Factorization and Neural Collaborative Filtering models."
      ],
      "metadata": {
        "id": "89FzSfTTaFD6"
      }
    },
    {
      "cell_type": "code",
      "execution_count": null,
      "metadata": {
        "colab": {
          "base_uri": "https://localhost:8080/"
        },
        "id": "-7BHLBqJSlal",
        "outputId": "bb77a3b6-0762-47fc-ba8f-627ee81cae5e"
      },
      "outputs": [
        {
          "output_type": "stream",
          "name": "stdout",
          "text": [
            "Filtered data: 90274 ratings, 610 users, 3650 movies\n"
          ]
        }
      ],
      "source": [
        "def filter_data(ratings_df, min_ratings_user=20, min_ratings_movie=5):\n",
        "    user_counts = ratings_df['userId'].value_counts()\n",
        "    movie_counts = ratings_df['movieId'].value_counts()\n",
        "    filtered_df = ratings_df[\n",
        "        (ratings_df['userId'].isin(user_counts[user_counts >= min_ratings_user].index)) &\n",
        "        (ratings_df['movieId'].isin(movie_counts[movie_counts >= min_ratings_movie].index))\n",
        "    ]\n",
        "    print(f\"Filtered data: {len(filtered_df)} ratings, {len(filtered_df['userId'].unique())} users, {len(filtered_df['movieId'].unique())} movies\")\n",
        "    return filtered_df\n",
        "\n",
        "ratings_df_filtered = filter_data(ratings_df)\n",
        "\n",
        "def create_index_mappings(ratings_df):\n",
        "    user_ids = ratings_df['userId'].unique()\n",
        "    movie_ids = ratings_df['movieId'].unique()\n",
        "    userid2idx = {uid: idx for idx, uid in enumerate(user_ids)}\n",
        "    movieid2idx = {mid: idx for idx, mid in enumerate(movie_ids)}\n",
        "    return userid2idx, movieid2idx, len(user_ids), len(movie_ids)\n",
        "\n",
        "userid2idx, movieid2idx, n_users, n_items = create_index_mappings(ratings_df_filtered)"
      ]
    },
    {
      "cell_type": "markdown",
      "metadata": {
        "id": "iUfe5XogSse0"
      },
      "source": [
        "## Handling missing values"
      ]
    },
    {
      "cell_type": "markdown",
      "source": [
        "This cell checks for missing values in the filtered Dataset. Since the MovieLens dataset is well-curated, this typically shows zero missing values for columns like userId, movieId, rating, and timestamp, confirming the data’s integrity for subsequent modeling tasks."
      ],
      "metadata": {
        "id": "svlS9zyEYbJ3"
      }
    },
    {
      "cell_type": "code",
      "execution_count": null,
      "metadata": {
        "colab": {
          "base_uri": "https://localhost:8080/"
        },
        "id": "Wy1hxM9fSvWu",
        "outputId": "c9a166a4-b8af-4859-a223-36166bcccf2a"
      },
      "outputs": [
        {
          "output_type": "stream",
          "name": "stdout",
          "text": [
            "\n",
            "Missing Values Check:\n",
            "userId       0\n",
            "movieId      0\n",
            "rating       0\n",
            "timestamp    0\n",
            "dtype: int64\n"
          ]
        }
      ],
      "source": [
        "print(\"\\nMissing Values Check:\")\n",
        "print(ratings_df_filtered.isnull().sum())"
      ]
    },
    {
      "cell_type": "markdown",
      "source": [
        "# EDA"
      ],
      "metadata": {
        "id": "1SKB73SGdMMt"
      }
    },
    {
      "cell_type": "markdown",
      "source": [
        "This cell analyzes and visualizes the rating distribution of the filtered MovieLens dataset. It prints the proportion of 5.0 ratings and the mean and standard deviation of ratings, providing key summary statistics. Using Seaborn’s histplot, it generates a histogram of ratings with bins from 0.5 to 5.0, saves it as `rating_distribution.png`, and closes the plot, offering a visual confirmation of the right-skewed distribution for the recommendation system’s data exploration."
      ],
      "metadata": {
        "id": "N78kYzwkdQfw"
      }
    },
    {
      "cell_type": "code",
      "source": [
        "print(\"\\nRating Distribution Check:\")\n",
        "print(f\"Ratings = 5.0: {len(ratings_df_filtered[ratings_df_filtered['rating'] == 5.0]) / len(ratings_df_filtered):.4f}\")\n",
        "print(f\"Rating mean/std: {ratings_df_filtered['rating'].mean():.4f}/{ratings_df_filtered['rating'].std():.4f}\")\n",
        "\n",
        "plt.figure(figsize=(8, 6))\n",
        "sns.histplot(ratings_df_filtered['rating'], bins=np.arange(0.5, 5.5, 0.5), kde=False)\n",
        "plt.title('Rating Distribution')\n",
        "plt.xlabel('Rating')\n",
        "plt.ylabel('Count')\n",
        "plt.savefig('rating_distribution.png')\n",
        "plt.close()"
      ],
      "metadata": {
        "colab": {
          "base_uri": "https://localhost:8080/"
        },
        "id": "l49KonEgdOvg",
        "outputId": "f45720be-ed8e-45fb-be51-c30612cb0031"
      },
      "execution_count": null,
      "outputs": [
        {
          "output_type": "stream",
          "name": "stdout",
          "text": [
            "\n",
            "Rating Distribution Check:\n",
            "Ratings = 5.0: 0.1379\n",
            "Rating mean/std: 3.5374/1.0299\n"
          ]
        }
      ]
    },
    {
      "cell_type": "markdown",
      "metadata": {
        "id": "S5PI-YFDTExM"
      },
      "source": [
        "# Data Splitting"
      ]
    },
    {
      "cell_type": "markdown",
      "source": [
        "The `split_ratings_per_user` function splits ratings per user into training,  cross-validation, and test sets using Scikit-learn’s train_test_split, ensuring user-specific patterns are preserved across splits. This balanced split supports robust model training and evaluation."
      ],
      "metadata": {
        "id": "eZEsqcv6QsjC"
      }
    },
    {
      "cell_type": "code",
      "execution_count": null,
      "metadata": {
        "colab": {
          "base_uri": "https://localhost:8080/"
        },
        "id": "xVd5QiL6TGw4",
        "outputId": "5e7e0e48-8b44-442c-851a-02d84b8b9d6b"
      },
      "outputs": [
        {
          "output_type": "stream",
          "name": "stdout",
          "text": [
            "Train: 62620 ratings (69.4%)\n",
            "Cross-Validation: 13827 ratings (15.3%)\n",
            "Test: 13827 ratings (15.3%)\n",
            "\n",
            "Split Integrity Check:\n",
            "Train-CV overlap: 0\n",
            "Train-Test overlap: 0\n",
            "CV-Test overlap: 0\n"
          ]
        }
      ],
      "source": [
        "def split_ratings_per_user(ratings_df, train_ratio=0.7, cv_ratio=0.15, test_ratio=0.15, random_state=42):\n",
        "    train_data, cv_data, test_data = [], [], []\n",
        "    for user_id, user_ratings in ratings_df.groupby('userId'):\n",
        "        if len(user_ratings) < 3:\n",
        "            continue\n",
        "        train_cv_ratings, test_ratings = train_test_split(\n",
        "            user_ratings, test_size=test_ratio, random_state=random_state, shuffle=True\n",
        "        )\n",
        "        train_ratio_adjusted = train_ratio / (train_ratio + cv_ratio)\n",
        "        train_ratings, cv_ratings = train_test_split(\n",
        "            train_cv_ratings, test_size=1 - train_ratio_adjusted, random_state=random_state, shuffle=True\n",
        "        )\n",
        "        train_data.append(train_ratings)\n",
        "        cv_data.append(cv_ratings)\n",
        "        test_data.append(test_ratings)\n",
        "    train_df = pd.concat(train_data, ignore_index=True)\n",
        "    cv_df = pd.concat(cv_data, ignore_index=True)\n",
        "    test_df = pd.concat(test_data, ignore_index=True)\n",
        "    print(f\"Train: {len(train_df)} ratings ({len(train_df)/len(ratings_df)*100:.1f}%)\")\n",
        "    print(f\"Cross-Validation: {len(cv_df)} ratings ({len(cv_df)/len(ratings_df)*100:.1f}%)\")\n",
        "    print(f\"Test: {len(test_df)} ratings ({len(test_df)/len(ratings_df)*100:.1f}%)\")\n",
        "    return train_df, cv_df, test_df\n",
        "\n",
        "train_df, cv_df, test_df = split_ratings_per_user(ratings_df_filtered)\n",
        "\n",
        "train_pairs = set(zip(train_df['userId'], train_df['movieId']))\n",
        "cv_pairs = set(zip(cv_df['userId'], cv_df['movieId']))\n",
        "test_pairs = set(zip(test_df['userId'], test_df['movieId']))\n",
        "print(\"\\nSplit Integrity Check:\")\n",
        "print(\"Train-CV overlap:\", len(train_pairs & cv_pairs))\n",
        "print(\"Train-Test overlap:\", len(train_pairs & test_pairs))\n",
        "print(\"CV-Test overlap:\", len(cv_pairs & test_pairs))"
      ]
    },
    {
      "cell_type": "markdown",
      "source": [
        "# Model Building"
      ],
      "metadata": {
        "id": "2xD_tYXJXqAL"
      }
    },
    {
      "cell_type": "markdown",
      "source": [
        "**Matrix Factorization:** models user-movie interactions using 20-dimensional embeddings in `user_factors` and `item_factors`, computing dot products in forward to predict ratings, optimized over 200 epochs with Adam (learning rate 1e-3, weight decay 1e-4) to minimize MSE loss, balancing sparsity handling and predictive accuracy.\n",
        "\n",
        "**Funk SVD:** Funk SVD decomposes the rating matrix into 30-dimensional `user (P)` and `item (Q)` factors in funk_svd, incorporating user and item biases, optimized via stochastic gradient descent with learning rate decay (lr=0.02, reg=0.01) over 200 epochs to minimize squared error, enhanced by RPCA to impute missing ratings for improved prediction accuracy.\n",
        "\n",
        "**NCF:** NCF combines GMF and MLP branches in `build_ncf_model`, using 64-dimensional embeddings with L2 regularization (l2_lambda=1e-4) and MLP layers ([128, 64, 32]) to predict ratings, trained in train_ncf with Adam (lr=0.001) over 50 epochs, minimizing MSE loss with early stopping to balance non-linear modeling and overfitting.\n",
        "\n",
        "**NCF + Contrastive learning:** NCF with Contrastive Learning extends NCF in build_ncf_model by integrating contrastive_loss (InfoNCE) to align user and item embeddings (GMF and MLP) in train_ncf, using negative sampling via `generate_negative_samples` and optimizing a combined MSE and contrastive loss (alpha=0.01, l2_lambda=1e-5) with Adam (lr=0.0005) over 50 epochs, enhancing embedding quality and generalization."
      ],
      "metadata": {
        "id": "BsrqHfKNY6XR"
      }
    },
    {
      "cell_type": "markdown",
      "metadata": {
        "id": "-LRAAvc-TJtN"
      },
      "source": [
        "## Original Matrix Factorization"
      ]
    },
    {
      "cell_type": "code",
      "execution_count": null,
      "metadata": {
        "colab": {
          "base_uri": "https://localhost:8080/",
          "height": 1000,
          "referenced_widgets": [
            "fd1651909c404035a12a64f13f77b620",
            "d9b434845406470f9f0d7bcba58a1eba",
            "a91b868a492e49bd91804f8327f7aab3",
            "47aa34e1929346c29958ee3b39e71243",
            "1f941fe3f8f343d89b3e528da791e962",
            "90f076820e4f49b1ad945ddc8606c10d",
            "dadd7525fbd84b0bb995708bdc076689",
            "05204493607e484f98c7537537ed3a40",
            "8011a128082b47639883cce79223d78f",
            "ad6ec1b69d544518b64997c862748c53",
            "6fc363c807a24045a0a2c72c648bae39",
            "eed4e04d21ae4a049c72c61231a07539",
            "255765c3f5774c25b0afecc1be9aff87",
            "18abb260d17949d9b4c966b7ca0a528b",
            "b48aa3243d1640fa89deea2d208a28db",
            "1c17d1ff019b4172a36bc78ba677db35",
            "3cf5964270fd406c99affb5d92dfd756",
            "1905c32e5b754eecad01cb62ea80f1f0",
            "04efdb3dc6554694925351ae4cab64d0",
            "24a2a52771624232a848d305528c3be5",
            "1ae7f941689347529ecb83a7e50f2f21",
            "968e02d899eb40649b7855346bf9bdad",
            "905e7ce99f014e23ac32b7118a02a3a2",
            "fb671b48b9654a7586f5dff959691848",
            "10413d2dbaa94bff918144f17c215de9",
            "a8070aa9fa5d4b7982b53896fa630557",
            "3d0bf346cc644dfca9546864aefffd7c",
            "361975cab03949b5bcfe3ec5feb1f1d5",
            "9e11003760f44792b79d460d3449e251",
            "3d81384147074a2b9fe4e30048e34477",
            "654bad38659a48d38f493653c35b42e8",
            "f55246c9592e4113865bdbc489878e5c",
            "c7a88384c06c4a9b823174bca87c38c4",
            "d4f35a301c7c4a69b0787062ab632a2b",
            "6be208f286c1497d8f8f9e18e66d6d83",
            "6f1852e82cb84d659a970403fbbeeda9",
            "98486f48ec6e425a95d41a61f1a31aa6",
            "5977136d5036487596383c67fc7aa293",
            "84754fd7b126434bb32aa250a2d0fe95",
            "78b2cab0a72c4c7d8a3f51f28e4a1ef2",
            "7361a60f4a694bf9a02dabea02c972a2",
            "0c407af8e653448dbf9b30ed8bff5580",
            "628163ede34045669663df188ead2148",
            "5dcbd04115154de9953b6195410666ed",
            "bb69f28a60f0466da1fb2a09e676c5bd",
            "a26c21a1ad92439e86cc40f181041c2e",
            "267b58e0accb4604b657aced27fd130d",
            "7da76018cf9a4940aa7914fbcc937c12",
            "57d18b1606c34c93af18cc603c4498b4",
            "72ac6b6ac89d456b8e2ef306fc1aaaf9",
            "0ba96791a8db47ac9e80564b769ee275",
            "ac8601457bd546e7862aff777cb90cf8",
            "a2cb9176b8b64521a7a4e308297ee57c",
            "edb652e73d8c4e288256b54134a7ce0f",
            "4ffe29ec43d846afb98f83efa732d225",
            "d08e22aa2ed941c58a5830c0a9483ffe",
            "0ad52d3293af41198d0d0b6874d987e3",
            "0f283950b3d04fa49184e40b053005be",
            "00746b7929d14ad58b798d3b057a30c2",
            "f219b1c5b9334493ad99c95a2d602fa2",
            "0ef0fe71c23c476cac9a9628abadabbe",
            "8648e7d7a99649d7bdfab13d24b82436",
            "3e9e2fd438fb4d67843bc6c4179afe15",
            "2037152681bd4bfda3fa0045b4a1811e",
            "8c685096571347f2a79f32eaf56fa085",
            "de23249d8f1d4ad1857574aae6295bd9",
            "4a8b45ca07414cc4a104951a8cce66b8",
            "5374d80d47444f6e92b664b9c423428e",
            "468140afe88a4211b1342a7e110b7d0f",
            "0db63eaf85b24b5ea30cfbc162c07954",
            "ca1d081de8e847af9f27895ba00a1731",
            "b5ec46191b034fb8bfa8e12ea450f8be",
            "9d2e46fa421743f2a010f132c1f3ade4",
            "35d185d8579c4798a8b91894e46bfb2f",
            "cbdc708eff3941479b59d98594bce210",
            "289c2b062436473eb07fa6bd5158ed92",
            "59997605faaa49b3b98c404182441c16"
          ]
        },
        "id": "oZT1E1lSTNKH",
        "outputId": "a46a0f19-531a-426f-8383-1ad4542b9806"
      },
      "outputs": [
        {
          "output_type": "stream",
          "name": "stdout",
          "text": [
            "Loaded data: 100836 ratings, 610 users, 9724 movies\n",
            "Filtered data: 90274 ratings, 610 users, 3650 movies\n"
          ]
        },
        {
          "output_type": "display_data",
          "data": {
            "text/plain": [
              "Training:   0%|          | 0/200 [00:00<?, ?it/s]"
            ],
            "application/vnd.jupyter.widget-view+json": {
              "version_major": 2,
              "version_minor": 0,
              "model_id": "fd1651909c404035a12a64f13f77b620"
            }
          },
          "metadata": {}
        },
        {
          "output_type": "stream",
          "name": "stdout",
          "text": [
            "Epoch 0, Loss: 11.2868\n",
            "Epoch 1, Loss: 4.4828\n",
            "Epoch 2, Loss: 2.0910\n",
            "Epoch 3, Loss: 1.3772\n",
            "Epoch 4, Loss: 1.0628\n",
            "Epoch 5, Loss: 0.9077\n",
            "Epoch 6, Loss: 0.8228\n",
            "Epoch 7, Loss: 0.7755\n",
            "Epoch 8, Loss: 0.7487\n",
            "Epoch 9, Loss: 0.7330\n",
            "Epoch 10, Loss: 0.7239\n",
            "Epoch 11, Loss: 0.7189\n",
            "Epoch 12, Loss: 0.7160\n",
            "Epoch 13, Loss: 0.7147\n",
            "Epoch 14, Loss: 0.7127\n",
            "Epoch 15, Loss: 0.7126\n",
            "Epoch 16, Loss: 0.7118\n",
            "Epoch 17, Loss: 0.7109\n",
            "Epoch 18, Loss: 0.7113\n",
            "Epoch 19, Loss: 0.7103\n",
            "Epoch 20, Loss: 0.7123\n",
            "Epoch 21, Loss: 0.7101\n",
            "Epoch 22, Loss: 0.7091\n",
            "Epoch 23, Loss: 0.7091\n",
            "Epoch 24, Loss: 0.7093\n",
            "Epoch 25, Loss: 0.7081\n",
            "Epoch 26, Loss: 0.7075\n",
            "Epoch 27, Loss: 0.7071\n",
            "Epoch 28, Loss: 0.7037\n",
            "Epoch 29, Loss: 0.7034\n",
            "Epoch 30, Loss: 0.7019\n",
            "Epoch 31, Loss: 0.7001\n",
            "Epoch 32, Loss: 0.6971\n",
            "Epoch 33, Loss: 0.6929\n",
            "Epoch 34, Loss: 0.6907\n",
            "Epoch 35, Loss: 0.6849\n",
            "Epoch 36, Loss: 0.6789\n",
            "Epoch 37, Loss: 0.6716\n",
            "Epoch 38, Loss: 0.6637\n",
            "Epoch 39, Loss: 0.6544\n",
            "Epoch 40, Loss: 0.6443\n",
            "Epoch 41, Loss: 0.6331\n",
            "Epoch 42, Loss: 0.6206\n",
            "Epoch 43, Loss: 0.6059\n",
            "Epoch 44, Loss: 0.5924\n",
            "Epoch 45, Loss: 0.5768\n",
            "Epoch 46, Loss: 0.5621\n",
            "Epoch 47, Loss: 0.5468\n",
            "Epoch 48, Loss: 0.5314\n",
            "Epoch 49, Loss: 0.5172\n",
            "Epoch 50, Loss: 0.5022\n",
            "Epoch 51, Loss: 0.4876\n",
            "Epoch 52, Loss: 0.4742\n",
            "Epoch 53, Loss: 0.4609\n",
            "Epoch 54, Loss: 0.4478\n",
            "Epoch 55, Loss: 0.4362\n",
            "Epoch 56, Loss: 0.4236\n",
            "Epoch 57, Loss: 0.4124\n",
            "Epoch 58, Loss: 0.4023\n",
            "Epoch 59, Loss: 0.3919\n",
            "Epoch 60, Loss: 0.3821\n",
            "Epoch 61, Loss: 0.3734\n",
            "Epoch 62, Loss: 0.3643\n",
            "Epoch 63, Loss: 0.3561\n",
            "Epoch 64, Loss: 0.3484\n",
            "Epoch 65, Loss: 0.3413\n",
            "Epoch 66, Loss: 0.3343\n",
            "Epoch 67, Loss: 0.3274\n",
            "Epoch 68, Loss: 0.3216\n",
            "Epoch 69, Loss: 0.3150\n",
            "Epoch 70, Loss: 0.3100\n",
            "Epoch 71, Loss: 0.3044\n",
            "Epoch 72, Loss: 0.2995\n",
            "Epoch 73, Loss: 0.2949\n",
            "Epoch 74, Loss: 0.2907\n",
            "Epoch 75, Loss: 0.2863\n",
            "Epoch 76, Loss: 0.2822\n",
            "Epoch 77, Loss: 0.2782\n",
            "Epoch 78, Loss: 0.2749\n",
            "Epoch 79, Loss: 0.2716\n",
            "Epoch 80, Loss: 0.2684\n",
            "Epoch 81, Loss: 0.2649\n",
            "Epoch 82, Loss: 0.2625\n",
            "Epoch 83, Loss: 0.2598\n",
            "Epoch 84, Loss: 0.2570\n",
            "Epoch 85, Loss: 0.2544\n",
            "Epoch 86, Loss: 0.2523\n",
            "Epoch 87, Loss: 0.2499\n",
            "Epoch 88, Loss: 0.2480\n",
            "Epoch 89, Loss: 0.2461\n",
            "Epoch 90, Loss: 0.2442\n",
            "Epoch 91, Loss: 0.2427\n",
            "Epoch 92, Loss: 0.2404\n",
            "Epoch 93, Loss: 0.2384\n",
            "Epoch 94, Loss: 0.2376\n",
            "Epoch 95, Loss: 0.2354\n",
            "Epoch 96, Loss: 0.2341\n",
            "Epoch 97, Loss: 0.2329\n",
            "Epoch 98, Loss: 0.2318\n",
            "Epoch 99, Loss: 0.2298\n",
            "Epoch 100, Loss: 0.2295\n",
            "Epoch 101, Loss: 0.2279\n",
            "Epoch 102, Loss: 0.2266\n",
            "Epoch 103, Loss: 0.2258\n",
            "Epoch 104, Loss: 0.2250\n",
            "Epoch 105, Loss: 0.2240\n",
            "Epoch 106, Loss: 0.2229\n",
            "Epoch 107, Loss: 0.2223\n",
            "Epoch 108, Loss: 0.2210\n",
            "Epoch 109, Loss: 0.2203\n",
            "Epoch 110, Loss: 0.2196\n",
            "Epoch 111, Loss: 0.2187\n",
            "Epoch 112, Loss: 0.2183\n",
            "Epoch 113, Loss: 0.2174\n",
            "Epoch 114, Loss: 0.2166\n",
            "Epoch 115, Loss: 0.2159\n",
            "Epoch 116, Loss: 0.2157\n",
            "Epoch 117, Loss: 0.2145\n",
            "Epoch 118, Loss: 0.2141\n",
            "Epoch 119, Loss: 0.2133\n",
            "Epoch 120, Loss: 0.2130\n",
            "Epoch 121, Loss: 0.2121\n",
            "Epoch 122, Loss: 0.2126\n",
            "Epoch 123, Loss: 0.2116\n",
            "Epoch 124, Loss: 0.2107\n",
            "Epoch 125, Loss: 0.2105\n",
            "Epoch 126, Loss: 0.2097\n",
            "Epoch 127, Loss: 0.2097\n",
            "Epoch 128, Loss: 0.2089\n",
            "Epoch 129, Loss: 0.2086\n",
            "Epoch 130, Loss: 0.2086\n",
            "Epoch 131, Loss: 0.2079\n",
            "Epoch 132, Loss: 0.2074\n",
            "Epoch 133, Loss: 0.2070\n",
            "Epoch 134, Loss: 0.2066\n",
            "Epoch 135, Loss: 0.2065\n",
            "Epoch 136, Loss: 0.2058\n",
            "Epoch 137, Loss: 0.2057\n",
            "Epoch 138, Loss: 0.2055\n",
            "Epoch 139, Loss: 0.2052\n",
            "Epoch 140, Loss: 0.2049\n",
            "Epoch 141, Loss: 0.2044\n",
            "Epoch 142, Loss: 0.2042\n",
            "Epoch 143, Loss: 0.2037\n",
            "Epoch 144, Loss: 0.2035\n",
            "Epoch 145, Loss: 0.2031\n",
            "Epoch 146, Loss: 0.2029\n",
            "Epoch 147, Loss: 0.2029\n",
            "Epoch 148, Loss: 0.2022\n",
            "Epoch 149, Loss: 0.2022\n",
            "Epoch 150, Loss: 0.2019\n",
            "Epoch 151, Loss: 0.2015\n",
            "Epoch 152, Loss: 0.2013\n",
            "Epoch 153, Loss: 0.2009\n",
            "Epoch 154, Loss: 0.2012\n",
            "Epoch 155, Loss: 0.2005\n",
            "Epoch 156, Loss: 0.2005\n",
            "Epoch 157, Loss: 0.2007\n",
            "Epoch 158, Loss: 0.1998\n",
            "Epoch 159, Loss: 0.2000\n",
            "Epoch 160, Loss: 0.1998\n",
            "Epoch 161, Loss: 0.1995\n",
            "Epoch 162, Loss: 0.1993\n",
            "Epoch 163, Loss: 0.1992\n",
            "Epoch 164, Loss: 0.1984\n",
            "Epoch 165, Loss: 0.1988\n",
            "Epoch 166, Loss: 0.1981\n",
            "Epoch 167, Loss: 0.1983\n",
            "Epoch 168, Loss: 0.1980\n",
            "Epoch 169, Loss: 0.1978\n",
            "Epoch 170, Loss: 0.1977\n",
            "Epoch 171, Loss: 0.1975\n",
            "Epoch 172, Loss: 0.1975\n",
            "Epoch 173, Loss: 0.1971\n",
            "Epoch 174, Loss: 0.1969\n",
            "Epoch 175, Loss: 0.1969\n",
            "Epoch 176, Loss: 0.1966\n",
            "Epoch 177, Loss: 0.1968\n",
            "Epoch 178, Loss: 0.1966\n",
            "Epoch 179, Loss: 0.1960\n",
            "Epoch 180, Loss: 0.1963\n",
            "Epoch 181, Loss: 0.1963\n",
            "Epoch 182, Loss: 0.1960\n",
            "Epoch 183, Loss: 0.1959\n",
            "Epoch 184, Loss: 0.1953\n",
            "Epoch 185, Loss: 0.1955\n",
            "Epoch 186, Loss: 0.1954\n",
            "Epoch 187, Loss: 0.1953\n",
            "Epoch 188, Loss: 0.1951\n",
            "Epoch 189, Loss: 0.1948\n",
            "Epoch 190, Loss: 0.1950\n",
            "Epoch 191, Loss: 0.1947\n",
            "Epoch 192, Loss: 0.1946\n",
            "Epoch 193, Loss: 0.1944\n",
            "Epoch 194, Loss: 0.1946\n",
            "Epoch 195, Loss: 0.1940\n",
            "Epoch 196, Loss: 0.1940\n",
            "Epoch 197, Loss: 0.1939\n",
            "Epoch 198, Loss: 0.1936\n",
            "Epoch 199, Loss: 0.1939\n",
            "\n",
            "Split Integrity Check:\n",
            "Train-CV overlap: 0\n",
            "Train-Test overlap: 0\n",
            "CV-Test overlap: 0\n"
          ]
        },
        {
          "output_type": "display_data",
          "data": {
            "text/plain": [
              "Collecting Predictions (Training):   0%|          | 0/490 [00:00<?, ?it/s]"
            ],
            "application/vnd.jupyter.widget-view+json": {
              "version_major": 2,
              "version_minor": 0,
              "model_id": "eed4e04d21ae4a049c72c61231a07539"
            }
          },
          "metadata": {}
        },
        {
          "output_type": "display_data",
          "data": {
            "text/plain": [
              "Evaluating Users (Training):   0%|          | 0/610 [00:00<?, ?it/s]"
            ],
            "application/vnd.jupyter.widget-view+json": {
              "version_major": 2,
              "version_minor": 0,
              "model_id": "905e7ce99f014e23ac32b7118a02a3a2"
            }
          },
          "metadata": {}
        },
        {
          "output_type": "stream",
          "name": "stdout",
          "text": [
            "\n",
            "Metrics for Training Dataset:\n",
            "Accuracy (±0.5 tolerance): 0.7987\n",
            "Precision@20: 0.4011\n",
            "Recall@20: 0.7822\n",
            "F1-score@20: 0.4711\n",
            "NDCG@20: 0.7678\n"
          ]
        },
        {
          "output_type": "display_data",
          "data": {
            "text/plain": [
              "Collecting Predictions (Cross-Validation):   0%|          | 0/109 [00:00<?, ?it/s]"
            ],
            "application/vnd.jupyter.widget-view+json": {
              "version_major": 2,
              "version_minor": 0,
              "model_id": "d4f35a301c7c4a69b0787062ab632a2b"
            }
          },
          "metadata": {}
        },
        {
          "output_type": "display_data",
          "data": {
            "text/plain": [
              "Evaluating Users (Cross-Validation):   0%|          | 0/610 [00:00<?, ?it/s]"
            ],
            "application/vnd.jupyter.widget-view+json": {
              "version_major": 2,
              "version_minor": 0,
              "model_id": "bb69f28a60f0466da1fb2a09e676c5bd"
            }
          },
          "metadata": {}
        },
        {
          "output_type": "stream",
          "name": "stdout",
          "text": [
            "\n",
            "Metrics for Cross-Validation Dataset:\n",
            "Accuracy (±0.5 tolerance): 0.4008\n",
            "Precision@20: 0.0666\n",
            "Recall@20: 0.3688\n",
            "F1-score@20: 0.2320\n",
            "NDCG@20: 0.2238\n"
          ]
        },
        {
          "output_type": "display_data",
          "data": {
            "text/plain": [
              "Collecting Predictions (Test):   0%|          | 0/109 [00:00<?, ?it/s]"
            ],
            "application/vnd.jupyter.widget-view+json": {
              "version_major": 2,
              "version_minor": 0,
              "model_id": "d08e22aa2ed941c58a5830c0a9483ffe"
            }
          },
          "metadata": {}
        },
        {
          "output_type": "display_data",
          "data": {
            "text/plain": [
              "Evaluating Users (Test):   0%|          | 0/610 [00:00<?, ?it/s]"
            ],
            "application/vnd.jupyter.widget-view+json": {
              "version_major": 2,
              "version_minor": 0,
              "model_id": "4a8b45ca07414cc4a104951a8cce66b8"
            }
          },
          "metadata": {}
        },
        {
          "output_type": "stream",
          "name": "stdout",
          "text": [
            "\n",
            "Metrics for Test Dataset:\n",
            "Accuracy (±0.5 tolerance): 0.4088\n",
            "Precision@20: 0.0716\n",
            "Recall@20: 0.3712\n",
            "F1-score@20: 0.2400\n",
            "NDCG@20: 0.2311\n"
          ]
        }
      ],
      "source": [
        "def load_data(file_path):\n",
        "    try:\n",
        "        ratings_df = pd.read_csv('data/ml-latest-small/ratings.csv')\n",
        "        if not all(col in ratings_df.columns for col in ['userId', 'movieId', 'rating']):\n",
        "            raise ValueError(\"ratings_df must contain 'userId', 'movieId', and 'rating' columns\")\n",
        "        print(f\"Loaded data: {len(ratings_df)} ratings, {len(ratings_df['userId'].unique())} users, {len(ratings_df['movieId'].unique())} movies\")\n",
        "        return ratings_df\n",
        "    except Exception as e:\n",
        "        print(f\"Error loading data: {e}\")\n",
        "        raise\n",
        "\n",
        "def split_ratings_per_user(ratings_df, train_ratio=0.7, cv_ratio=0.15, test_ratio=0.15, random_state=456):\n",
        "    try:\n",
        "        train_data = []\n",
        "        cv_data = []\n",
        "        test_data = []\n",
        "        for user_id, user_ratings in ratings_df.groupby('userId'):\n",
        "            if len(user_ratings) < 3:\n",
        "                continue\n",
        "            train_cv_ratings, test_ratings = train_test_split(\n",
        "                user_ratings, test_size=test_ratio, random_state=random_state, shuffle=True\n",
        "            )\n",
        "            train_ratio_adjusted = train_ratio / (train_ratio + cv_ratio)\n",
        "            train_ratings, cv_ratings = train_test_split(\n",
        "                train_cv_ratings, test_size=1 - train_ratio_adjusted, random_state=random_state, shuffle=True\n",
        "            )\n",
        "            train_data.append(train_ratings)\n",
        "            cv_data.append(cv_ratings)\n",
        "            test_data.append(test_ratings)\n",
        "        return pd.concat(train_data, ignore_index=True), pd.concat(cv_data, ignore_index=True), pd.concat(test_data, ignore_index=True)\n",
        "    except Exception as e:\n",
        "        print(f\"Error in split_ratings_per_user: {e}\")\n",
        "        return ratings_df, ratings_df, ratings_df\n",
        "\n",
        "ratings_df = load_data('ratings.csv')\n",
        "ratings_df_filtered = filter_data(ratings_df, min_ratings_user=20, min_ratings_movie=5)\n",
        "train_ratings, cv_ratings, test_ratings = split_ratings_per_user(ratings_df_filtered, random_state=456)\n",
        "\n",
        "\n",
        "userid2idx = {uid: idx for idx, uid in enumerate(ratings_df_filtered['userId'].unique())}\n",
        "movieid2idx = {mid: idx for idx, mid in enumerate(ratings_df_filtered['movieId'].unique())}\n",
        "n_users = len(userid2idx)\n",
        "n_items = len(movieid2idx)\n",
        "\n",
        "class Loader(Dataset):\n",
        "    def __init__(self, ratings_df, userid2idx, movieid2idx):\n",
        "        self.ratings = ratings_df.copy()\n",
        "        self.userid2idx = userid2idx\n",
        "        self.movieid2idx = movieid2idx\n",
        "        self.idx2userid = {idx: uid for uid, idx in userid2idx.items()}\n",
        "        self.idx2movieid = {idx: mid for mid, idx in movieid2idx.items()}\n",
        "        self.ratings['user_idx'] = self.ratings['userId'].map(self.userid2idx)\n",
        "        self.ratings['movie_idx'] = self.ratings['movieId'].map(self.movieid2idx)\n",
        "        initial_len = len(self.ratings)\n",
        "        self.ratings = self.ratings.dropna(subset=['user_idx', 'movie_idx'])\n",
        "        dropped_rows = initial_len - len(self.ratings)\n",
        "        if dropped_rows > 0:\n",
        "            print(f\"Warning: Dropped {dropped_rows} rows due to invalid user or movie IDs\")\n",
        "        self.ratings['user_idx'] = self.ratings['user_idx'].astype(int)\n",
        "        self.ratings['movie_idx'] = self.ratings['movie_idx'].astype(int)\n",
        "        self.data = torch.tensor(self.ratings[['user_idx', 'movie_idx']].values).long()\n",
        "        self.y = torch.tensor(self.ratings['rating'].values).float()\n",
        "\n",
        "    def __len__(self):\n",
        "        return len(self.ratings)\n",
        "\n",
        "    def __getitem__(self, idx):\n",
        "        return self.data[idx], self.y[idx]\n",
        "\n",
        "batch_size = 128\n",
        "train_dataset = Loader(train_ratings, userid2idx, movieid2idx)\n",
        "cv_dataset = Loader(cv_ratings, userid2idx, movieid2idx)\n",
        "test_dataset = Loader(test_ratings, userid2idx, movieid2idx)\n",
        "\n",
        "train_loader = DataLoader(train_dataset, batch_size=batch_size, shuffle=True)\n",
        "cv_loader = DataLoader(cv_dataset, batch_size=batch_size, shuffle=False)\n",
        "test_loader = DataLoader(test_dataset, batch_size=batch_size, shuffle=False)\n",
        "\n",
        "class MatrixFactorization(torch.nn.Module):\n",
        "    def __init__(self, n_users, n_items, n_factors=20):\n",
        "        super().__init__()\n",
        "        self.user_factors = torch.nn.Embedding(n_users, n_factors)\n",
        "        self.item_factors = torch.nn.Embedding(n_items, n_factors)\n",
        "        self.user_factors.weight.data.uniform_(0, 0.05)\n",
        "        self.item_factors.weight.data.uniform_(0, 0.05)\n",
        "\n",
        "    def forward(self, data):\n",
        "        users, items = data[:, 0], data[:, 1]\n",
        "        return (self.user_factors(users) * self.item_factors(items)).sum(1)\n",
        "\n",
        "    def predict(self, user, item):\n",
        "        return self.forward(torch.stack([user, item], dim=1))\n",
        "\n",
        "cuda = torch.cuda.is_available()\n",
        "model = MatrixFactorization(n_users, n_items, n_factors=20)\n",
        "if cuda:\n",
        "    model = model.cuda()\n",
        "loss_fn = torch.nn.MSELoss()\n",
        "optimizer = torch.optim.Adam(model.parameters(), lr=1e-3, weight_decay=1e-4)\n",
        "num_epochs = 200\n",
        "\n",
        "for it in tqdm(range(num_epochs), desc=\"Training\"):\n",
        "    losses = []\n",
        "    for x, y in train_loader:\n",
        "        if cuda:\n",
        "            x, y = x.cuda(), y.cuda()\n",
        "        optimizer.zero_grad()\n",
        "        outputs = model(x)\n",
        "        loss = loss_fn(outputs.squeeze(), y.type(torch.float32))\n",
        "        losses.append(loss.item())\n",
        "        loss.backward()\n",
        "        optimizer.step()\n",
        "    print(f\"Epoch {it}, Loss: {sum(losses) / len(losses):.4f}\")\n",
        "\n",
        "def evaluate_dataset(loader, dataset_name, k=20, relevance_threshold=5.0, tolerance=0.5):\n",
        "    model.eval()\n",
        "    predicted_ratings = []\n",
        "    actual_ratings = []\n",
        "    user_indices = []\n",
        "    movie_indices = []\n",
        "    with torch.no_grad():\n",
        "        for x, y in tqdm(loader, desc=f\"Collecting Predictions ({dataset_name})\"):\n",
        "            if cuda:\n",
        "                x = x.cuda()\n",
        "            outputs = model(x).squeeze()\n",
        "            predicted_ratings.extend(outputs.cpu().numpy())\n",
        "            actual_ratings.extend(y.numpy())\n",
        "            user_indices.extend(x[:, 0].cpu().numpy())\n",
        "            movie_indices.extend(x[:, 1].cpu().numpy())\n",
        "    eval_df = pd.DataFrame({\n",
        "        'user_idx': user_indices,\n",
        "        'movie_idx': movie_indices,\n",
        "        'predicted_rating': predicted_ratings,\n",
        "        'actual_rating': actual_ratings\n",
        "    })\n",
        "    invalid_user_idx = eval_df[~eval_df['user_idx'].isin(loader.dataset.idx2userid.keys())]['user_idx']\n",
        "    invalid_movie_idx = eval_df[~eval_df['movie_idx'].isin(loader.dataset.idx2movieid.keys())]['movie_idx']\n",
        "    if not invalid_user_idx.empty:\n",
        "        print(f\"Warning: Invalid user_idx found: {invalid_user_idx.unique()}\")\n",
        "    if not invalid_movie_idx.empty:\n",
        "        print(f\"Warning: Invalid movie_idx found: {invalid_movie_idx.unique()}\")\n",
        "        eval_df = eval_df[eval_df['movie_idx'].isin(loader.dataset.idx2movieid.keys())]\n",
        "        print(f\"Filtered out {len(invalid_movie_idx)} invalid movie_idx entries\")\n",
        "    eval_df['userId'] = eval_df['user_idx'].apply(lambda x: loader.dataset.idx2userid.get(x, -1))\n",
        "    eval_df['movieId'] = eval_df['movie_idx'].apply(lambda x: loader.dataset.idx2movieid.get(x, -1))\n",
        "    eval_df = eval_df[(eval_df['userId'] != -1) & (eval_df['movieId'] != -1)]\n",
        "    if eval_df.empty:\n",
        "        print(f\"Error: No valid data left after filtering invalid indices for {dataset_name}\")\n",
        "        return\n",
        "    eval_df['correct'] = (abs(eval_df['predicted_rating'] - eval_df['actual_rating']) <= tolerance).astype(int)\n",
        "    accuracy = eval_df['correct'].mean()\n",
        "    precision_scores = []\n",
        "    recall_scores = []\n",
        "    f1_scores = []\n",
        "    ndcg_scores = []\n",
        "    def ndcg_at_k(actual, predicted, k):\n",
        "        sorted_indices = np.argsort(predicted)[::-1][:k]\n",
        "        actual_k = actual[sorted_indices]\n",
        "        relevant = (actual_k >= relevance_threshold).astype(int)\n",
        "        dcg = sum(rel / np.log2(i + 2) for i, rel in enumerate(relevant))\n",
        "        ideal_relevant = np.sort(relevant)[::-1][:k]\n",
        "        idcg = sum(rel / np.log2(i + 2) for i, rel in enumerate(ideal_relevant))\n",
        "        return dcg / idcg if idcg > 0 else 0.0\n",
        "    for user_id in tqdm(eval_df['userId'].unique(), desc=f\"Evaluating Users ({dataset_name})\"):\n",
        "        user_data = eval_df[eval_df['userId'] == user_id]\n",
        "        if len(user_data) < k:\n",
        "            user_idx = loader.dataset.userid2idx[user_id]\n",
        "            all_movie_indices = list(loader.dataset.movieid2idx.values())\n",
        "            user_tensor = torch.tensor([user_idx] * len(all_movie_indices)).long()\n",
        "            movie_tensor = torch.tensor(all_movie_indices).long()\n",
        "            data = torch.stack([user_tensor, movie_tensor], dim=1)\n",
        "            if cuda:\n",
        "                data = data.cuda()\n",
        "            with torch.no_grad():\n",
        "                preds = model(data).squeeze().cpu().numpy()\n",
        "            user_data = pd.DataFrame({\n",
        "                'movie_idx': all_movie_indices,\n",
        "                'predicted_rating': preds,\n",
        "                'actual_rating': [eval_df[(eval_df['userId'] == user_id) & (eval_df['movie_idx'] == idx)]['actual_rating'].iloc[0] if idx in user_data['movie_idx'].values else np.nan for idx in all_movie_indices]\n",
        "            })\n",
        "            user_data['actual_rating'] = user_data['actual_rating'].fillna(3.0)\n",
        "        top_k_pred = user_data.nlargest(k, 'predicted_rating')\n",
        "        actual_ratings_k = top_k_pred['actual_rating'].values\n",
        "        predicted_ratings_k = top_k_pred['predicted_rating'].values\n",
        "        relevant = (actual_ratings_k >= relevance_threshold).astype(int)\n",
        "        precision = np.mean(relevant)\n",
        "        precision_scores.append(precision)\n",
        "        all_relevant = (user_data['actual_rating'] >= relevance_threshold).sum()\n",
        "        if all_relevant > 0:\n",
        "            recall = np.sum(relevant) / all_relevant\n",
        "            recall_scores.append(recall)\n",
        "        if precision > 0 and recall > 0:\n",
        "            f1 = 2 * (precision * recall) / (precision + recall)\n",
        "            f1_scores.append(f1)\n",
        "        ndcg = ndcg_at_k(actual_ratings_k, predicted_ratings_k, k)\n",
        "        ndcg_scores.append(ndcg)\n",
        "    print(f\"\\nMetrics for {dataset_name} Dataset:\")\n",
        "    print(f\"Accuracy (±{tolerance} tolerance): {accuracy:.4f}\")\n",
        "    print(f\"Precision@{k}: {np.mean(precision_scores):.4f}\")\n",
        "    print(f\"Recall@{k}: {np.mean(recall_scores):.4f}\")\n",
        "    print(f\"F1-score@{k}: {np.mean(f1_scores):.4f}\")\n",
        "    print(f\"NDCG@{k}: {np.mean(ndcg_scores):.4f}\")\n",
        "\n",
        "train_pairs = set(zip(train_ratings['userId'], train_ratings['movieId']))\n",
        "cv_pairs = set(zip(cv_ratings['userId'], cv_ratings['movieId']))\n",
        "test_pairs = set(zip(test_ratings['userId'], test_ratings['movieId']))\n",
        "print(\"\\nSplit Integrity Check:\")\n",
        "print(\"Train-CV overlap:\", len(train_pairs & cv_pairs))\n",
        "print(\"Train-Test overlap:\", len(train_pairs & test_pairs))\n",
        "print(\"CV-Test overlap:\", len(cv_pairs & test_pairs))\n",
        "\n",
        "evaluate_dataset(train_loader, \"Training\", relevance_threshold=5.0)\n",
        "evaluate_dataset(cv_loader, \"Cross-Validation\", relevance_threshold=5.0)\n",
        "evaluate_dataset(test_loader, \"Test\", relevance_threshold=5.0)"
      ]
    },
    {
      "cell_type": "markdown",
      "metadata": {
        "id": "e1yP9zZAVCDu"
      },
      "source": [
        "## Tuned Matrix Factorization"
      ]
    },
    {
      "cell_type": "code",
      "execution_count": null,
      "metadata": {
        "colab": {
          "base_uri": "https://localhost:8080/"
        },
        "id": "S2p6bI2lVF35",
        "outputId": "c7149893-fc08-44d8-84bb-18fca5e7146a"
      },
      "outputs": [
        {
          "output_type": "stream",
          "name": "stderr",
          "text": [
            "Training:   0%|          | 1/200 [00:01<04:54,  1.48s/it]"
          ]
        },
        {
          "output_type": "stream",
          "name": "stdout",
          "text": [
            "Epoch 0, Loss: 11.2896\n"
          ]
        },
        {
          "output_type": "stream",
          "name": "stderr",
          "text": [
            "\rTraining:   1%|          | 2/200 [00:02<04:37,  1.40s/it]"
          ]
        },
        {
          "output_type": "stream",
          "name": "stdout",
          "text": [
            "Epoch 1, Loss: 4.4770\n"
          ]
        },
        {
          "output_type": "stream",
          "name": "stderr",
          "text": [
            "\rTraining:   2%|▏         | 3/200 [00:04<04:28,  1.36s/it]"
          ]
        },
        {
          "output_type": "stream",
          "name": "stdout",
          "text": [
            "Epoch 2, Loss: 2.0897\n"
          ]
        },
        {
          "output_type": "stream",
          "name": "stderr",
          "text": [
            "\rTraining:   2%|▏         | 4/200 [00:05<04:45,  1.46s/it]"
          ]
        },
        {
          "output_type": "stream",
          "name": "stdout",
          "text": [
            "Epoch 3, Loss: 1.3748\n"
          ]
        },
        {
          "output_type": "stream",
          "name": "stderr",
          "text": [
            "\rTraining:   2%|▎         | 5/200 [00:07<05:11,  1.60s/it]"
          ]
        },
        {
          "output_type": "stream",
          "name": "stdout",
          "text": [
            "Epoch 4, Loss: 1.0641\n"
          ]
        },
        {
          "output_type": "stream",
          "name": "stderr",
          "text": [
            "\rTraining:   3%|▎         | 6/200 [00:08<04:50,  1.50s/it]"
          ]
        },
        {
          "output_type": "stream",
          "name": "stdout",
          "text": [
            "Epoch 5, Loss: 0.9072\n"
          ]
        },
        {
          "output_type": "stream",
          "name": "stderr",
          "text": [
            "\rTraining:   4%|▎         | 7/200 [00:10<04:37,  1.44s/it]"
          ]
        },
        {
          "output_type": "stream",
          "name": "stdout",
          "text": [
            "Epoch 6, Loss: 0.8228\n"
          ]
        },
        {
          "output_type": "stream",
          "name": "stderr",
          "text": [
            "\rTraining:   4%|▍         | 8/200 [00:11<04:29,  1.40s/it]"
          ]
        },
        {
          "output_type": "stream",
          "name": "stdout",
          "text": [
            "Epoch 7, Loss: 0.7766\n"
          ]
        },
        {
          "output_type": "stream",
          "name": "stderr",
          "text": [
            "\rTraining:   4%|▍         | 9/200 [00:12<04:24,  1.39s/it]"
          ]
        },
        {
          "output_type": "stream",
          "name": "stdout",
          "text": [
            "Epoch 8, Loss: 0.7490\n"
          ]
        },
        {
          "output_type": "stream",
          "name": "stderr",
          "text": [
            "\rTraining:   5%|▌         | 10/200 [00:14<04:18,  1.36s/it]"
          ]
        },
        {
          "output_type": "stream",
          "name": "stdout",
          "text": [
            "Epoch 9, Loss: 0.7338\n"
          ]
        },
        {
          "output_type": "stream",
          "name": "stderr",
          "text": [
            "\rTraining:   6%|▌         | 11/200 [00:15<04:14,  1.35s/it]"
          ]
        },
        {
          "output_type": "stream",
          "name": "stdout",
          "text": [
            "Epoch 10, Loss: 0.7245\n"
          ]
        },
        {
          "output_type": "stream",
          "name": "stderr",
          "text": [
            "\rTraining:   6%|▌         | 12/200 [00:16<04:08,  1.32s/it]"
          ]
        },
        {
          "output_type": "stream",
          "name": "stdout",
          "text": [
            "Epoch 11, Loss: 0.7188\n"
          ]
        },
        {
          "output_type": "stream",
          "name": "stderr",
          "text": [
            "\rTraining:   6%|▋         | 13/200 [00:18<04:27,  1.43s/it]"
          ]
        },
        {
          "output_type": "stream",
          "name": "stdout",
          "text": [
            "Epoch 12, Loss: 0.7163\n"
          ]
        },
        {
          "output_type": "stream",
          "name": "stderr",
          "text": [
            "\rTraining:   7%|▋         | 14/200 [00:20<04:52,  1.57s/it]"
          ]
        },
        {
          "output_type": "stream",
          "name": "stdout",
          "text": [
            "Epoch 13, Loss: 0.7138\n"
          ]
        },
        {
          "output_type": "stream",
          "name": "stderr",
          "text": [
            "\rTraining:   8%|▊         | 15/200 [00:21<04:37,  1.50s/it]"
          ]
        },
        {
          "output_type": "stream",
          "name": "stdout",
          "text": [
            "Epoch 14, Loss: 0.7137\n"
          ]
        },
        {
          "output_type": "stream",
          "name": "stderr",
          "text": [
            "\rTraining:   8%|▊         | 16/200 [00:22<04:25,  1.44s/it]"
          ]
        },
        {
          "output_type": "stream",
          "name": "stdout",
          "text": [
            "Epoch 15, Loss: 0.7124\n"
          ]
        },
        {
          "output_type": "stream",
          "name": "stderr",
          "text": [
            "\rTraining:   8%|▊         | 17/200 [00:24<04:17,  1.41s/it]"
          ]
        },
        {
          "output_type": "stream",
          "name": "stdout",
          "text": [
            "Epoch 16, Loss: 0.7123\n"
          ]
        },
        {
          "output_type": "stream",
          "name": "stderr",
          "text": [
            "\rTraining:   9%|▉         | 18/200 [00:25<04:11,  1.38s/it]"
          ]
        },
        {
          "output_type": "stream",
          "name": "stdout",
          "text": [
            "Epoch 17, Loss: 0.7108\n"
          ]
        },
        {
          "output_type": "stream",
          "name": "stderr",
          "text": [
            "\rTraining:  10%|▉         | 19/200 [00:26<04:08,  1.37s/it]"
          ]
        },
        {
          "output_type": "stream",
          "name": "stdout",
          "text": [
            "Epoch 18, Loss: 0.7114\n"
          ]
        },
        {
          "output_type": "stream",
          "name": "stderr",
          "text": [
            "\rTraining:  10%|█         | 20/200 [00:28<04:04,  1.36s/it]"
          ]
        },
        {
          "output_type": "stream",
          "name": "stdout",
          "text": [
            "Epoch 19, Loss: 0.7112\n"
          ]
        },
        {
          "output_type": "stream",
          "name": "stderr",
          "text": [
            "\rTraining:  10%|█         | 21/200 [00:29<04:05,  1.37s/it]"
          ]
        },
        {
          "output_type": "stream",
          "name": "stdout",
          "text": [
            "Epoch 20, Loss: 0.7106\n"
          ]
        },
        {
          "output_type": "stream",
          "name": "stderr",
          "text": [
            "\rTraining:  11%|█         | 22/200 [00:31<04:28,  1.51s/it]"
          ]
        },
        {
          "output_type": "stream",
          "name": "stdout",
          "text": [
            "Epoch 21, Loss: 0.7101\n"
          ]
        },
        {
          "output_type": "stream",
          "name": "stderr",
          "text": [
            "\rTraining:  12%|█▏        | 23/200 [00:33<04:39,  1.58s/it]"
          ]
        },
        {
          "output_type": "stream",
          "name": "stdout",
          "text": [
            "Epoch 22, Loss: 0.7101\n"
          ]
        },
        {
          "output_type": "stream",
          "name": "stderr",
          "text": [
            "\rTraining:  12%|█▏        | 24/200 [00:34<04:26,  1.51s/it]"
          ]
        },
        {
          "output_type": "stream",
          "name": "stdout",
          "text": [
            "Epoch 23, Loss: 0.7086\n"
          ]
        },
        {
          "output_type": "stream",
          "name": "stderr",
          "text": [
            "\rTraining:  12%|█▎        | 25/200 [00:36<04:15,  1.46s/it]"
          ]
        },
        {
          "output_type": "stream",
          "name": "stdout",
          "text": [
            "Epoch 24, Loss: 0.7097\n"
          ]
        },
        {
          "output_type": "stream",
          "name": "stderr",
          "text": [
            "\rTraining:  13%|█▎        | 26/200 [00:37<04:07,  1.42s/it]"
          ]
        },
        {
          "output_type": "stream",
          "name": "stdout",
          "text": [
            "Epoch 25, Loss: 0.7081\n"
          ]
        },
        {
          "output_type": "stream",
          "name": "stderr",
          "text": [
            "\rTraining:  14%|█▎        | 27/200 [00:38<04:00,  1.39s/it]"
          ]
        },
        {
          "output_type": "stream",
          "name": "stdout",
          "text": [
            "Epoch 26, Loss: 0.7072\n"
          ]
        },
        {
          "output_type": "stream",
          "name": "stderr",
          "text": [
            "\rTraining:  14%|█▍        | 28/200 [00:39<03:54,  1.36s/it]"
          ]
        },
        {
          "output_type": "stream",
          "name": "stdout",
          "text": [
            "Epoch 27, Loss: 0.7062\n"
          ]
        },
        {
          "output_type": "stream",
          "name": "stderr",
          "text": [
            "\rTraining:  14%|█▍        | 29/200 [00:41<03:53,  1.36s/it]"
          ]
        },
        {
          "output_type": "stream",
          "name": "stdout",
          "text": [
            "Epoch 28, Loss: 0.7053\n"
          ]
        },
        {
          "output_type": "stream",
          "name": "stderr",
          "text": [
            "\rTraining:  15%|█▌        | 30/200 [00:42<03:47,  1.34s/it]"
          ]
        },
        {
          "output_type": "stream",
          "name": "stdout",
          "text": [
            "Epoch 29, Loss: 0.7046\n"
          ]
        },
        {
          "output_type": "stream",
          "name": "stderr",
          "text": [
            "\rTraining:  16%|█▌        | 31/200 [00:44<04:11,  1.49s/it]"
          ]
        },
        {
          "output_type": "stream",
          "name": "stdout",
          "text": [
            "Epoch 30, Loss: 0.7025\n"
          ]
        },
        {
          "output_type": "stream",
          "name": "stderr",
          "text": [
            "\rTraining:  16%|█▌        | 32/200 [00:46<04:20,  1.55s/it]"
          ]
        },
        {
          "output_type": "stream",
          "name": "stdout",
          "text": [
            "Epoch 31, Loss: 0.6994\n"
          ]
        },
        {
          "output_type": "stream",
          "name": "stderr",
          "text": [
            "\rTraining:  16%|█▋        | 33/200 [00:47<04:09,  1.50s/it]"
          ]
        },
        {
          "output_type": "stream",
          "name": "stdout",
          "text": [
            "Epoch 32, Loss: 0.6960\n"
          ]
        },
        {
          "output_type": "stream",
          "name": "stderr",
          "text": [
            "\rTraining:  17%|█▋        | 34/200 [00:48<03:59,  1.44s/it]"
          ]
        },
        {
          "output_type": "stream",
          "name": "stdout",
          "text": [
            "Epoch 33, Loss: 0.6924\n"
          ]
        },
        {
          "output_type": "stream",
          "name": "stderr",
          "text": [
            "\rTraining:  18%|█▊        | 35/200 [00:50<03:50,  1.40s/it]"
          ]
        },
        {
          "output_type": "stream",
          "name": "stdout",
          "text": [
            "Epoch 34, Loss: 0.6882\n"
          ]
        },
        {
          "output_type": "stream",
          "name": "stderr",
          "text": [
            "\rTraining:  18%|█▊        | 36/200 [00:51<03:44,  1.37s/it]"
          ]
        },
        {
          "output_type": "stream",
          "name": "stdout",
          "text": [
            "Epoch 35, Loss: 0.6830\n"
          ]
        },
        {
          "output_type": "stream",
          "name": "stderr",
          "text": [
            "\rTraining:  18%|█▊        | 37/200 [00:52<03:43,  1.37s/it]"
          ]
        },
        {
          "output_type": "stream",
          "name": "stdout",
          "text": [
            "Epoch 36, Loss: 0.6777\n"
          ]
        },
        {
          "output_type": "stream",
          "name": "stderr",
          "text": [
            "\rTraining:  19%|█▉        | 38/200 [00:54<03:38,  1.35s/it]"
          ]
        },
        {
          "output_type": "stream",
          "name": "stdout",
          "text": [
            "Epoch 37, Loss: 0.6709\n"
          ]
        },
        {
          "output_type": "stream",
          "name": "stderr",
          "text": [
            "\rTraining:  20%|█▉        | 39/200 [00:55<03:33,  1.32s/it]"
          ]
        },
        {
          "output_type": "stream",
          "name": "stdout",
          "text": [
            "Epoch 38, Loss: 0.6613\n"
          ]
        },
        {
          "output_type": "stream",
          "name": "stderr",
          "text": [
            "\rTraining:  20%|██        | 40/200 [00:57<03:51,  1.45s/it]"
          ]
        },
        {
          "output_type": "stream",
          "name": "stdout",
          "text": [
            "Epoch 39, Loss: 0.6526\n"
          ]
        },
        {
          "output_type": "stream",
          "name": "stderr",
          "text": [
            "\rTraining:  20%|██        | 41/200 [00:58<04:04,  1.54s/it]"
          ]
        },
        {
          "output_type": "stream",
          "name": "stdout",
          "text": [
            "Epoch 40, Loss: 0.6413\n"
          ]
        },
        {
          "output_type": "stream",
          "name": "stderr",
          "text": [
            "\rTraining:  21%|██        | 42/200 [01:00<03:49,  1.46s/it]"
          ]
        },
        {
          "output_type": "stream",
          "name": "stdout",
          "text": [
            "Epoch 41, Loss: 0.6283\n"
          ]
        },
        {
          "output_type": "stream",
          "name": "stderr",
          "text": [
            "\rTraining:  22%|██▏       | 43/200 [01:01<03:39,  1.40s/it]"
          ]
        },
        {
          "output_type": "stream",
          "name": "stdout",
          "text": [
            "Epoch 42, Loss: 0.6161\n"
          ]
        },
        {
          "output_type": "stream",
          "name": "stderr",
          "text": [
            "\rTraining:  22%|██▏       | 44/200 [01:02<03:36,  1.39s/it]"
          ]
        },
        {
          "output_type": "stream",
          "name": "stdout",
          "text": [
            "Epoch 43, Loss: 0.6027\n"
          ]
        },
        {
          "output_type": "stream",
          "name": "stderr",
          "text": [
            "\rTraining:  22%|██▎       | 45/200 [01:04<03:34,  1.38s/it]"
          ]
        },
        {
          "output_type": "stream",
          "name": "stdout",
          "text": [
            "Epoch 44, Loss: 0.5874\n"
          ]
        },
        {
          "output_type": "stream",
          "name": "stderr",
          "text": [
            "\rTraining:  23%|██▎       | 46/200 [01:05<03:30,  1.37s/it]"
          ]
        },
        {
          "output_type": "stream",
          "name": "stdout",
          "text": [
            "Epoch 45, Loss: 0.5730\n"
          ]
        },
        {
          "output_type": "stream",
          "name": "stderr",
          "text": [
            "\rTraining:  24%|██▎       | 47/200 [01:06<03:28,  1.36s/it]"
          ]
        },
        {
          "output_type": "stream",
          "name": "stdout",
          "text": [
            "Epoch 46, Loss: 0.5576\n"
          ]
        },
        {
          "output_type": "stream",
          "name": "stderr",
          "text": [
            "\rTraining:  24%|██▍       | 48/200 [01:08<03:26,  1.36s/it]"
          ]
        },
        {
          "output_type": "stream",
          "name": "stdout",
          "text": [
            "Epoch 47, Loss: 0.5431\n"
          ]
        },
        {
          "output_type": "stream",
          "name": "stderr",
          "text": [
            "\rTraining:  24%|██▍       | 49/200 [01:09<03:45,  1.49s/it]"
          ]
        },
        {
          "output_type": "stream",
          "name": "stdout",
          "text": [
            "Epoch 48, Loss: 0.5289\n"
          ]
        },
        {
          "output_type": "stream",
          "name": "stderr",
          "text": [
            "\rTraining:  25%|██▌       | 50/200 [01:11<03:53,  1.55s/it]"
          ]
        },
        {
          "output_type": "stream",
          "name": "stdout",
          "text": [
            "Epoch 49, Loss: 0.5140\n"
          ]
        },
        {
          "output_type": "stream",
          "name": "stderr",
          "text": [
            "\rTraining:  26%|██▌       | 51/200 [01:12<03:40,  1.48s/it]"
          ]
        },
        {
          "output_type": "stream",
          "name": "stdout",
          "text": [
            "Epoch 50, Loss: 0.5009\n"
          ]
        },
        {
          "output_type": "stream",
          "name": "stderr",
          "text": [
            "\rTraining:  26%|██▌       | 52/200 [01:14<03:31,  1.43s/it]"
          ]
        },
        {
          "output_type": "stream",
          "name": "stdout",
          "text": [
            "Epoch 51, Loss: 0.4867\n"
          ]
        },
        {
          "output_type": "stream",
          "name": "stderr",
          "text": [
            "\rTraining:  26%|██▋       | 53/200 [01:15<03:26,  1.41s/it]"
          ]
        },
        {
          "output_type": "stream",
          "name": "stdout",
          "text": [
            "Epoch 52, Loss: 0.4748\n"
          ]
        },
        {
          "output_type": "stream",
          "name": "stderr",
          "text": [
            "\rTraining:  27%|██▋       | 54/200 [01:16<03:23,  1.39s/it]"
          ]
        },
        {
          "output_type": "stream",
          "name": "stdout",
          "text": [
            "Epoch 53, Loss: 0.4623\n"
          ]
        },
        {
          "output_type": "stream",
          "name": "stderr",
          "text": [
            "\rTraining:  28%|██▊       | 55/200 [01:18<03:20,  1.39s/it]"
          ]
        },
        {
          "output_type": "stream",
          "name": "stdout",
          "text": [
            "Epoch 54, Loss: 0.4491\n"
          ]
        },
        {
          "output_type": "stream",
          "name": "stderr",
          "text": [
            "\rTraining:  28%|██▊       | 56/200 [01:19<03:19,  1.39s/it]"
          ]
        },
        {
          "output_type": "stream",
          "name": "stdout",
          "text": [
            "Epoch 55, Loss: 0.4386\n"
          ]
        },
        {
          "output_type": "stream",
          "name": "stderr",
          "text": [
            "\rTraining:  28%|██▊       | 57/200 [01:21<03:21,  1.41s/it]"
          ]
        },
        {
          "output_type": "stream",
          "name": "stdout",
          "text": [
            "Epoch 56, Loss: 0.4271\n"
          ]
        },
        {
          "output_type": "stream",
          "name": "stderr",
          "text": [
            "\rTraining:  29%|██▉       | 58/200 [01:23<03:42,  1.57s/it]"
          ]
        },
        {
          "output_type": "stream",
          "name": "stdout",
          "text": [
            "Epoch 57, Loss: 0.4157\n"
          ]
        },
        {
          "output_type": "stream",
          "name": "stderr",
          "text": [
            "\rTraining:  30%|██▉       | 59/200 [01:24<03:41,  1.57s/it]"
          ]
        },
        {
          "output_type": "stream",
          "name": "stdout",
          "text": [
            "Epoch 58, Loss: 0.4064\n"
          ]
        },
        {
          "output_type": "stream",
          "name": "stderr",
          "text": [
            "\rTraining:  30%|███       | 60/200 [01:26<03:29,  1.50s/it]"
          ]
        },
        {
          "output_type": "stream",
          "name": "stdout",
          "text": [
            "Epoch 59, Loss: 0.3967\n"
          ]
        },
        {
          "output_type": "stream",
          "name": "stderr",
          "text": [
            "\rTraining:  30%|███       | 61/200 [01:27<03:24,  1.47s/it]"
          ]
        },
        {
          "output_type": "stream",
          "name": "stdout",
          "text": [
            "Epoch 60, Loss: 0.3870\n"
          ]
        },
        {
          "output_type": "stream",
          "name": "stderr",
          "text": [
            "\rTraining:  31%|███       | 62/200 [01:28<03:20,  1.46s/it]"
          ]
        },
        {
          "output_type": "stream",
          "name": "stdout",
          "text": [
            "Epoch 61, Loss: 0.3782\n"
          ]
        },
        {
          "output_type": "stream",
          "name": "stderr",
          "text": [
            "\rTraining:  32%|███▏      | 63/200 [01:30<03:16,  1.43s/it]"
          ]
        },
        {
          "output_type": "stream",
          "name": "stdout",
          "text": [
            "Epoch 62, Loss: 0.3693\n"
          ]
        },
        {
          "output_type": "stream",
          "name": "stderr",
          "text": [
            "\rTraining:  32%|███▏      | 64/200 [01:31<03:14,  1.43s/it]"
          ]
        },
        {
          "output_type": "stream",
          "name": "stdout",
          "text": [
            "Epoch 63, Loss: 0.3614\n"
          ]
        },
        {
          "output_type": "stream",
          "name": "stderr",
          "text": [
            "\rTraining:  32%|███▎      | 65/200 [01:33<03:12,  1.42s/it]"
          ]
        },
        {
          "output_type": "stream",
          "name": "stdout",
          "text": [
            "Epoch 64, Loss: 0.3539\n"
          ]
        },
        {
          "output_type": "stream",
          "name": "stderr",
          "text": [
            "\rTraining:  33%|███▎      | 66/200 [01:34<03:20,  1.50s/it]"
          ]
        },
        {
          "output_type": "stream",
          "name": "stdout",
          "text": [
            "Epoch 65, Loss: 0.3465\n"
          ]
        },
        {
          "output_type": "stream",
          "name": "stderr",
          "text": [
            "\rTraining:  34%|███▎      | 67/200 [01:36<03:29,  1.58s/it]"
          ]
        },
        {
          "output_type": "stream",
          "name": "stdout",
          "text": [
            "Epoch 66, Loss: 0.3392\n"
          ]
        },
        {
          "output_type": "stream",
          "name": "stderr",
          "text": [
            "\rTraining:  34%|███▍      | 68/200 [01:37<03:17,  1.50s/it]"
          ]
        },
        {
          "output_type": "stream",
          "name": "stdout",
          "text": [
            "Epoch 67, Loss: 0.3326\n"
          ]
        },
        {
          "output_type": "stream",
          "name": "stderr",
          "text": [
            "\rTraining:  34%|███▍      | 69/200 [01:39<03:06,  1.42s/it]"
          ]
        },
        {
          "output_type": "stream",
          "name": "stdout",
          "text": [
            "Epoch 68, Loss: 0.3260\n"
          ]
        },
        {
          "output_type": "stream",
          "name": "stderr",
          "text": [
            "\rTraining:  35%|███▌      | 70/200 [01:40<02:58,  1.37s/it]"
          ]
        },
        {
          "output_type": "stream",
          "name": "stdout",
          "text": [
            "Epoch 69, Loss: 0.3204\n"
          ]
        },
        {
          "output_type": "stream",
          "name": "stderr",
          "text": [
            "\rTraining:  36%|███▌      | 71/200 [01:41<02:54,  1.35s/it]"
          ]
        },
        {
          "output_type": "stream",
          "name": "stdout",
          "text": [
            "Epoch 70, Loss: 0.3144\n"
          ]
        },
        {
          "output_type": "stream",
          "name": "stderr",
          "text": [
            "\rTraining:  36%|███▌      | 72/200 [01:43<03:05,  1.45s/it]"
          ]
        },
        {
          "output_type": "stream",
          "name": "stdout",
          "text": [
            "Epoch 71, Loss: 0.3091\n"
          ]
        },
        {
          "output_type": "stream",
          "name": "stderr",
          "text": [
            "\rTraining:  36%|███▋      | 73/200 [01:44<03:12,  1.52s/it]"
          ]
        },
        {
          "output_type": "stream",
          "name": "stdout",
          "text": [
            "Epoch 72, Loss: 0.3043\n"
          ]
        },
        {
          "output_type": "stream",
          "name": "stderr",
          "text": [
            "\rTraining:  37%|███▋      | 74/200 [01:46<03:29,  1.66s/it]"
          ]
        },
        {
          "output_type": "stream",
          "name": "stdout",
          "text": [
            "Epoch 73, Loss: 0.2985\n"
          ]
        },
        {
          "output_type": "stream",
          "name": "stderr",
          "text": [
            "\rTraining:  38%|███▊      | 75/200 [01:50<04:24,  2.11s/it]"
          ]
        },
        {
          "output_type": "stream",
          "name": "stdout",
          "text": [
            "Epoch 74, Loss: 0.2942\n"
          ]
        },
        {
          "output_type": "stream",
          "name": "stderr",
          "text": [
            "\rTraining:  38%|███▊      | 76/200 [01:52<04:23,  2.13s/it]"
          ]
        },
        {
          "output_type": "stream",
          "name": "stdout",
          "text": [
            "Epoch 75, Loss: 0.2903\n"
          ]
        },
        {
          "output_type": "stream",
          "name": "stderr",
          "text": [
            "\rTraining:  38%|███▊      | 77/200 [01:53<03:54,  1.91s/it]"
          ]
        },
        {
          "output_type": "stream",
          "name": "stdout",
          "text": [
            "Epoch 76, Loss: 0.2856\n"
          ]
        },
        {
          "output_type": "stream",
          "name": "stderr",
          "text": [
            "\rTraining:  39%|███▉      | 78/200 [01:55<03:32,  1.74s/it]"
          ]
        },
        {
          "output_type": "stream",
          "name": "stdout",
          "text": [
            "Epoch 77, Loss: 0.2817\n"
          ]
        },
        {
          "output_type": "stream",
          "name": "stderr",
          "text": [
            "\rTraining:  40%|███▉      | 79/200 [01:56<03:21,  1.66s/it]"
          ]
        },
        {
          "output_type": "stream",
          "name": "stdout",
          "text": [
            "Epoch 78, Loss: 0.2782\n"
          ]
        },
        {
          "output_type": "stream",
          "name": "stderr",
          "text": [
            "\rTraining:  40%|████      | 80/200 [01:58<03:16,  1.64s/it]"
          ]
        },
        {
          "output_type": "stream",
          "name": "stdout",
          "text": [
            "Epoch 79, Loss: 0.2751\n"
          ]
        },
        {
          "output_type": "stream",
          "name": "stderr",
          "text": [
            "\rTraining:  40%|████      | 81/200 [01:59<03:06,  1.57s/it]"
          ]
        },
        {
          "output_type": "stream",
          "name": "stdout",
          "text": [
            "Epoch 80, Loss: 0.2713\n"
          ]
        },
        {
          "output_type": "stream",
          "name": "stderr",
          "text": [
            "\rTraining:  41%|████      | 82/200 [02:01<03:11,  1.62s/it]"
          ]
        },
        {
          "output_type": "stream",
          "name": "stdout",
          "text": [
            "Epoch 81, Loss: 0.2681\n"
          ]
        },
        {
          "output_type": "stream",
          "name": "stderr",
          "text": [
            "\rTraining:  42%|████▏     | 83/200 [02:03<03:21,  1.72s/it]"
          ]
        },
        {
          "output_type": "stream",
          "name": "stdout",
          "text": [
            "Epoch 82, Loss: 0.2649\n"
          ]
        },
        {
          "output_type": "stream",
          "name": "stderr",
          "text": [
            "\rTraining:  42%|████▏     | 84/200 [02:04<03:07,  1.61s/it]"
          ]
        },
        {
          "output_type": "stream",
          "name": "stdout",
          "text": [
            "Epoch 83, Loss: 0.2623\n"
          ]
        },
        {
          "output_type": "stream",
          "name": "stderr",
          "text": [
            "\rTraining:  42%|████▎     | 85/200 [02:05<02:55,  1.53s/it]"
          ]
        },
        {
          "output_type": "stream",
          "name": "stdout",
          "text": [
            "Epoch 84, Loss: 0.2594\n"
          ]
        },
        {
          "output_type": "stream",
          "name": "stderr",
          "text": [
            "\rTraining:  43%|████▎     | 86/200 [02:07<02:47,  1.47s/it]"
          ]
        },
        {
          "output_type": "stream",
          "name": "stdout",
          "text": [
            "Epoch 85, Loss: 0.2566\n"
          ]
        },
        {
          "output_type": "stream",
          "name": "stderr",
          "text": [
            "\rTraining:  44%|████▎     | 87/200 [02:08<02:42,  1.44s/it]"
          ]
        },
        {
          "output_type": "stream",
          "name": "stdout",
          "text": [
            "Epoch 86, Loss: 0.2550\n"
          ]
        },
        {
          "output_type": "stream",
          "name": "stderr",
          "text": [
            "\rTraining:  44%|████▍     | 88/200 [02:09<02:38,  1.42s/it]"
          ]
        },
        {
          "output_type": "stream",
          "name": "stdout",
          "text": [
            "Epoch 87, Loss: 0.2519\n"
          ]
        },
        {
          "output_type": "stream",
          "name": "stderr",
          "text": [
            "\rTraining:  44%|████▍     | 89/200 [02:11<02:33,  1.38s/it]"
          ]
        },
        {
          "output_type": "stream",
          "name": "stdout",
          "text": [
            "Epoch 88, Loss: 0.2501\n"
          ]
        },
        {
          "output_type": "stream",
          "name": "stderr",
          "text": [
            "\rTraining:  45%|████▌     | 90/200 [02:12<02:29,  1.36s/it]"
          ]
        },
        {
          "output_type": "stream",
          "name": "stdout",
          "text": [
            "Epoch 89, Loss: 0.2482\n"
          ]
        },
        {
          "output_type": "stream",
          "name": "stderr",
          "text": [
            "\rTraining:  46%|████▌     | 91/200 [02:14<02:38,  1.45s/it]"
          ]
        },
        {
          "output_type": "stream",
          "name": "stdout",
          "text": [
            "Epoch 90, Loss: 0.2460\n"
          ]
        },
        {
          "output_type": "stream",
          "name": "stderr",
          "text": [
            "\rTraining:  46%|████▌     | 92/200 [02:16<02:48,  1.56s/it]"
          ]
        },
        {
          "output_type": "stream",
          "name": "stdout",
          "text": [
            "Epoch 91, Loss: 0.2436\n"
          ]
        },
        {
          "output_type": "stream",
          "name": "stderr",
          "text": [
            "\rTraining:  46%|████▋     | 93/200 [02:17<02:38,  1.48s/it]"
          ]
        },
        {
          "output_type": "stream",
          "name": "stdout",
          "text": [
            "Epoch 92, Loss: 0.2421\n"
          ]
        },
        {
          "output_type": "stream",
          "name": "stderr",
          "text": [
            "\rTraining:  47%|████▋     | 94/200 [02:18<02:31,  1.43s/it]"
          ]
        },
        {
          "output_type": "stream",
          "name": "stdout",
          "text": [
            "Epoch 93, Loss: 0.2406\n"
          ]
        },
        {
          "output_type": "stream",
          "name": "stderr",
          "text": [
            "\rTraining:  48%|████▊     | 95/200 [02:19<02:26,  1.40s/it]"
          ]
        },
        {
          "output_type": "stream",
          "name": "stdout",
          "text": [
            "Epoch 94, Loss: 0.2389\n"
          ]
        },
        {
          "output_type": "stream",
          "name": "stderr",
          "text": [
            "\rTraining:  48%|████▊     | 96/200 [02:21<02:26,  1.41s/it]"
          ]
        },
        {
          "output_type": "stream",
          "name": "stdout",
          "text": [
            "Epoch 95, Loss: 0.2371\n"
          ]
        },
        {
          "output_type": "stream",
          "name": "stderr",
          "text": [
            "\rTraining:  48%|████▊     | 97/200 [02:22<02:21,  1.37s/it]"
          ]
        },
        {
          "output_type": "stream",
          "name": "stdout",
          "text": [
            "Epoch 96, Loss: 0.2359\n"
          ]
        },
        {
          "output_type": "stream",
          "name": "stderr",
          "text": [
            "\rTraining:  49%|████▉     | 98/200 [02:23<02:17,  1.35s/it]"
          ]
        },
        {
          "output_type": "stream",
          "name": "stdout",
          "text": [
            "Epoch 97, Loss: 0.2344\n"
          ]
        },
        {
          "output_type": "stream",
          "name": "stderr",
          "text": [
            "\rTraining:  50%|████▉     | 99/200 [02:25<02:14,  1.33s/it]"
          ]
        },
        {
          "output_type": "stream",
          "name": "stdout",
          "text": [
            "Epoch 98, Loss: 0.2328\n"
          ]
        },
        {
          "output_type": "stream",
          "name": "stderr",
          "text": [
            "\rTraining:  50%|█████     | 100/200 [02:27<02:25,  1.46s/it]"
          ]
        },
        {
          "output_type": "stream",
          "name": "stdout",
          "text": [
            "Epoch 99, Loss: 0.2317\n"
          ]
        },
        {
          "output_type": "stream",
          "name": "stderr",
          "text": [
            "\rTraining:  50%|█████     | 101/200 [02:28<02:35,  1.57s/it]"
          ]
        },
        {
          "output_type": "stream",
          "name": "stdout",
          "text": [
            "Epoch 100, Loss: 0.2307\n"
          ]
        },
        {
          "output_type": "stream",
          "name": "stderr",
          "text": [
            "\rTraining:  51%|█████     | 102/200 [02:30<02:27,  1.50s/it]"
          ]
        },
        {
          "output_type": "stream",
          "name": "stdout",
          "text": [
            "Epoch 101, Loss: 0.2287\n"
          ]
        },
        {
          "output_type": "stream",
          "name": "stderr",
          "text": [
            "\rTraining:  52%|█████▏    | 103/200 [02:31<02:21,  1.46s/it]"
          ]
        },
        {
          "output_type": "stream",
          "name": "stdout",
          "text": [
            "Epoch 102, Loss: 0.2280\n"
          ]
        },
        {
          "output_type": "stream",
          "name": "stderr",
          "text": [
            "\rTraining:  52%|█████▏    | 104/200 [02:32<02:17,  1.43s/it]"
          ]
        },
        {
          "output_type": "stream",
          "name": "stdout",
          "text": [
            "Epoch 103, Loss: 0.2272\n"
          ]
        },
        {
          "output_type": "stream",
          "name": "stderr",
          "text": [
            "\rTraining:  52%|█████▎    | 105/200 [02:34<02:15,  1.42s/it]"
          ]
        },
        {
          "output_type": "stream",
          "name": "stdout",
          "text": [
            "Epoch 104, Loss: 0.2257\n"
          ]
        },
        {
          "output_type": "stream",
          "name": "stderr",
          "text": [
            "\rTraining:  53%|█████▎    | 106/200 [02:35<02:12,  1.41s/it]"
          ]
        },
        {
          "output_type": "stream",
          "name": "stdout",
          "text": [
            "Epoch 105, Loss: 0.2250\n"
          ]
        },
        {
          "output_type": "stream",
          "name": "stderr",
          "text": [
            "\rTraining:  54%|█████▎    | 107/200 [02:37<02:10,  1.40s/it]"
          ]
        },
        {
          "output_type": "stream",
          "name": "stdout",
          "text": [
            "Epoch 106, Loss: 0.2237\n"
          ]
        },
        {
          "output_type": "stream",
          "name": "stderr",
          "text": [
            "\rTraining:  54%|█████▍    | 108/200 [02:38<02:08,  1.39s/it]"
          ]
        },
        {
          "output_type": "stream",
          "name": "stdout",
          "text": [
            "Epoch 107, Loss: 0.2230\n"
          ]
        },
        {
          "output_type": "stream",
          "name": "stderr",
          "text": [
            "\rTraining:  55%|█████▍    | 109/200 [02:40<02:19,  1.54s/it]"
          ]
        },
        {
          "output_type": "stream",
          "name": "stdout",
          "text": [
            "Epoch 108, Loss: 0.2220\n"
          ]
        },
        {
          "output_type": "stream",
          "name": "stderr",
          "text": [
            "\rTraining:  55%|█████▌    | 110/200 [02:42<02:22,  1.58s/it]"
          ]
        },
        {
          "output_type": "stream",
          "name": "stdout",
          "text": [
            "Epoch 109, Loss: 0.2213\n"
          ]
        },
        {
          "output_type": "stream",
          "name": "stderr",
          "text": [
            "\rTraining:  56%|█████▌    | 111/200 [02:43<02:15,  1.52s/it]"
          ]
        },
        {
          "output_type": "stream",
          "name": "stdout",
          "text": [
            "Epoch 110, Loss: 0.2204\n"
          ]
        },
        {
          "output_type": "stream",
          "name": "stderr",
          "text": [
            "\rTraining:  56%|█████▌    | 112/200 [02:44<02:10,  1.49s/it]"
          ]
        },
        {
          "output_type": "stream",
          "name": "stdout",
          "text": [
            "Epoch 111, Loss: 0.2194\n"
          ]
        },
        {
          "output_type": "stream",
          "name": "stderr",
          "text": [
            "\rTraining:  56%|█████▋    | 113/200 [02:47<02:27,  1.70s/it]"
          ]
        },
        {
          "output_type": "stream",
          "name": "stdout",
          "text": [
            "Epoch 112, Loss: 0.2185\n"
          ]
        },
        {
          "output_type": "stream",
          "name": "stderr",
          "text": [
            "\rTraining:  57%|█████▋    | 114/200 [02:48<02:18,  1.61s/it]"
          ]
        },
        {
          "output_type": "stream",
          "name": "stdout",
          "text": [
            "Epoch 113, Loss: 0.2181\n"
          ]
        },
        {
          "output_type": "stream",
          "name": "stderr",
          "text": [
            "\rTraining:  57%|█████▊    | 115/200 [02:49<02:10,  1.54s/it]"
          ]
        },
        {
          "output_type": "stream",
          "name": "stdout",
          "text": [
            "Epoch 114, Loss: 0.2175\n"
          ]
        },
        {
          "output_type": "stream",
          "name": "stderr",
          "text": [
            "\rTraining:  58%|█████▊    | 116/200 [02:51<02:05,  1.49s/it]"
          ]
        },
        {
          "output_type": "stream",
          "name": "stdout",
          "text": [
            "Epoch 115, Loss: 0.2160\n"
          ]
        },
        {
          "output_type": "stream",
          "name": "stderr",
          "text": [
            "\rTraining:  58%|█████▊    | 117/200 [02:53<02:14,  1.62s/it]"
          ]
        },
        {
          "output_type": "stream",
          "name": "stdout",
          "text": [
            "Epoch 116, Loss: 0.2160\n"
          ]
        },
        {
          "output_type": "stream",
          "name": "stderr",
          "text": [
            "\rTraining:  59%|█████▉    | 118/200 [02:55<02:36,  1.91s/it]"
          ]
        },
        {
          "output_type": "stream",
          "name": "stdout",
          "text": [
            "Epoch 117, Loss: 0.2155\n"
          ]
        },
        {
          "output_type": "stream",
          "name": "stderr",
          "text": [
            "\rTraining:  60%|█████▉    | 119/200 [02:59<03:09,  2.34s/it]"
          ]
        },
        {
          "output_type": "stream",
          "name": "stdout",
          "text": [
            "Epoch 118, Loss: 0.2139\n"
          ]
        },
        {
          "output_type": "stream",
          "name": "stderr",
          "text": [
            "\rTraining:  60%|██████    | 120/200 [03:00<02:54,  2.18s/it]"
          ]
        },
        {
          "output_type": "stream",
          "name": "stdout",
          "text": [
            "Epoch 119, Loss: 0.2137\n"
          ]
        },
        {
          "output_type": "stream",
          "name": "stderr",
          "text": [
            "\rTraining:  60%|██████    | 121/200 [03:02<02:32,  1.93s/it]"
          ]
        },
        {
          "output_type": "stream",
          "name": "stdout",
          "text": [
            "Epoch 120, Loss: 0.2133\n"
          ]
        },
        {
          "output_type": "stream",
          "name": "stderr",
          "text": [
            "\rTraining:  61%|██████    | 122/200 [03:03<02:15,  1.74s/it]"
          ]
        },
        {
          "output_type": "stream",
          "name": "stdout",
          "text": [
            "Epoch 121, Loss: 0.2130\n"
          ]
        },
        {
          "output_type": "stream",
          "name": "stderr",
          "text": [
            "\rTraining:  62%|██████▏   | 123/200 [03:05<02:12,  1.73s/it]"
          ]
        },
        {
          "output_type": "stream",
          "name": "stdout",
          "text": [
            "Epoch 122, Loss: 0.2123\n"
          ]
        },
        {
          "output_type": "stream",
          "name": "stderr",
          "text": [
            "\rTraining:  62%|██████▏   | 124/200 [03:06<02:12,  1.74s/it]"
          ]
        },
        {
          "output_type": "stream",
          "name": "stdout",
          "text": [
            "Epoch 123, Loss: 0.2117\n"
          ]
        },
        {
          "output_type": "stream",
          "name": "stderr",
          "text": [
            "\rTraining:  62%|██████▎   | 125/200 [03:08<02:00,  1.61s/it]"
          ]
        },
        {
          "output_type": "stream",
          "name": "stdout",
          "text": [
            "Epoch 124, Loss: 0.2110\n"
          ]
        },
        {
          "output_type": "stream",
          "name": "stderr",
          "text": [
            "\rTraining:  63%|██████▎   | 126/200 [03:09<01:53,  1.53s/it]"
          ]
        },
        {
          "output_type": "stream",
          "name": "stdout",
          "text": [
            "Epoch 125, Loss: 0.2107\n"
          ]
        },
        {
          "output_type": "stream",
          "name": "stderr",
          "text": [
            "\rTraining:  64%|██████▎   | 127/200 [03:10<01:46,  1.46s/it]"
          ]
        },
        {
          "output_type": "stream",
          "name": "stdout",
          "text": [
            "Epoch 126, Loss: 0.2099\n"
          ]
        },
        {
          "output_type": "stream",
          "name": "stderr",
          "text": [
            "\rTraining:  64%|██████▍   | 128/200 [03:12<01:42,  1.43s/it]"
          ]
        },
        {
          "output_type": "stream",
          "name": "stdout",
          "text": [
            "Epoch 127, Loss: 0.2098\n"
          ]
        },
        {
          "output_type": "stream",
          "name": "stderr",
          "text": [
            "\rTraining:  64%|██████▍   | 129/200 [03:13<01:39,  1.40s/it]"
          ]
        },
        {
          "output_type": "stream",
          "name": "stdout",
          "text": [
            "Epoch 128, Loss: 0.2092\n"
          ]
        },
        {
          "output_type": "stream",
          "name": "stderr",
          "text": [
            "\rTraining:  65%|██████▌   | 130/200 [03:14<01:36,  1.38s/it]"
          ]
        },
        {
          "output_type": "stream",
          "name": "stdout",
          "text": [
            "Epoch 129, Loss: 0.2088\n"
          ]
        },
        {
          "output_type": "stream",
          "name": "stderr",
          "text": [
            "\rTraining:  66%|██████▌   | 131/200 [03:16<01:33,  1.35s/it]"
          ]
        },
        {
          "output_type": "stream",
          "name": "stdout",
          "text": [
            "Epoch 130, Loss: 0.2082\n"
          ]
        },
        {
          "output_type": "stream",
          "name": "stderr",
          "text": [
            "\rTraining:  66%|██████▌   | 132/200 [03:17<01:39,  1.46s/it]"
          ]
        },
        {
          "output_type": "stream",
          "name": "stdout",
          "text": [
            "Epoch 131, Loss: 0.2075\n"
          ]
        },
        {
          "output_type": "stream",
          "name": "stderr",
          "text": [
            "\rTraining:  66%|██████▋   | 133/200 [03:19<01:47,  1.60s/it]"
          ]
        },
        {
          "output_type": "stream",
          "name": "stdout",
          "text": [
            "Epoch 132, Loss: 0.2073\n"
          ]
        },
        {
          "output_type": "stream",
          "name": "stderr",
          "text": [
            "\rTraining:  67%|██████▋   | 134/200 [03:21<01:42,  1.56s/it]"
          ]
        },
        {
          "output_type": "stream",
          "name": "stdout",
          "text": [
            "Epoch 133, Loss: 0.2073\n"
          ]
        },
        {
          "output_type": "stream",
          "name": "stderr",
          "text": [
            "\rTraining:  68%|██████▊   | 135/200 [03:22<01:38,  1.51s/it]"
          ]
        },
        {
          "output_type": "stream",
          "name": "stdout",
          "text": [
            "Epoch 134, Loss: 0.2066\n"
          ]
        },
        {
          "output_type": "stream",
          "name": "stderr",
          "text": [
            "\rTraining:  68%|██████▊   | 136/200 [03:24<01:46,  1.66s/it]"
          ]
        },
        {
          "output_type": "stream",
          "name": "stdout",
          "text": [
            "Epoch 135, Loss: 0.2062\n"
          ]
        },
        {
          "output_type": "stream",
          "name": "stderr",
          "text": [
            "\rTraining:  68%|██████▊   | 137/200 [03:26<01:40,  1.59s/it]"
          ]
        },
        {
          "output_type": "stream",
          "name": "stdout",
          "text": [
            "Epoch 136, Loss: 0.2063\n"
          ]
        },
        {
          "output_type": "stream",
          "name": "stderr",
          "text": [
            "\rTraining:  69%|██████▉   | 138/200 [03:27<01:35,  1.55s/it]"
          ]
        },
        {
          "output_type": "stream",
          "name": "stdout",
          "text": [
            "Epoch 137, Loss: 0.2054\n"
          ]
        },
        {
          "output_type": "stream",
          "name": "stderr",
          "text": [
            "\rTraining:  70%|██████▉   | 139/200 [03:29<01:32,  1.51s/it]"
          ]
        },
        {
          "output_type": "stream",
          "name": "stdout",
          "text": [
            "Epoch 138, Loss: 0.2049\n"
          ]
        },
        {
          "output_type": "stream",
          "name": "stderr",
          "text": [
            "\rTraining:  70%|███████   | 140/200 [03:30<01:36,  1.61s/it]"
          ]
        },
        {
          "output_type": "stream",
          "name": "stdout",
          "text": [
            "Epoch 139, Loss: 0.2048\n"
          ]
        },
        {
          "output_type": "stream",
          "name": "stderr",
          "text": [
            "\rTraining:  70%|███████   | 141/200 [03:32<01:40,  1.71s/it]"
          ]
        },
        {
          "output_type": "stream",
          "name": "stdout",
          "text": [
            "Epoch 140, Loss: 0.2043\n"
          ]
        },
        {
          "output_type": "stream",
          "name": "stderr",
          "text": [
            "\rTraining:  71%|███████   | 142/200 [03:34<01:34,  1.63s/it]"
          ]
        },
        {
          "output_type": "stream",
          "name": "stdout",
          "text": [
            "Epoch 141, Loss: 0.2042\n"
          ]
        },
        {
          "output_type": "stream",
          "name": "stderr",
          "text": [
            "\rTraining:  72%|███████▏  | 143/200 [03:35<01:29,  1.57s/it]"
          ]
        },
        {
          "output_type": "stream",
          "name": "stdout",
          "text": [
            "Epoch 142, Loss: 0.2038\n"
          ]
        },
        {
          "output_type": "stream",
          "name": "stderr",
          "text": [
            "\rTraining:  72%|███████▏  | 144/200 [03:37<01:25,  1.53s/it]"
          ]
        },
        {
          "output_type": "stream",
          "name": "stdout",
          "text": [
            "Epoch 143, Loss: 0.2037\n"
          ]
        },
        {
          "output_type": "stream",
          "name": "stderr",
          "text": [
            "\rTraining:  72%|███████▎  | 145/200 [03:38<01:22,  1.50s/it]"
          ]
        },
        {
          "output_type": "stream",
          "name": "stdout",
          "text": [
            "Epoch 144, Loss: 0.2035\n"
          ]
        },
        {
          "output_type": "stream",
          "name": "stderr",
          "text": [
            "\rTraining:  73%|███████▎  | 146/200 [03:39<01:20,  1.48s/it]"
          ]
        },
        {
          "output_type": "stream",
          "name": "stdout",
          "text": [
            "Epoch 145, Loss: 0.2031\n"
          ]
        },
        {
          "output_type": "stream",
          "name": "stderr",
          "text": [
            "\rTraining:  74%|███████▎  | 147/200 [03:41<01:16,  1.45s/it]"
          ]
        },
        {
          "output_type": "stream",
          "name": "stdout",
          "text": [
            "Epoch 146, Loss: 0.2024\n"
          ]
        },
        {
          "output_type": "stream",
          "name": "stderr",
          "text": [
            "\rTraining:  74%|███████▍  | 148/200 [03:42<01:17,  1.50s/it]"
          ]
        },
        {
          "output_type": "stream",
          "name": "stdout",
          "text": [
            "Epoch 147, Loss: 0.2025\n"
          ]
        },
        {
          "output_type": "stream",
          "name": "stderr",
          "text": [
            "\rTraining:  74%|███████▍  | 149/200 [03:45<01:25,  1.68s/it]"
          ]
        },
        {
          "output_type": "stream",
          "name": "stdout",
          "text": [
            "Epoch 148, Loss: 0.2023\n"
          ]
        },
        {
          "output_type": "stream",
          "name": "stderr",
          "text": [
            "\rTraining:  75%|███████▌  | 150/200 [03:46<01:20,  1.62s/it]"
          ]
        },
        {
          "output_type": "stream",
          "name": "stdout",
          "text": [
            "Epoch 149, Loss: 0.2020\n"
          ]
        },
        {
          "output_type": "stream",
          "name": "stderr",
          "text": [
            "\rTraining:  76%|███████▌  | 151/200 [03:48<01:17,  1.59s/it]"
          ]
        },
        {
          "output_type": "stream",
          "name": "stdout",
          "text": [
            "Epoch 150, Loss: 0.2014\n"
          ]
        },
        {
          "output_type": "stream",
          "name": "stderr",
          "text": [
            "\rTraining:  76%|███████▌  | 152/200 [03:49<01:14,  1.55s/it]"
          ]
        },
        {
          "output_type": "stream",
          "name": "stdout",
          "text": [
            "Epoch 151, Loss: 0.2014\n"
          ]
        },
        {
          "output_type": "stream",
          "name": "stderr",
          "text": [
            "\rTraining:  76%|███████▋  | 153/200 [03:51<01:14,  1.59s/it]"
          ]
        },
        {
          "output_type": "stream",
          "name": "stdout",
          "text": [
            "Epoch 152, Loss: 0.2014\n"
          ]
        },
        {
          "output_type": "stream",
          "name": "stderr",
          "text": [
            "\rTraining:  77%|███████▋  | 154/200 [03:52<01:11,  1.56s/it]"
          ]
        },
        {
          "output_type": "stream",
          "name": "stdout",
          "text": [
            "Epoch 153, Loss: 0.2007\n"
          ]
        },
        {
          "output_type": "stream",
          "name": "stderr",
          "text": [
            "\rTraining:  78%|███████▊  | 155/200 [03:55<01:28,  1.97s/it]"
          ]
        },
        {
          "output_type": "stream",
          "name": "stdout",
          "text": [
            "Epoch 154, Loss: 0.2007\n"
          ]
        },
        {
          "output_type": "stream",
          "name": "stderr",
          "text": [
            "\rTraining:  78%|███████▊  | 156/200 [04:01<02:11,  2.99s/it]"
          ]
        },
        {
          "output_type": "stream",
          "name": "stdout",
          "text": [
            "Epoch 155, Loss: 0.2002\n"
          ]
        },
        {
          "output_type": "stream",
          "name": "stderr",
          "text": [
            "\rTraining:  78%|███████▊  | 157/200 [04:03<02:06,  2.94s/it]"
          ]
        },
        {
          "output_type": "stream",
          "name": "stdout",
          "text": [
            "Epoch 156, Loss: 0.2003\n"
          ]
        },
        {
          "output_type": "stream",
          "name": "stderr",
          "text": [
            "\rTraining:  79%|███████▉  | 158/200 [04:06<02:03,  2.94s/it]"
          ]
        },
        {
          "output_type": "stream",
          "name": "stdout",
          "text": [
            "Epoch 157, Loss: 0.2002\n"
          ]
        },
        {
          "output_type": "stream",
          "name": "stderr",
          "text": [
            "\rTraining:  80%|███████▉  | 159/200 [04:10<02:08,  3.14s/it]"
          ]
        },
        {
          "output_type": "stream",
          "name": "stdout",
          "text": [
            "Epoch 158, Loss: 0.1997\n"
          ]
        },
        {
          "output_type": "stream",
          "name": "stderr",
          "text": [
            "\rTraining:  80%|████████  | 160/200 [04:12<01:57,  2.94s/it]"
          ]
        },
        {
          "output_type": "stream",
          "name": "stdout",
          "text": [
            "Epoch 159, Loss: 0.1993\n"
          ]
        },
        {
          "output_type": "stream",
          "name": "stderr",
          "text": [
            "\rTraining:  80%|████████  | 161/200 [04:14<01:44,  2.69s/it]"
          ]
        },
        {
          "output_type": "stream",
          "name": "stdout",
          "text": [
            "Epoch 160, Loss: 0.1997\n"
          ]
        },
        {
          "output_type": "stream",
          "name": "stderr",
          "text": [
            "\rTraining:  81%|████████  | 162/200 [04:17<01:38,  2.58s/it]"
          ]
        },
        {
          "output_type": "stream",
          "name": "stdout",
          "text": [
            "Epoch 161, Loss: 0.1992\n"
          ]
        },
        {
          "output_type": "stream",
          "name": "stderr",
          "text": [
            "\rTraining:  82%|████████▏ | 163/200 [04:19<01:36,  2.62s/it]"
          ]
        },
        {
          "output_type": "stream",
          "name": "stdout",
          "text": [
            "Epoch 162, Loss: 0.1988\n"
          ]
        },
        {
          "output_type": "stream",
          "name": "stderr",
          "text": [
            "\rTraining:  82%|████████▏ | 164/200 [04:23<01:40,  2.78s/it]"
          ]
        },
        {
          "output_type": "stream",
          "name": "stdout",
          "text": [
            "Epoch 163, Loss: 0.1984\n"
          ]
        },
        {
          "output_type": "stream",
          "name": "stderr",
          "text": [
            "\rTraining:  82%|████████▎ | 165/200 [04:28<02:04,  3.55s/it]"
          ]
        },
        {
          "output_type": "stream",
          "name": "stdout",
          "text": [
            "Epoch 164, Loss: 0.1985\n"
          ]
        },
        {
          "output_type": "stream",
          "name": "stderr",
          "text": [
            "\rTraining:  83%|████████▎ | 166/200 [04:32<02:01,  3.57s/it]"
          ]
        },
        {
          "output_type": "stream",
          "name": "stdout",
          "text": [
            "Epoch 165, Loss: 0.1984\n"
          ]
        },
        {
          "output_type": "stream",
          "name": "stderr",
          "text": [
            "\rTraining:  84%|████████▎ | 167/200 [04:34<01:45,  3.19s/it]"
          ]
        },
        {
          "output_type": "stream",
          "name": "stdout",
          "text": [
            "Epoch 166, Loss: 0.1980\n"
          ]
        },
        {
          "output_type": "stream",
          "name": "stderr",
          "text": [
            "\rTraining:  84%|████████▍ | 168/200 [04:36<01:33,  2.92s/it]"
          ]
        },
        {
          "output_type": "stream",
          "name": "stdout",
          "text": [
            "Epoch 167, Loss: 0.1980\n"
          ]
        },
        {
          "output_type": "stream",
          "name": "stderr",
          "text": [
            "\rTraining:  84%|████████▍ | 169/200 [04:38<01:19,  2.55s/it]"
          ]
        },
        {
          "output_type": "stream",
          "name": "stdout",
          "text": [
            "Epoch 168, Loss: 0.1977\n"
          ]
        },
        {
          "output_type": "stream",
          "name": "stderr",
          "text": [
            "\rTraining:  85%|████████▌ | 170/200 [04:39<01:05,  2.18s/it]"
          ]
        },
        {
          "output_type": "stream",
          "name": "stdout",
          "text": [
            "Epoch 169, Loss: 0.1978\n"
          ]
        },
        {
          "output_type": "stream",
          "name": "stderr",
          "text": [
            "\rTraining:  86%|████████▌ | 171/200 [04:41<00:55,  1.92s/it]"
          ]
        },
        {
          "output_type": "stream",
          "name": "stdout",
          "text": [
            "Epoch 170, Loss: 0.1974\n"
          ]
        },
        {
          "output_type": "stream",
          "name": "stderr",
          "text": [
            "\rTraining:  86%|████████▌ | 172/200 [04:42<00:48,  1.73s/it]"
          ]
        },
        {
          "output_type": "stream",
          "name": "stdout",
          "text": [
            "Epoch 171, Loss: 0.1970\n"
          ]
        },
        {
          "output_type": "stream",
          "name": "stderr",
          "text": [
            "\rTraining:  86%|████████▋ | 173/200 [04:43<00:43,  1.62s/it]"
          ]
        },
        {
          "output_type": "stream",
          "name": "stdout",
          "text": [
            "Epoch 172, Loss: 0.1973\n"
          ]
        },
        {
          "output_type": "stream",
          "name": "stderr",
          "text": [
            "\rTraining:  87%|████████▋ | 174/200 [04:45<00:39,  1.54s/it]"
          ]
        },
        {
          "output_type": "stream",
          "name": "stdout",
          "text": [
            "Epoch 173, Loss: 0.1971\n"
          ]
        },
        {
          "output_type": "stream",
          "name": "stderr",
          "text": [
            "\rTraining:  88%|████████▊ | 175/200 [04:46<00:36,  1.47s/it]"
          ]
        },
        {
          "output_type": "stream",
          "name": "stdout",
          "text": [
            "Epoch 174, Loss: 0.1963\n"
          ]
        },
        {
          "output_type": "stream",
          "name": "stderr",
          "text": [
            "\rTraining:  88%|████████▊ | 176/200 [04:47<00:34,  1.44s/it]"
          ]
        },
        {
          "output_type": "stream",
          "name": "stdout",
          "text": [
            "Epoch 175, Loss: 0.1966\n"
          ]
        },
        {
          "output_type": "stream",
          "name": "stderr",
          "text": [
            "\rTraining:  88%|████████▊ | 177/200 [04:49<00:35,  1.56s/it]"
          ]
        },
        {
          "output_type": "stream",
          "name": "stdout",
          "text": [
            "Epoch 176, Loss: 0.1964\n"
          ]
        },
        {
          "output_type": "stream",
          "name": "stderr",
          "text": [
            "\rTraining:  89%|████████▉ | 178/200 [04:51<00:35,  1.60s/it]"
          ]
        },
        {
          "output_type": "stream",
          "name": "stdout",
          "text": [
            "Epoch 177, Loss: 0.1964\n"
          ]
        },
        {
          "output_type": "stream",
          "name": "stderr",
          "text": [
            "\rTraining:  90%|████████▉ | 179/200 [04:52<00:32,  1.53s/it]"
          ]
        },
        {
          "output_type": "stream",
          "name": "stdout",
          "text": [
            "Epoch 178, Loss: 0.1963\n"
          ]
        },
        {
          "output_type": "stream",
          "name": "stderr",
          "text": [
            "\rTraining:  90%|█████████ | 180/200 [04:53<00:29,  1.47s/it]"
          ]
        },
        {
          "output_type": "stream",
          "name": "stdout",
          "text": [
            "Epoch 179, Loss: 0.1958\n"
          ]
        },
        {
          "output_type": "stream",
          "name": "stderr",
          "text": [
            "\rTraining:  90%|█████████ | 181/200 [04:55<00:27,  1.42s/it]"
          ]
        },
        {
          "output_type": "stream",
          "name": "stdout",
          "text": [
            "Epoch 180, Loss: 0.1958\n"
          ]
        },
        {
          "output_type": "stream",
          "name": "stderr",
          "text": [
            "\rTraining:  91%|█████████ | 182/200 [04:56<00:25,  1.39s/it]"
          ]
        },
        {
          "output_type": "stream",
          "name": "stdout",
          "text": [
            "Epoch 181, Loss: 0.1953\n"
          ]
        },
        {
          "output_type": "stream",
          "name": "stderr",
          "text": [
            "\rTraining:  92%|█████████▏| 183/200 [04:57<00:23,  1.38s/it]"
          ]
        },
        {
          "output_type": "stream",
          "name": "stdout",
          "text": [
            "Epoch 182, Loss: 0.1952\n"
          ]
        },
        {
          "output_type": "stream",
          "name": "stderr",
          "text": [
            "\rTraining:  92%|█████████▏| 184/200 [04:59<00:21,  1.35s/it]"
          ]
        },
        {
          "output_type": "stream",
          "name": "stdout",
          "text": [
            "Epoch 183, Loss: 0.1953\n"
          ]
        },
        {
          "output_type": "stream",
          "name": "stderr",
          "text": [
            "\rTraining:  92%|█████████▎| 185/200 [05:00<00:19,  1.33s/it]"
          ]
        },
        {
          "output_type": "stream",
          "name": "stdout",
          "text": [
            "Epoch 184, Loss: 0.1955\n"
          ]
        },
        {
          "output_type": "stream",
          "name": "stderr",
          "text": [
            "\rTraining:  93%|█████████▎| 186/200 [05:02<00:20,  1.48s/it]"
          ]
        },
        {
          "output_type": "stream",
          "name": "stdout",
          "text": [
            "Epoch 185, Loss: 0.1950\n"
          ]
        },
        {
          "output_type": "stream",
          "name": "stderr",
          "text": [
            "\rTraining:  94%|█████████▎| 187/200 [05:03<00:19,  1.51s/it]"
          ]
        },
        {
          "output_type": "stream",
          "name": "stdout",
          "text": [
            "Epoch 186, Loss: 0.1952\n"
          ]
        },
        {
          "output_type": "stream",
          "name": "stderr",
          "text": [
            "\rTraining:  94%|█████████▍| 188/200 [05:05<00:17,  1.43s/it]"
          ]
        },
        {
          "output_type": "stream",
          "name": "stdout",
          "text": [
            "Epoch 187, Loss: 0.1945\n"
          ]
        },
        {
          "output_type": "stream",
          "name": "stderr",
          "text": [
            "\rTraining:  94%|█████████▍| 189/200 [05:06<00:15,  1.37s/it]"
          ]
        },
        {
          "output_type": "stream",
          "name": "stdout",
          "text": [
            "Epoch 188, Loss: 0.1951\n"
          ]
        },
        {
          "output_type": "stream",
          "name": "stderr",
          "text": [
            "\rTraining:  95%|█████████▌| 190/200 [05:07<00:13,  1.35s/it]"
          ]
        },
        {
          "output_type": "stream",
          "name": "stdout",
          "text": [
            "Epoch 189, Loss: 0.1947\n"
          ]
        },
        {
          "output_type": "stream",
          "name": "stderr",
          "text": [
            "\rTraining:  96%|█████████▌| 191/200 [05:08<00:11,  1.32s/it]"
          ]
        },
        {
          "output_type": "stream",
          "name": "stdout",
          "text": [
            "Epoch 190, Loss: 0.1944\n"
          ]
        },
        {
          "output_type": "stream",
          "name": "stderr",
          "text": [
            "\rTraining:  96%|█████████▌| 192/200 [05:10<00:10,  1.30s/it]"
          ]
        },
        {
          "output_type": "stream",
          "name": "stdout",
          "text": [
            "Epoch 191, Loss: 0.1941\n"
          ]
        },
        {
          "output_type": "stream",
          "name": "stderr",
          "text": [
            "\rTraining:  96%|█████████▋| 193/200 [05:11<00:09,  1.29s/it]"
          ]
        },
        {
          "output_type": "stream",
          "name": "stdout",
          "text": [
            "Epoch 192, Loss: 0.1943\n"
          ]
        },
        {
          "output_type": "stream",
          "name": "stderr",
          "text": [
            "\rTraining:  97%|█████████▋| 194/200 [05:12<00:07,  1.29s/it]"
          ]
        },
        {
          "output_type": "stream",
          "name": "stdout",
          "text": [
            "Epoch 193, Loss: 0.1940\n"
          ]
        },
        {
          "output_type": "stream",
          "name": "stderr",
          "text": [
            "\rTraining:  98%|█████████▊| 195/200 [05:14<00:06,  1.40s/it]"
          ]
        },
        {
          "output_type": "stream",
          "name": "stdout",
          "text": [
            "Epoch 194, Loss: 0.1936\n"
          ]
        },
        {
          "output_type": "stream",
          "name": "stderr",
          "text": [
            "\rTraining:  98%|█████████▊| 196/200 [05:16<00:06,  1.50s/it]"
          ]
        },
        {
          "output_type": "stream",
          "name": "stdout",
          "text": [
            "Epoch 195, Loss: 0.1940\n"
          ]
        },
        {
          "output_type": "stream",
          "name": "stderr",
          "text": [
            "\rTraining:  98%|█████████▊| 197/200 [05:17<00:04,  1.44s/it]"
          ]
        },
        {
          "output_type": "stream",
          "name": "stdout",
          "text": [
            "Epoch 196, Loss: 0.1935\n"
          ]
        },
        {
          "output_type": "stream",
          "name": "stderr",
          "text": [
            "\rTraining:  99%|█████████▉| 198/200 [05:18<00:02,  1.41s/it]"
          ]
        },
        {
          "output_type": "stream",
          "name": "stdout",
          "text": [
            "Epoch 197, Loss: 0.1933\n"
          ]
        },
        {
          "output_type": "stream",
          "name": "stderr",
          "text": [
            "\rTraining: 100%|█████████▉| 199/200 [05:20<00:01,  1.38s/it]"
          ]
        },
        {
          "output_type": "stream",
          "name": "stdout",
          "text": [
            "Epoch 198, Loss: 0.1937\n"
          ]
        },
        {
          "output_type": "stream",
          "name": "stderr",
          "text": [
            "Training: 100%|██████████| 200/200 [05:21<00:00,  1.61s/it]\n"
          ]
        },
        {
          "output_type": "stream",
          "name": "stdout",
          "text": [
            "Epoch 199, Loss: 0.1935\n",
            "\n",
            "Split Integrity Check:\n",
            "Train-CV overlap: 0\n",
            "Train-Test overlap: 0\n",
            "CV-Test overlap: 0\n"
          ]
        },
        {
          "output_type": "stream",
          "name": "stderr",
          "text": [
            "Collecting Predictions (Training): 100%|██████████| 490/490 [00:00<00:00, 696.15it/s]\n",
            "Evaluating Users (Training): 100%|██████████| 610/610 [00:08<00:00, 74.47it/s]\n"
          ]
        },
        {
          "output_type": "stream",
          "name": "stdout",
          "text": [
            "\n",
            "Metrics for Training Dataset:\n",
            "Accuracy (±0.5 tolerance): 0.8000\n",
            "Precision@20: 0.3960\n",
            "Recall@20: 0.7689\n",
            "F1-score@20: 0.4671\n",
            "NDCG@20: 0.7575\n"
          ]
        },
        {
          "output_type": "stream",
          "name": "stderr",
          "text": [
            "Collecting Predictions (Cross-Validation): 100%|██████████| 109/109 [00:00<00:00, 641.50it/s]\n",
            "Evaluating Users (Cross-Validation): 100%|██████████| 610/610 [00:19<00:00, 32.07it/s]\n"
          ]
        },
        {
          "output_type": "stream",
          "name": "stdout",
          "text": [
            "\n",
            "Metrics for Cross-Validation Dataset:\n",
            "Accuracy (±0.5 tolerance): 0.4004\n",
            "Precision@20: 0.0677\n",
            "Recall@20: 0.3586\n",
            "F1-score@20: 0.2343\n",
            "NDCG@20: 0.2217\n"
          ]
        },
        {
          "output_type": "stream",
          "name": "stderr",
          "text": [
            "Collecting Predictions (Test): 100%|██████████| 109/109 [00:00<00:00, 687.07it/s]\n",
            "Evaluating Users (Test): 100%|██████████| 610/610 [00:21<00:00, 28.63it/s]"
          ]
        },
        {
          "output_type": "stream",
          "name": "stdout",
          "text": [
            "\n",
            "Metrics for Test Dataset:\n",
            "Accuracy (±0.5 tolerance): 0.4103\n",
            "Precision@20: 0.0719\n",
            "Recall@20: 0.3739\n",
            "F1-score@20: 0.2377\n",
            "NDCG@20: 0.2372\n"
          ]
        },
        {
          "output_type": "stream",
          "name": "stderr",
          "text": [
            "\n"
          ]
        }
      ],
      "source": [
        "\n",
        "class MatrixFactorization(torch.nn.Module):\n",
        "    def __init__(self, n_users, n_items, n_factors=20):\n",
        "        super().__init__()\n",
        "        self.user_factors = torch.nn.Embedding(n_users, n_factors)\n",
        "        self.item_factors = torch.nn.Embedding(n_items, n_factors)\n",
        "        self.user_factors.weight.data.uniform_(0, 0.05)\n",
        "        self.item_factors.weight.data.uniform_(0, 0.05)\n",
        "\n",
        "    def forward(self, data):\n",
        "        users, items = data[:, 0], data[:, 1]\n",
        "        return (self.user_factors(users) * self.item_factors(items)).sum(1)\n",
        "\n",
        "    def predict(self, user, item):\n",
        "        return self.forward(user, item)\n",
        "\n",
        "model = MatrixFactorization(n_users, n_items, n_factors=20)\n",
        "if cuda:\n",
        "    model = model.cuda()\n",
        "loss_fn = torch.nn.MSELoss()\n",
        "optimizer = torch.optim.Adam(model.parameters(), lr=1e-3, weight_decay=1e-4)\n",
        "num_epochs = 200\n",
        "\n",
        "for it in tqdm(range(num_epochs), desc=\"Training\"):\n",
        "    losses = []\n",
        "    for x, y in train_loader:\n",
        "        if cuda:\n",
        "            x, y = x.cuda(), y.cuda()\n",
        "        optimizer.zero_grad()\n",
        "        outputs = model(x)\n",
        "        loss = loss_fn(outputs.squeeze(), y.type(torch.float32))\n",
        "        losses.append(loss.item())\n",
        "        loss.backward()\n",
        "        optimizer.step()\n",
        "    print(f\"Epoch {it}, Loss: {sum(losses) / len(losses):.4f}\")\n",
        "\n",
        "\n",
        "def evaluate_dataset(loader, dataset_name, k=20, relevance_threshold=5.0, tolerance=0.5):\n",
        "    model.eval()\n",
        "    predicted_ratings = []\n",
        "    actual_ratings = []\n",
        "    user_indices = []\n",
        "    movie_indices = []\n",
        "\n",
        "    with torch.no_grad():\n",
        "        for x, y in tqdm(loader, desc=f\"Collecting Predictions ({dataset_name})\"):\n",
        "            if cuda:\n",
        "                x = x.cuda()\n",
        "            outputs = model(x).squeeze()\n",
        "            predicted_ratings.extend(outputs.cpu().numpy())\n",
        "            actual_ratings.extend(y.numpy())\n",
        "            user_indices.extend(x[:, 0].cpu().numpy())\n",
        "            movie_indices.extend(x[:, 1].cpu().numpy())\n",
        "\n",
        "    eval_df = pd.DataFrame({\n",
        "        'user_idx': user_indices,\n",
        "        'movie_idx': movie_indices,\n",
        "        'predicted_rating': predicted_ratings,\n",
        "        'actual_rating': actual_ratings\n",
        "    })\n",
        "    eval_df['userId'] = eval_df['user_idx'].apply(lambda x: loader.dataset.idx2userid[x])\n",
        "    eval_df['movieId'] = eval_df['movie_idx'].apply(lambda x: loader.dataset.idx2movieid[x])\n",
        "\n",
        "\n",
        "    eval_df['correct'] = (abs(eval_df['predicted_rating'] - eval_df['actual_rating']) <= tolerance).astype(int)\n",
        "    accuracy = eval_df['correct'].mean()\n",
        "\n",
        "    precision_scores = []\n",
        "    recall_scores = []\n",
        "    f1_scores = []\n",
        "    ndcg_scores = []\n",
        "\n",
        "    def ndcg_at_k(actual, predicted, k):\n",
        "        sorted_indices = np.argsort(predicted)[::-1][:k]\n",
        "        actual_k = actual[sorted_indices]\n",
        "        relevant = (actual_k >= relevance_threshold).astype(int)\n",
        "        dcg = sum(rel / np.log2(i + 2) for i, rel in enumerate(relevant))\n",
        "        ideal_relevant = np.sort(relevant)[::-1][:k]\n",
        "        idcg = sum(rel / np.log2(i + 2) for i, rel in enumerate(ideal_relevant))\n",
        "        return dcg / idcg if idcg > 0 else 0.0\n",
        "\n",
        "    for user_id in tqdm(eval_df['userId'].unique(), desc=f\"Evaluating Users ({dataset_name})\"):\n",
        "        user_data = eval_df[eval_df['userId'] == user_id]\n",
        "\n",
        "\n",
        "        if len(user_data) < k:\n",
        "            user_idx = loader.dataset.userid2idx[user_id]\n",
        "            all_movie_indices = list(loader.dataset.movieid2idx.values())\n",
        "            user_tensor = torch.tensor([user_idx] * len(all_movie_indices)).long()\n",
        "            movie_tensor = torch.tensor(all_movie_indices).long()\n",
        "            data = torch.stack([user_tensor, movie_tensor], dim=1)\n",
        "            if cuda:\n",
        "                data = data.cuda()\n",
        "            with torch.no_grad():\n",
        "                preds = model(data).squeeze().cpu().numpy()\n",
        "            user_data = pd.DataFrame({\n",
        "                'movie_idx': all_movie_indices,\n",
        "                'predicted_rating': preds,\n",
        "                'actual_rating': [eval_df[(eval_df['userId'] == user_id) & (eval_df['movie_idx'] == idx)]['actual_rating'].iloc[0] if idx in user_data['movie_idx'].values else np.nan for idx in all_movie_indices]\n",
        "            })\n",
        "            user_data['actual_rating'] = user_data['actual_rating'].fillna(3.0)\n",
        "        top_k_pred = user_data.nlargest(k, 'predicted_rating')\n",
        "        actual_ratings_k = top_k_pred['actual_rating'].values\n",
        "        predicted_ratings_k = top_k_pred['predicted_rating'].values\n",
        "\n",
        "        relevant = (actual_ratings_k >= relevance_threshold).astype(int)\n",
        "\n",
        "        precision = np.mean(relevant)\n",
        "        precision_scores.append(precision)\n",
        "\n",
        "        all_relevant = (user_data['actual_rating'] >= relevance_threshold).sum()\n",
        "        if all_relevant > 0:\n",
        "            recall = np.sum(relevant) / all_relevant\n",
        "            recall_scores.append(recall)\n",
        "\n",
        "        if precision > 0 and recall > 0:\n",
        "            f1 = 2 * (precision * recall) / (precision + recall)\n",
        "            f1_scores.append(f1)\n",
        "\n",
        "        ndcg = ndcg_at_k(actual_ratings_k, predicted_ratings_k, k)\n",
        "        ndcg_scores.append(ndcg)\n",
        "\n",
        "    print(f\"\\nMetrics for {dataset_name} Dataset:\")\n",
        "    print(f\"Accuracy (±{tolerance} tolerance): {accuracy:.4f}\")\n",
        "    print(f\"Precision@{k}: {np.mean(precision_scores):.4f}\")\n",
        "    print(f\"Recall@{k}: {np.mean(recall_scores):.4f}\")\n",
        "    print(f\"F1-score@{k}: {np.mean(f1_scores):.4f}\")\n",
        "    print(f\"NDCG@{k}: {np.mean(ndcg_scores):.4f}\")\n",
        "\n",
        "train_pairs = set(zip(train_ratings['userId'], train_ratings['movieId']))\n",
        "cv_pairs = set(zip(cv_ratings['userId'], cv_ratings['movieId']))\n",
        "test_pairs = set(zip(test_ratings['userId'], test_ratings['movieId']))\n",
        "print(\"\\nSplit Integrity Check:\")\n",
        "print(\"Train-CV overlap:\", len(train_pairs & cv_pairs))\n",
        "print(\"Train-Test overlap:\", len(train_pairs & test_pairs))\n",
        "print(\"CV-Test overlap:\", len(cv_pairs & test_pairs))\n",
        "\n",
        "evaluate_dataset(train_loader, \"Training\", relevance_threshold=5.0)\n",
        "evaluate_dataset(cv_loader, \"Cross-Validation\", relevance_threshold=5.0)\n",
        "evaluate_dataset(test_loader, \"Test\", relevance_threshold=5.0)"
      ]
    },
    {
      "cell_type": "markdown",
      "metadata": {
        "id": "NfFLbeueTzuY"
      },
      "source": [
        "## FunkSVD"
      ]
    },
    {
      "cell_type": "code",
      "execution_count": null,
      "metadata": {
        "colab": {
          "base_uri": "https://localhost:8080/",
          "height": 1000,
          "referenced_widgets": [
            "38d5aee18d6446c1ab93e10f3338e22c",
            "475fa809beb148129d26dd4ab51d2926",
            "c06ea9000635443d88cc9b8874704324",
            "e93300f159044241830a8072e74d3d9d",
            "ed837907d90e4bfeae489e462b937b11",
            "299b842b0c95449782763314418ce2da",
            "069e93279cdb4a71a5fdde08ac26be82",
            "eb0bb4c9f2c343d7b3cbf5730533984a",
            "24e2a689d4d0470f8e295175df316a7e",
            "81bc2aee291b4c62913620b875b99f41",
            "131e0340f03d47b188acbf276006819b",
            "9057d87891e44987bc49cd372db25f19",
            "ef8185b9fbc649848a8058f416551d66",
            "ec4fae3eb1064272b8dae1e77c198d30",
            "d4ed1eeeab3149f1ae8fd48bf2112b51",
            "5d092c9c4da346daaeaf81dbfe907474",
            "66d05d3ecae74e02b7a971c201841cb6",
            "87f6b52420a44d62a85d723cba557d5b",
            "c13a4a666efe4b6f864d72ca1a718885",
            "cba90af6b7784253a20ff4dacdec9d15",
            "b9b93e6deea64f34b8eda5fbf193c274",
            "ce88a8e23fe7495787f116cf9c3be157",
            "6ba6c4fac598444c9d169834839b7fcd",
            "6bba8e3bda564a6ab1318ba7570ec719",
            "eff0aa5401814021938896c7b7c1a02f",
            "b5fc4662e3234331aa418cc282b43bed",
            "8c0671ac300844ba892ac7e52316444c",
            "d597f7e746674f25b89f9f2447eacbb4",
            "e550a429d39e4f629dda474a4daa476c",
            "a5871f3e721e472791b522218eb044c0",
            "ec44051f73c54a60abb9b79006095c8c",
            "3e4c423ab51244268ba73c8120c7b45b",
            "77695466a8584c498d4a53cbca79f488",
            "4233cfec5877450c841bf28ddeb304e0",
            "f30fd36395964db098c440ee52900c7a",
            "8cf6c189c1374c0592f11507464dc15e",
            "f0f37889598b47dd9e25caaa71c91978",
            "447a8e238ce645e5a954afadf89f4d7e",
            "8dba9805eae44517891aac4747b53787",
            "7a6adc4d04e5466ba6fc7cd86c488136",
            "45fec97c7d2e4650816de8dabf6da879",
            "267d90945ce64d1b814dea86f46b731b",
            "e8809a612c144487b8e7b01df362a890",
            "201b7f404f2f46aba508a6270c75193f",
            "5c3d461c20b84f299a4af63d1230bfac",
            "6107b0c1c2f446ed9ef8e376fff1a5cc",
            "016dc4d9c73d468d80caa586d116a105",
            "01265745b6c94a83bebc4a55b44ed35e",
            "f70a60f61a8b41a2b110864a1a99a8f2",
            "0179daeaea89495f8a9e71ed0d9385ca",
            "e7cfd96382d94e56a41445358dc0b34a",
            "8938fedaf25348ec81978bfff566344a",
            "8be4efcc66984d8dbd8a2b41e26aadff",
            "5b13a8d87cbd4976858358762960cb06",
            "a1a104d6db6846d8bb8003c061bd09aa"
          ]
        },
        "id": "Baj2RhUST2b-",
        "outputId": "c0f7e43d-4c0f-45e4-b154-713e46b968e7"
      },
      "outputs": [
        {
          "output_type": "stream",
          "name": "stdout",
          "text": [
            "Input data: 100836 ratings, 610 users, 9724 movies\n",
            "Filtered data: 90274 ratings, 610 users, 3650 movies\n",
            "\n",
            "Split Integrity Check:\n",
            "Train-CV overlap: 0\n",
            "Train-Test overlap: 0\n",
            "CV-Test overlap: 0\n",
            "Rating matrix validated.\n"
          ]
        },
        {
          "output_type": "display_data",
          "data": {
            "text/plain": [
              "RPCA:   0%|          | 0/100 [00:00<?, ?it/s]"
            ],
            "application/vnd.jupyter.widget-view+json": {
              "version_major": 2,
              "version_minor": 0,
              "model_id": "38d5aee18d6446c1ab93e10f3338e22c"
            }
          },
          "metadata": {}
        },
        {
          "output_type": "stream",
          "name": "stdout",
          "text": [
            "Error in rpca: name 'hist' is not defined\n",
            "RPCA completed (no evaluation).\n"
          ]
        },
        {
          "output_type": "display_data",
          "data": {
            "text/plain": [
              "Funk SVD Training:   0%|          | 0/200 [00:00<?, ?it/s]"
            ],
            "application/vnd.jupyter.widget-view+json": {
              "version_major": 2,
              "version_minor": 0,
              "model_id": "9057d87891e44987bc49cd372db25f19"
            }
          },
          "metadata": {}
        },
        {
          "output_type": "stream",
          "name": "stdout",
          "text": [
            "Epoch 0, RMSE: 0.9212, Max Error: 3.0810, Min Error: -3.8812, Mean Error for 5.0: 1.2109\n",
            "Epoch 10, RMSE: 0.5652, Max Error: 2.3955, Min Error: -3.2913, Mean Error for 5.0: 0.5835\n",
            "Epoch 20, RMSE: 0.3729, Max Error: 1.6942, Min Error: -2.2753, Mean Error for 5.0: 0.3114\n",
            "Epoch 30, RMSE: 0.3012, Max Error: 1.4711, Min Error: -2.1231, Mean Error for 5.0: 0.2248\n",
            "Epoch 40, RMSE: 0.2652, Max Error: 1.4305, Min Error: -1.8844, Mean Error for 5.0: 0.1866\n",
            "Epoch 50, RMSE: 0.2435, Max Error: 1.4725, Min Error: -1.8887, Mean Error for 5.0: 0.1644\n",
            "Epoch 60, RMSE: 0.2292, Max Error: 1.5210, Min Error: -1.6461, Mean Error for 5.0: 0.1523\n",
            "Epoch 70, RMSE: 0.2188, Max Error: 1.4060, Min Error: -1.6482, Mean Error for 5.0: 0.1435\n",
            "Epoch 80, RMSE: 0.2110, Max Error: 1.5178, Min Error: -1.5971, Mean Error for 5.0: 0.1374\n",
            "Epoch 90, RMSE: 0.2048, Max Error: 1.3751, Min Error: -1.5759, Mean Error for 5.0: 0.1335\n",
            "Epoch 100, RMSE: 0.1998, Max Error: 1.4500, Min Error: -1.5439, Mean Error for 5.0: 0.1301\n",
            "Epoch 110, RMSE: 0.1956, Max Error: 1.4560, Min Error: -1.4672, Mean Error for 5.0: 0.1261\n",
            "Epoch 120, RMSE: 0.1920, Max Error: 1.4312, Min Error: -1.4300, Mean Error for 5.0: 0.1237\n",
            "Epoch 130, RMSE: 0.1890, Max Error: 1.3948, Min Error: -1.5182, Mean Error for 5.0: 0.1215\n",
            "Epoch 140, RMSE: 0.1863, Max Error: 1.2865, Min Error: -1.4931, Mean Error for 5.0: 0.1197\n",
            "Epoch 150, RMSE: 0.1839, Max Error: 1.3548, Min Error: -1.4144, Mean Error for 5.0: 0.1180\n",
            "Epoch 160, RMSE: 0.1819, Max Error: 1.3950, Min Error: -1.4373, Mean Error for 5.0: 0.1165\n",
            "Epoch 170, RMSE: 0.1801, Max Error: 1.3764, Min Error: -1.4325, Mean Error for 5.0: 0.1163\n",
            "Epoch 180, RMSE: 0.1784, Max Error: 1.3272, Min Error: -1.4108, Mean Error for 5.0: 0.1158\n",
            "Epoch 190, RMSE: 0.1768, Max Error: 1.3904, Min Error: -1.4530, Mean Error for 5.0: 0.1128\n",
            "Final Training RMSE: 0.1756\n"
          ]
        },
        {
          "output_type": "display_data",
          "data": {
            "text/plain": [
              "Evaluating Users (Training):   0%|          | 0/610 [00:00<?, ?it/s]"
            ],
            "application/vnd.jupyter.widget-view+json": {
              "version_major": 2,
              "version_minor": 0,
              "model_id": "6ba6c4fac598444c9d169834839b7fcd"
            }
          },
          "metadata": {}
        },
        {
          "output_type": "stream",
          "name": "stdout",
          "text": [
            "\n",
            "Metrics for Training Dataset (Funk SVD):\n",
            "Accuracy (±0.25 tolerance): 0.8825\n",
            "Precision@20: 0.4348\n",
            "Recall@20: 0.7872\n",
            "F1-score@20: 0.5432\n",
            "NDCG@20: 0.7834\n"
          ]
        },
        {
          "output_type": "display_data",
          "data": {
            "text/plain": [
              "Evaluating Users (Cross-Validation):   0%|          | 0/610 [00:00<?, ?it/s]"
            ],
            "application/vnd.jupyter.widget-view+json": {
              "version_major": 2,
              "version_minor": 0,
              "model_id": "4233cfec5877450c841bf28ddeb304e0"
            }
          },
          "metadata": {}
        },
        {
          "output_type": "stream",
          "name": "stdout",
          "text": [
            "\n",
            "Metrics for Cross-Validation Dataset (Funk SVD):\n",
            "Accuracy (±0.25 tolerance): 0.2277\n",
            "Precision@20: 0.0582\n",
            "Recall@20: 0.2744\n",
            "F1-score@20: 0.2633\n",
            "NDCG@20: 0.1695\n"
          ]
        },
        {
          "output_type": "display_data",
          "data": {
            "text/plain": [
              "Evaluating Users (Test):   0%|          | 0/610 [00:00<?, ?it/s]"
            ],
            "application/vnd.jupyter.widget-view+json": {
              "version_major": 2,
              "version_minor": 0,
              "model_id": "5c3d461c20b84f299a4af63d1230bfac"
            }
          },
          "metadata": {}
        },
        {
          "output_type": "stream",
          "name": "stdout",
          "text": [
            "\n",
            "Metrics for Test Dataset (Funk SVD):\n",
            "Accuracy (±0.25 tolerance): 0.2251\n",
            "Precision@20: 0.0621\n",
            "Recall@20: 0.2854\n",
            "F1-score@20: 0.2667\n",
            "NDCG@20: 0.1804\n",
            "\n",
            "Predictions for 5.0-rated movies in Test set (Top 10):\n",
            "    movieId  predicted_rating  rating                  movie_title\n",
            "7      1213              4.71     5.0            Goodfellas (1990)\n",
            "8      2137              5.00     5.0       Charlotte's Web (1973)\n",
            "9      1282              5.00     5.0              Fantasia (1940)\n",
            "10       47              4.17     5.0  Seven (a.k.a. Se7en) (1995)\n",
            "11     2141              4.26     5.0     American Tail, An (1986)\n",
            "13     1256              4.59     5.0             Duck Soup (1933)\n",
            "14     2094              4.31     5.0        Rocketeer, The (1991)\n",
            "15     2529              4.08     5.0    Planet of the Apes (1968)\n",
            "16      608              5.00     5.0                 Fargo (1996)\n",
            "17     2078              4.67     5.0      Jungle Book, The (1967)\n",
            "count    13827.00\n",
            "mean         3.54\n",
            "std          0.85\n",
            "min          0.50\n",
            "25%          2.98\n",
            "50%          3.57\n",
            "75%          4.14\n",
            "max          5.00\n",
            "Name: predicted_rating, dtype: float64\n",
            "Mean predicted rating for 5.0: 4.0601\n"
          ]
        }
      ],
      "source": [
        "def split_ratings_per_user(ratings_df, train_ratio=0.7, cv_ratio=0.15, test_ratio=0.15, random_state=456):\n",
        "    try:\n",
        "        train_data = []\n",
        "        cv_data = []\n",
        "        test_data = []\n",
        "        for user_id, user_ratings in ratings_df.groupby('userId'):\n",
        "            if len(user_ratings) < 3:\n",
        "                continue\n",
        "            train_cv_ratings, test_ratings = train_test_split(\n",
        "                user_ratings, test_size=test_ratio, random_state=random_state, shuffle=True\n",
        "            )\n",
        "            train_ratio_adjusted = train_ratio / (train_ratio + cv_ratio)\n",
        "            train_ratings, cv_ratings = train_test_split(\n",
        "                train_cv_ratings, test_size=1 - train_ratio_adjusted, random_state=random_state, shuffle=True\n",
        "            )\n",
        "            train_data.append(train_ratings)\n",
        "            cv_data.append(cv_ratings)\n",
        "            test_data.append(test_ratings)\n",
        "        return pd.concat(train_data, ignore_index=True), pd.concat(cv_data, ignore_index=True), pd.concat(test_data, ignore_index=True)\n",
        "    except Exception as e:\n",
        "        print(f\"Error in split_ratings_per_user: {e}\")\n",
        "        return ratings_df, ratings_df, ratings_df\n",
        "\n",
        "def create_rating_matrix(ratings_df, n_users, n_items, userid2idx, movieid2idx):\n",
        "    try:\n",
        "        data = ratings_df['rating'].values\n",
        "        rows = [userid2idx[uid] for uid in ratings_df['userId']]\n",
        "        cols = [movieid2idx[mid] for mid in ratings_df['movieId']]\n",
        "        return scipy.sparse.csr_matrix((data, (rows, cols)), shape=(n_users, n_items))\n",
        "    except Exception as e:\n",
        "        print(f\"Error in create_rating_matrix: {e}\")\n",
        "        return None\n",
        "\n",
        "def rpca(M, lambda_=0.00001, mu=1.0, max_iter=100, tol=1e-5, k_svd=150):\n",
        "    try:\n",
        "        M_sparse = scipy.sparse.csr_matrix(M)\n",
        "        Y = M_sparse.copy()\n",
        "        L = scipy.sparse.csr_matrix(M.shape)\n",
        "        S = scipy.sparse.csr_matrix(M.shape)\n",
        "        for _ in tqdm(range(max_iter), desc=\"RPCA\"):\n",
        "            Y_dense = Y.toarray()\n",
        "            S_dense = S.toarray()\n",
        "            U, Sigma, Vt = svds(Y_dense - S_dense, k=min(k_svd, min(M.shape)-1))\n",
        "            Sigma_shrunk = np.maximum(Sigma - 1/mu, 0)\n",
        "            L_new = U @ np.diag(Sigma_shrunk) @ Vt\n",
        "            S_new = np.sign(Y_dense - L_new) * np.maximum(np.abs(Y_dense - L_new) - lambda_/mu, 0)\n",
        "            Y = Y + mu * (M_sparse - scipy.sparse.csr_matrix(L_new) - scipy.sparse.csr_matrix(S_new))\n",
        "            if np.linalg.norm(L_new - L.toarray(), 'fro') < tol and np.linalg.norm(S_new - S.toarray(), 'fro') < tol:\n",
        "                print(f\"RPCA converged after {_} iterations\")\n",
        "                break\n",
        "            L = scipy.sparse.csr_matrix(L_new)\n",
        "            S = scipy.sparse.csr_matrix(S_new)\n",
        "        L_new = np.clip(L_new, 0.5, 5.0)\n",
        "        target_std = 1.03\n",
        "        L_new = (L_new - L_new.mean()) / (L_new.std() + 1e-8) * target_std + 3.54\n",
        "        L_new = np.clip(L_new, 0.5, 5.0)\n",
        "        L_flat = L_new.flatten()\n",
        "        bins = np.arange(0.5, 5.5, 0.5)\n",
        "\n",
        "        for i, count in enumerate(hist):\n",
        "            print(f\"[{bins[i]:.1f}, {bins[i+1]:.1f}]: {count} ({count/len(L_flat):.4f})\")\n",
        "        return L_new, S_new\n",
        "    except Exception as e:\n",
        "        print(f\"Error in rpca: {e}\")\n",
        "        return M, np.zeros_like(M)\n",
        "\n",
        "def funk_svd(ratings_df, L, n_users, n_items, userid2idx, movieid2idx, k=30, lr=0.02, reg=0.01, epochs=200):\n",
        "    try:\n",
        "        global_mean = ratings_df['rating'].mean()\n",
        "        P = np.random.normal(0, 0.1, (n_users, k))\n",
        "        Q = np.random.normal(0, 0.1, (n_items, k))\n",
        "        user_bias = np.zeros(n_users)\n",
        "        item_bias = np.zeros(n_items)\n",
        "        initial_lr = lr\n",
        "        errors = []\n",
        "        for epoch in tqdm(range(epochs), desc=\"Funk SVD Training\"):\n",
        "            lr = initial_lr / (1 + 0.005 * epoch)\n",
        "            epoch_error = 0\n",
        "            count = 0\n",
        "            max_error = -np.inf\n",
        "            min_error = np.inf\n",
        "            error_5_0 = []\n",
        "            for _, row in ratings_df.sample(frac=1).iterrows():\n",
        "                u = userid2idx.get(row['userId'], -1)\n",
        "                i = movieid2idx.get(row['movieId'], -1)\n",
        "                if u == -1 or i == -1:\n",
        "                    continue\n",
        "                r_ui = row['rating']\n",
        "                pred = global_mean + user_bias[u] + item_bias[i] + np.dot(P[u], Q[i])\n",
        "                error = r_ui - pred\n",
        "                error = np.clip(error, -5.0, 5.0)\n",
        "                epoch_error += error ** 2\n",
        "                count += 1\n",
        "                max_error = max(max_error, error)\n",
        "                min_error = min(min_error, error)\n",
        "                if r_ui == 5.0:\n",
        "                    error_5_0.append(error)\n",
        "                user_bias[u] += lr * (error - reg * user_bias[u])\n",
        "                item_bias[i] += lr * (error - reg * item_bias[i])\n",
        "                P_update = lr * (error * Q[i] - reg * P[u])\n",
        "                Q_update = lr * (error * P[u] - reg * Q[i])\n",
        "                P[u] += np.clip(P_update, -1.0, 1.0)\n",
        "                Q[i] += np.clip(Q_update, -1.0, 1.0)\n",
        "            if count > 0:\n",
        "                rmse = np.sqrt(epoch_error / count)\n",
        "                errors.append(rmse)\n",
        "                mean_error_5_0 = np.mean(error_5_0) if error_5_0 else 0.0\n",
        "                if epoch % 10 == 0:\n",
        "                    print(f\"Epoch {epoch}, RMSE: {rmse:.4f}, Max Error: {max_error:.4f}, Min Error: {min_error:.4f}, Mean Error for 5.0: {mean_error_5_0:.4f}\")\n",
        "            if np.isnan(rmse):\n",
        "                print(f\"NaN detected at epoch {epoch}. Reducing learning rate.\")\n",
        "                lr = initial_lr * 0.5\n",
        "        print(f\"Final Training RMSE: {errors[-1]:.4f}\")\n",
        "        return P, Q, user_bias, item_bias, global_mean\n",
        "    except Exception as e:\n",
        "        print(f\"Error in funk_svd: {e}\")\n",
        "        return None, None, None, None, global_mean\n",
        "\n",
        "def evaluate_dataset_funk_svd(ratings_df, P, Q, user_bias, item_bias, global_mean, dataset_name, userid2idx, movieid2idx, movie_names, k=20, relevance_threshold=5.0, tolerance=0.25):\n",
        "    try:\n",
        "        eval_df = ratings_df.copy()\n",
        "        avg_item_bias = np.mean(item_bias) if len(item_bias) > 0 else 0.0\n",
        "        avg_Q = np.mean(Q, axis=0) if Q is not None else np.zeros_like(Q[0])\n",
        "        eval_df['predicted_rating'] = [\n",
        "            global_mean + user_bias[userid2idx.get(uid, 0)] + item_bias[movieid2idx.get(mid, 0)] + np.dot(P[userid2idx.get(uid, 0)], Q[movieid2idx.get(mid, 0)])\n",
        "            if uid in userid2idx and mid in movieid2idx\n",
        "            else global_mean + user_bias[userid2idx.get(uid, 0)] + avg_item_bias + np.dot(P[userid2idx.get(uid, 0)], avg_Q) if uid in userid2idx\n",
        "            else global_mean\n",
        "            for uid, mid in zip(eval_df['userId'], eval_df['movieId'])\n",
        "        ]\n",
        "        eval_df['predicted_rating'] = eval_df['predicted_rating'].clip(0.5, 5.0)\n",
        "\n",
        "        eval_df['error'] = abs(eval_df['predicted_rating'] - eval_df['rating'])\n",
        "        eval_df['correct'] = (eval_df['error'] <= tolerance).astype(int)\n",
        "        accuracy = eval_df['correct'].mean()\n",
        "\n",
        "        precision_scores = []\n",
        "        recall_scores = []\n",
        "        f1_scores = []\n",
        "        ndcg_scores = []\n",
        "\n",
        "        def ndcg_at_k(actual, predicted, k):\n",
        "            sorted_indices = np.argsort(predicted)[::-1][:k]\n",
        "            actual_k = actual[sorted_indices]\n",
        "            relevant = (actual_k >= relevance_threshold).astype(int)\n",
        "            dcg = sum(rel / np.log2(i + 2) for i, rel in enumerate(relevant))\n",
        "            ideal_relevant = np.sort(relevant)[::-1][:k]\n",
        "            idcg = sum(rel / np.log2(i + 2) for i, rel in enumerate(ideal_relevant))\n",
        "            return dcg / idcg if idcg > 0 else 0.0\n",
        "\n",
        "        for user_id in tqdm(eval_df['userId'].unique(), desc=f\"Evaluating Users ({dataset_name})\"):\n",
        "            user_data = eval_df[eval_df['userId'] == user_id]\n",
        "            if len(user_data) < k and user_id in userid2idx:\n",
        "                user_idx = userid2idx[user_id]\n",
        "                all_movie_indices = list(movieid2idx.keys())\n",
        "                preds = [\n",
        "                    global_mean + user_bias[user_idx] + item_bias[movieid2idx[mid]] + np.dot(P[user_idx], Q[movieid2idx[mid]])\n",
        "                    if mid in movieid2idx\n",
        "                    else global_mean + user_bias[user_idx] + avg_item_bias + np.dot(P[user_idx], avg_Q)\n",
        "                    for mid in all_movie_indices\n",
        "                ]\n",
        "                user_data = pd.DataFrame({\n",
        "                    'movieId': all_movie_indices,\n",
        "                    'predicted_rating': preds,\n",
        "                    'rating': [\n",
        "                        eval_df[(eval_df['userId'] == user_id) & (eval_df['movieId'] == mid)]['rating'].iloc[0]\n",
        "                        if mid in user_data['movieId'].values else 3.0\n",
        "                        for mid in all_movie_indices\n",
        "                    ]\n",
        "                })\n",
        "\n",
        "            top_k_pred = user_data.nlargest(k, 'predicted_rating')\n",
        "            actual_ratings_k = top_k_pred['rating'].values\n",
        "            predicted_ratings_k = top_k_pred['predicted_rating'].values\n",
        "\n",
        "            relevant = (actual_ratings_k >= relevance_threshold).astype(int)\n",
        "            precision = np.mean(relevant)\n",
        "            precision_scores.append(precision)\n",
        "\n",
        "            all_relevant = (user_data['rating'] >= relevance_threshold).sum()\n",
        "            if all_relevant > 0:\n",
        "                recall = np.sum(relevant) / all_relevant\n",
        "                recall_scores.append(recall)\n",
        "\n",
        "            if precision > 0 and recall > 0:\n",
        "                f1 = 2 * (precision * recall) / (precision + recall)\n",
        "                f1_scores.append(f1)\n",
        "\n",
        "            ndcg = ndcg_at_k(actual_ratings_k, predicted_ratings_k, k)\n",
        "            ndcg_scores.append(ndcg)\n",
        "\n",
        "        print(f\"\\nMetrics for {dataset_name} Dataset (Funk SVD):\")\n",
        "        print(f\"Accuracy (±{tolerance} tolerance): {accuracy:.4f}\")\n",
        "        print(f\"Precision@{k}: {np.mean(precision_scores):.4f}\")\n",
        "        print(f\"Recall@{k}: {np.mean(recall_scores):.4f}\")\n",
        "        print(f\"F1-score@{k}: {np.mean(f1_scores):.4f}\")\n",
        "        print(f\"NDCG@{k}: {np.mean(ndcg_scores):.4f}\")\n",
        "\n",
        "        if dataset_name == \"Test\":\n",
        "            eval_df['relevant'] = eval_df['rating'] == 5.0\n",
        "            relevant_preds = eval_df[eval_df['relevant']][['movieId', 'predicted_rating', 'rating']]\n",
        "            relevant_preds['movie_title'] = relevant_preds['movieId'].map(movie_names)\n",
        "            print(\"\\nPredictions for 5.0-rated movies in Test set (Top 10):\")\n",
        "            print(relevant_preds.head(10).round(2))\n",
        "\n",
        "            print(eval_df['predicted_rating'].describe().round(2))\n",
        "            print(f\"Mean predicted rating for 5.0: {relevant_preds['predicted_rating'].mean():.4f}\")\n",
        "    except Exception as e:\n",
        "        print(f\"Error in evaluate_dataset_funk_svd: {e}\")\n",
        "\n",
        "try:\n",
        "    if not all(col in ratings_df.columns for col in ['userId', 'movieId', 'rating']):\n",
        "        raise ValueError(\"ratings_df missing required columns: userId, movieId, rating\")\n",
        "    if not isinstance(movie_names, dict):\n",
        "        raise ValueError(\"movie_names must be a dictionary mapping movieId to titles\")\n",
        "    print(f\"Input data: {len(ratings_df)} ratings, {len(ratings_df['userId'].unique())} users, {len(ratings_df['movieId'].unique())} movies\")\n",
        "except Exception as e:\n",
        "    print(f\"Input data error: {e}\")\n",
        "    raise\n",
        "\n",
        "ratings_df_filtered = filter_data(ratings_df, min_ratings_user=20, min_ratings_movie=5)\n",
        "\n",
        "train_ratings, cv_ratings, test_ratings = split_ratings_per_user(ratings_df_filtered, random_state=456)\n",
        "\n",
        "\n",
        "train_pairs = set(zip(train_ratings['userId'], train_ratings['movieId']))\n",
        "cv_pairs = set(zip(cv_ratings['userId'], cv_ratings['movieId']))\n",
        "test_pairs = set(zip(test_ratings['userId'], test_ratings['movieId']))\n",
        "print(\"\\nSplit Integrity Check:\")\n",
        "print(\"Train-CV overlap:\", len(train_pairs & cv_pairs))\n",
        "print(\"Train-Test overlap:\", len(train_pairs & test_pairs))\n",
        "print(\"CV-Test overlap:\", len(cv_pairs & test_pairs))\n",
        "\n",
        "\n",
        "try:\n",
        "    userid2idx = {uid: idx for idx, uid in enumerate(ratings_df_filtered['userId'].unique())}\n",
        "    movieid2idx = {mid: idx for idx, mid in enumerate(ratings_df_filtered['movieId'].unique())}\n",
        "    M = create_rating_matrix(ratings_df_filtered, n_users, n_items, userid2idx, movieid2idx)\n",
        "    if M is None:\n",
        "        raise ValueError(\"Failed to create rating matrix\")\n",
        "    M_dense = M.toarray()\n",
        "    for _, row in train_ratings.sample(100).iterrows():\n",
        "        u = userid2idx[row['userId']]\n",
        "        i = movieid2idx[row['movieId']]\n",
        "        assert abs(M_dense[u, i] - row['rating']) < 1e-5, f\"Mismatch at user {u}, item {i}: M={M_dense[u, i]}, rating={row['rating']}\"\n",
        "    print(\"Rating matrix validated.\")\n",
        "    L, S = rpca(M.toarray(), lambda_=0.00001, mu=1.0, k_svd=150)\n",
        "    print(\"RPCA completed (no evaluation).\")\n",
        "except Exception as e:\n",
        "    print(f\"Error in RPCA pipeline: {e}\")\n",
        "    raise\n",
        "\n",
        "try:\n",
        "    P, Q, user_bias, item_bias, global_mean = funk_svd(train_ratings, L, n_users, n_items, userid2idx, movieid2idx, k=30, lr=0.02, reg=0.01, epochs=200)\n",
        "    if P is None:\n",
        "        raise ValueError(\"Funk SVD training failed\")\n",
        "except Exception as e:\n",
        "    print(f\"Error in Funk SVD pipeline: {e}\")\n",
        "    raise\n",
        "\n",
        "evaluate_dataset_funk_svd(train_ratings, P, Q, user_bias, item_bias, global_mean, \"Training\", userid2idx, movieid2idx, movie_names, tolerance=0.25)\n",
        "evaluate_dataset_funk_svd(cv_ratings, P, Q, user_bias, item_bias, global_mean, \"Cross-Validation\", userid2idx, movieid2idx, movie_names, tolerance=0.25)\n",
        "evaluate_dataset_funk_svd(test_ratings, P, Q, user_bias, item_bias, global_mean, \"Test\", userid2idx, movieid2idx, movie_names, tolerance=0.25)"
      ]
    },
    {
      "cell_type": "markdown",
      "metadata": {
        "id": "tN5mj-eIT6ks"
      },
      "source": [
        "## NCF"
      ]
    },
    {
      "cell_type": "code",
      "execution_count": null,
      "metadata": {
        "colab": {
          "base_uri": "https://localhost:8080/"
        },
        "id": "IdHBgAM6T8o6",
        "outputId": "335a9837-1b76-4ad4-b0ed-e704d552b059"
      },
      "outputs": [
        {
          "output_type": "stream",
          "name": "stdout",
          "text": [
            "Input data: 100836 ratings, 610 users, 9724 movies\n",
            "Filtered data: 90274 ratings, 610 users, 3650 movies\n",
            "Epoch 1/50\n",
            "\u001b[1m245/245\u001b[0m \u001b[32m━━━━━━━━━━━━━━━━━━━━\u001b[0m\u001b[37m\u001b[0m \u001b[1m11s\u001b[0m 24ms/step - loss: 1.8392 - mae: 1.0847 - val_loss: 1.0937 - val_mae: 0.8354\n",
            "Epoch 2/50\n",
            "\u001b[1m245/245\u001b[0m \u001b[32m━━━━━━━━━━━━━━━━━━━━\u001b[0m\u001b[37m\u001b[0m \u001b[1m1s\u001b[0m 4ms/step - loss: 1.1665 - mae: 0.8534 - val_loss: 1.0499 - val_mae: 0.8003\n",
            "Epoch 3/50\n",
            "\u001b[1m245/245\u001b[0m \u001b[32m━━━━━━━━━━━━━━━━━━━━\u001b[0m\u001b[37m\u001b[0m \u001b[1m1s\u001b[0m 5ms/step - loss: 1.0685 - mae: 0.8080 - val_loss: 0.9511 - val_mae: 0.7491\n",
            "Epoch 4/50\n",
            "\u001b[1m245/245\u001b[0m \u001b[32m━━━━━━━━━━━━━━━━━━━━\u001b[0m\u001b[37m\u001b[0m \u001b[1m2s\u001b[0m 4ms/step - loss: 0.9502 - mae: 0.7474 - val_loss: 0.8732 - val_mae: 0.7041\n",
            "Epoch 5/50\n",
            "\u001b[1m245/245\u001b[0m \u001b[32m━━━━━━━━━━━━━━━━━━━━\u001b[0m\u001b[37m\u001b[0m \u001b[1m1s\u001b[0m 3ms/step - loss: 0.8671 - mae: 0.7011 - val_loss: 0.8437 - val_mae: 0.6872\n",
            "Epoch 6/50\n",
            "\u001b[1m245/245\u001b[0m \u001b[32m━━━━━━━━━━━━━━━━━━━━\u001b[0m\u001b[37m\u001b[0m \u001b[1m1s\u001b[0m 4ms/step - loss: 0.8269 - mae: 0.6786 - val_loss: 0.8244 - val_mae: 0.6747\n",
            "Epoch 7/50\n",
            "\u001b[1m245/245\u001b[0m \u001b[32m━━━━━━━━━━━━━━━━━━━━\u001b[0m\u001b[37m\u001b[0m \u001b[1m1s\u001b[0m 4ms/step - loss: 0.8050 - mae: 0.6660 - val_loss: 0.8124 - val_mae: 0.6666\n",
            "Epoch 8/50\n",
            "\u001b[1m245/245\u001b[0m \u001b[32m━━━━━━━━━━━━━━━━━━━━\u001b[0m\u001b[37m\u001b[0m \u001b[1m1s\u001b[0m 4ms/step - loss: 0.7833 - mae: 0.6549 - val_loss: 0.8035 - val_mae: 0.6601\n",
            "Epoch 9/50\n",
            "\u001b[1m245/245\u001b[0m \u001b[32m━━━━━━━━━━━━━━━━━━━━\u001b[0m\u001b[37m\u001b[0m \u001b[1m1s\u001b[0m 4ms/step - loss: 0.7718 - mae: 0.6486 - val_loss: 0.8011 - val_mae: 0.6586\n",
            "Epoch 10/50\n",
            "\u001b[1m245/245\u001b[0m \u001b[32m━━━━━━━━━━━━━━━━━━━━\u001b[0m\u001b[37m\u001b[0m \u001b[1m1s\u001b[0m 3ms/step - loss: 0.7603 - mae: 0.6431 - val_loss: 0.7959 - val_mae: 0.6555\n",
            "Epoch 11/50\n",
            "\u001b[1m245/245\u001b[0m \u001b[32m━━━━━━━━━━━━━━━━━━━━\u001b[0m\u001b[37m\u001b[0m \u001b[1m1s\u001b[0m 3ms/step - loss: 0.7533 - mae: 0.6405 - val_loss: 0.7970 - val_mae: 0.6559\n",
            "Epoch 12/50\n",
            "\u001b[1m245/245\u001b[0m \u001b[32m━━━━━━━━━━━━━━━━━━━━\u001b[0m\u001b[37m\u001b[0m \u001b[1m2s\u001b[0m 7ms/step - loss: 0.7427 - mae: 0.6348 - val_loss: 0.7933 - val_mae: 0.6524\n",
            "Epoch 13/50\n",
            "\u001b[1m245/245\u001b[0m \u001b[32m━━━━━━━━━━━━━━━━━━━━\u001b[0m\u001b[37m\u001b[0m \u001b[1m2s\u001b[0m 4ms/step - loss: 0.7333 - mae: 0.6292 - val_loss: 0.7973 - val_mae: 0.6560\n",
            "Epoch 14/50\n",
            "\u001b[1m245/245\u001b[0m \u001b[32m━━━━━━━━━━━━━━━━━━━━\u001b[0m\u001b[37m\u001b[0m \u001b[1m1s\u001b[0m 4ms/step - loss: 0.7231 - mae: 0.6252 - val_loss: 0.7958 - val_mae: 0.6526\n",
            "Epoch 15/50\n",
            "\u001b[1m245/245\u001b[0m \u001b[32m━━━━━━━━━━━━━━━━━━━━\u001b[0m\u001b[37m\u001b[0m \u001b[1m1s\u001b[0m 5ms/step - loss: 0.7143 - mae: 0.6197 - val_loss: 0.7957 - val_mae: 0.6535\n",
            "Epoch 16/50\n",
            "\u001b[1m245/245\u001b[0m \u001b[32m━━━━━━━━━━━━━━━━━━━━\u001b[0m\u001b[37m\u001b[0m \u001b[1m2s\u001b[0m 9ms/step - loss: 0.7023 - mae: 0.6141 - val_loss: 0.8004 - val_mae: 0.6562\n",
            "Epoch 17/50\n",
            "\u001b[1m245/245\u001b[0m \u001b[32m━━━━━━━━━━━━━━━━━━━━\u001b[0m\u001b[37m\u001b[0m \u001b[1m3s\u001b[0m 10ms/step - loss: 0.6975 - mae: 0.6109 - val_loss: 0.8003 - val_mae: 0.6565\n",
            "Epoch 18/50\n",
            "\u001b[1m245/245\u001b[0m \u001b[32m━━━━━━━━━━━━━━━━━━━━\u001b[0m\u001b[37m\u001b[0m \u001b[1m2s\u001b[0m 8ms/step - loss: 0.6892 - mae: 0.6077 - val_loss: 0.8027 - val_mae: 0.6565\n",
            "Epoch 19/50\n",
            "\u001b[1m245/245\u001b[0m \u001b[32m━━━━━━━━━━━━━━━━━━━━\u001b[0m\u001b[37m\u001b[0m \u001b[1m3s\u001b[0m 8ms/step - loss: 0.6811 - mae: 0.6027 - val_loss: 0.8044 - val_mae: 0.6584\n",
            "Epoch 20/50\n",
            "\u001b[1m245/245\u001b[0m \u001b[32m━━━━━━━━━━━━━━━━━━━━\u001b[0m\u001b[37m\u001b[0m \u001b[1m2s\u001b[0m 8ms/step - loss: 0.6743 - mae: 0.5998 - val_loss: 0.8089 - val_mae: 0.6603\n",
            "Epoch 21/50\n",
            "\u001b[1m245/245\u001b[0m \u001b[32m━━━━━━━━━━━━━━━━━━━━\u001b[0m\u001b[37m\u001b[0m \u001b[1m2s\u001b[0m 6ms/step - loss: 0.6663 - mae: 0.5945 - val_loss: 0.8113 - val_mae: 0.6602\n",
            "Epoch 22/50\n",
            "\u001b[1m245/245\u001b[0m \u001b[32m━━━━━━━━━━━━━━━━━━━━\u001b[0m\u001b[37m\u001b[0m \u001b[1m1s\u001b[0m 3ms/step - loss: 0.6595 - mae: 0.5920 - val_loss: 0.8168 - val_mae: 0.6640\n",
            "Final Train RMSE: 0.8124, Best CV RMSE: 0.9038, CV Pred Std: 0.5881\n",
            "Epoch 0, Train RMSE: 1.2358, CV RMSE: 1.0458\n",
            "Epoch 5, Train RMSE: 0.9083, CV RMSE: 0.9080\n",
            "Epoch 10, Train RMSE: 0.8672, CV RMSE: 0.8928\n",
            "Epoch 15, Train RMSE: 0.8391, CV RMSE: 0.8946\n",
            "Epoch 20, Train RMSE: 0.8168, CV RMSE: 0.9007\n"
          ]
        },
        {
          "output_type": "stream",
          "name": "stderr",
          "text": [
            "Evaluating Users (Training): 100%|██████████| 610/610 [00:21<00:00, 28.81it/s]\n"
          ]
        },
        {
          "output_type": "stream",
          "name": "stdout",
          "text": [
            "\n",
            "Metrics for Training Dataset (NCF):\n",
            "Accuracy (±0.25 tolerance): 0.2725\n",
            "Precision@20: 0.2659\n",
            "Recall@20: 0.5193\n",
            "F1-score@20: 0.3567\n",
            "NDCG@20: 0.5681\n"
          ]
        },
        {
          "output_type": "stream",
          "name": "stderr",
          "text": [
            "Evaluating Users (Cross-Validation): 100%|██████████| 610/610 [01:07<00:00,  8.98it/s]\n"
          ]
        },
        {
          "output_type": "stream",
          "name": "stdout",
          "text": [
            "\n",
            "Metrics for Cross-Validation Dataset (NCF):\n",
            "Accuracy (±0.25 tolerance): 0.2533\n",
            "Precision@20: 0.0725\n",
            "Recall@20: 0.3460\n",
            "F1-score@20: 0.2613\n",
            "NDCG@20: 0.2272\n"
          ]
        },
        {
          "output_type": "stream",
          "name": "stderr",
          "text": [
            "Evaluating Users (Test): 100%|██████████| 610/610 [01:10<00:00,  8.68it/s]"
          ]
        },
        {
          "output_type": "stream",
          "name": "stdout",
          "text": [
            "\n",
            "Metrics for Test Dataset (NCF):\n",
            "Accuracy (±0.25 tolerance): 0.2476\n",
            "Precision@20: 0.0757\n",
            "Recall@20: 0.3658\n",
            "F1-score@20: 0.2658\n",
            "NDCG@20: 0.2390\n",
            "\n",
            "Predictions for 5.0-rated movies in Test set (Top 10):\n",
            "    movieId  predicted_rating  rating  \\\n",
            "0       157              3.93     5.0   \n",
            "1      2291              4.36     5.0   \n",
            "2       260              4.78     5.0   \n",
            "3      2078              4.51     5.0   \n",
            "4      2427              4.36     5.0   \n",
            "8       923              4.56     5.0   \n",
            "9       457              4.69     5.0   \n",
            "10     1625              4.30     5.0   \n",
            "11     2700              4.52     5.0   \n",
            "15     2005              4.35     5.0   \n",
            "\n",
            "                                    movie_title  \n",
            "0                         Canadian Bacon (1995)  \n",
            "1                    Edward Scissorhands (1990)  \n",
            "2     Star Wars: Episode IV - A New Hope (1977)  \n",
            "3                       Jungle Book, The (1967)  \n",
            "4                     Thin Red Line, The (1998)  \n",
            "8                           Citizen Kane (1941)  \n",
            "9                          Fugitive, The (1993)  \n",
            "10                             Game, The (1997)  \n",
            "11  South Park: Bigger, Longer and Uncut (1999)  \n",
            "15                          Goonies, The (1985)  \n",
            "Mean predicted rating for 5.0: 3.9995\n"
          ]
        },
        {
          "output_type": "stream",
          "name": "stderr",
          "text": [
            "\n"
          ]
        }
      ],
      "source": [
        "# def filter_data(ratings_df, min_ratings_user=20, min_ratings_movie=5):\n",
        "#     try:\n",
        "#         user_counts = ratings_df['userId'].value_counts()\n",
        "#         movie_counts = ratings_df['movieId'].value_counts()\n",
        "#         filtered_df = ratings_df[\n",
        "#             (ratings_df['userId'].isin(user_counts[user_counts >= min_ratings_user].index)) &\n",
        "#             (ratings_df['movieId'].isin(movie_counts[movie_counts >= min_ratings_movie].index))\n",
        "#         ]\n",
        "#         print(f\"Filtered data: {len(filtered_df)} ratings, {len(filtered_df['userId'].unique())} users, {len(filtered_df['movieId'].unique())} movies\")\n",
        "#         return filtered_df\n",
        "#     except Exception as e:\n",
        "#         print(f\"Error in filter_data: {e}\")\n",
        "#         return ratings_df\n",
        "\n",
        "\n",
        "def create_index_mappings(ratings_df):\n",
        "    user_ids = ratings_df['userId'].unique()\n",
        "    movie_ids = ratings_df['movieId'].unique()\n",
        "    userid2idx = {uid: idx for idx, uid in enumerate(user_ids)}\n",
        "    movieid2idx = {mid: idx for idx, mid in enumerate(movie_ids)}\n",
        "    return userid2idx, movieid2idx, len(user_ids), len(movie_ids)\n",
        "\n",
        "def build_ncf_model(n_users, n_items, embed_size=64, mlp_layers=[128, 64], dropout=0.9, l2_lambda=1e-4):\n",
        "\n",
        "    user_input = Input(shape=(1,), dtype=tf.int64, name='user_input')\n",
        "    item_input = Input(shape=(1,), dtype=tf.int64, name='item_input')\n",
        "\n",
        "    user_emb_gmf = Embedding(n_users, embed_size, name='user_emb_gmf',\n",
        "                             embeddings_regularizer=regularizers.l2(l2_lambda))(user_input)\n",
        "    item_emb_gmf = Embedding(n_items, embed_size, name='item_emb_gmf',\n",
        "                             embeddings_regularizer=regularizers.l2(l2_lambda))(item_input)\n",
        "    gmf_output = Multiply()([user_emb_gmf, item_emb_gmf])\n",
        "    gmf_output = Lambda(lambda x: tf.squeeze(x, axis=1), name='gmf_squeeze')(gmf_output)\n",
        "\n",
        "    user_emb_mlp = Embedding(n_users, embed_size, name='user_emb_mlp',\n",
        "                             embeddings_regularizer=regularizers.l2(l2_lambda))(user_input)\n",
        "    item_emb_mlp = Embedding(n_items, embed_size, name='item_emb_mlp',\n",
        "                             embeddings_regularizer=regularizers.l2(l2_lambda))(item_input)\n",
        "    mlp_input = Concatenate(axis=-1)([user_emb_mlp, item_emb_mlp])\n",
        "    mlp_input = Lambda(lambda x: tf.squeeze(x, axis=1), name='mlp_squeeze')(mlp_input)\n",
        "\n",
        "    mlp_output = mlp_input\n",
        "    for i, units in enumerate(mlp_layers):\n",
        "        mlp_output = Dense(units, activation='relu', name=f'mlp_dense_{i}',\n",
        "                           kernel_regularizer=regularizers.l2(l2_lambda))(mlp_output)\n",
        "        mlp_output = Dropout(dropout, name=f'mlp_dropout_{i}')(mlp_output)\n",
        "        mlp_output = BatchNormalization(name=f'mlp_bn_{i}')(mlp_output)\n",
        "\n",
        "    combined = Concatenate(axis=-1, name='combine_gmf_mlp')([gmf_output, mlp_output])\n",
        "    output = Dense(1, activation=None, name='output',\n",
        "                   kernel_regularizer=regularizers.l2(l2_lambda))(combined)\n",
        "\n",
        "    output = Lambda(lambda x: tf.sigmoid(x) * 4.5 + 0.5, name='scale_output')(output)\n",
        "\n",
        "    model = Model(inputs=[user_input, item_input], outputs=output, name='NCF_Model')\n",
        "    return model\n",
        "\n",
        "def train_ncf(train_df, cv_df, n_users, n_items, userid2idx, movieid2idx, embed_size=64, mlp_layers=[128, 64], dropout=0.9, l2_lambda=1e-4, lr=0.001, epochs=50, batch_size=256, patience=10):\n",
        "    try:\n",
        "\n",
        "        train_users = np.array([userid2idx[uid] for uid in train_df['userId']], dtype=np.int64)\n",
        "        train_items = np.array([movieid2idx[mid] for mid in train_df['movieId']], dtype=np.int64)\n",
        "        train_ratings = np.array(train_df['rating'], dtype=np.float32)\n",
        "\n",
        "        cv_users = np.array([userid2idx[uid] for uid in cv_df['userId']], dtype=np.int64)\n",
        "        cv_items = np.array([movieid2idx[mid] for mid in cv_df['movieId']], dtype=np.int64)\n",
        "        cv_ratings = np.array(cv_df['rating'], dtype=np.float32)\n",
        "\n",
        "\n",
        "        model = build_ncf_model(n_users, n_items, embed_size, mlp_layers, dropout, l2_lambda)\n",
        "        model.compile(optimizer=Adam(learning_rate=lr), loss='mse', metrics=['mae'])\n",
        "\n",
        "\n",
        "        early_stopping = EarlyStopping(monitor='val_loss', patience=patience, restore_best_weights=True, mode='min')\n",
        "\n",
        "\n",
        "        history = model.fit(\n",
        "            x=[train_users, train_items],\n",
        "            y=train_ratings,\n",
        "            validation_data=([cv_users, cv_items], cv_ratings),\n",
        "            epochs=epochs,\n",
        "            batch_size=batch_size,\n",
        "            callbacks=[early_stopping],\n",
        "            verbose=1\n",
        "        )\n",
        "\n",
        "\n",
        "        train_rmse = np.sqrt(history.history['loss'][-1])\n",
        "        cv_rmse = np.sqrt(history.history['val_loss'][-1])\n",
        "        cv_preds = model.predict([cv_users, cv_items], batch_size=batch_size, verbose=0)\n",
        "        cv_pred_std = np.std(cv_preds) if cv_preds.size else 0.0\n",
        "\n",
        "        print(f\"Final Train RMSE: {train_rmse:.4f}, Best CV RMSE: {cv_rmse:.4f}, CV Pred Std: {cv_pred_std:.4f}\")\n",
        "        for epoch in range(0, len(history.history['loss']), 5):\n",
        "            print(f\"Epoch {epoch}, Train RMSE: {np.sqrt(history.history['loss'][epoch]):.4f}, CV RMSE: {np.sqrt(history.history['val_loss'][epoch]):.4f}\")\n",
        "\n",
        "        return model\n",
        "\n",
        "    except Exception as e:\n",
        "        print(f\"Error in train_ncf: {e}\")\n",
        "        return None\n",
        "\n",
        "\n",
        "def evaluate_ncf(ratings_df, model, dataset_name, userid2idx, movieid2idx, movie_names, k=20, relevance_threshold=5.0, tolerance=0.25):\n",
        "    try:\n",
        "        eval_df = ratings_df.copy()\n",
        "\n",
        "\n",
        "        user_ids = np.array([userid2idx.get(uid, 0) for uid in eval_df['userId']], dtype=np.int64)\n",
        "        item_ids = np.array([movieid2idx.get(mid, 0) for mid in eval_df['movieId']], dtype=np.int64)\n",
        "        predictions = model.predict([user_ids, item_ids], batch_size=256, verbose=0)\n",
        "        eval_df['predicted_rating'] = np.clip(predictions.flatten(), 0.5, 5.0)\n",
        "\n",
        "\n",
        "        eval_df['error'] = abs(eval_df['predicted_rating'] - eval_df['rating'])\n",
        "        eval_df['correct'] = (eval_df['error'] <= tolerance).astype(int)\n",
        "        accuracy = eval_df['correct'].mean()\n",
        "\n",
        "\n",
        "        precision_scores = []\n",
        "        recall_scores = []\n",
        "        f1_scores = []\n",
        "        ndcg_scores = []\n",
        "\n",
        "        def ndcg_at_k(actual, predicted, k):\n",
        "            sorted_indices = np.argsort(predicted)[::-1][:k]\n",
        "            actual_k = actual[sorted_indices]\n",
        "            relevant = (actual_k >= relevance_threshold).astype(int)\n",
        "            dcg = sum(rel / np.log2(i + 2) for i, rel in enumerate(relevant))\n",
        "            ideal_relevant = np.sort(relevant)[::-1][:k]\n",
        "            idcg = sum(rel / np.log2(i + 2) for i, rel in enumerate(ideal_relevant))\n",
        "            return dcg / idcg if idcg > 0 else 0.0\n",
        "\n",
        "        for user_id in tqdm(eval_df['userId'].unique(), desc=f\"Evaluating Users ({dataset_name})\"):\n",
        "            user_data = eval_df[eval_df['userId'] == user_id]\n",
        "            if len(user_data) < k and user_id in userid2idx:\n",
        "                user_idx = userid2idx[user_id]\n",
        "                all_movie_ids = list(movieid2idx.keys())\n",
        "                user_array = np.array([user_idx] * len(all_movie_ids), dtype=np.int64)\n",
        "                item_array = np.array([movieid2idx[mid] for mid in all_movie_ids], dtype=np.int64)\n",
        "                preds = model.predict([user_array, item_array], batch_size=256, verbose=0)\n",
        "                user_data = pd.DataFrame({\n",
        "                    'movieId': all_movie_ids,\n",
        "                    'predicted_rating': np.clip(preds.flatten(), 0.5, 5.0),\n",
        "                    'rating': [\n",
        "                        eval_df[(eval_df['userId'] == user_id) & (eval_df['movieId'] == mid)]['rating'].iloc[0]\n",
        "                        if mid in user_data['movieId'].values else 3.0\n",
        "                        for mid in all_movie_ids\n",
        "                    ]\n",
        "                })\n",
        "\n",
        "            top_k_pred = user_data.nlargest(k, 'predicted_rating')\n",
        "            actual_ratings_k = top_k_pred['rating'].values\n",
        "            predicted_ratings_k = top_k_pred['predicted_rating'].values\n",
        "\n",
        "            relevant = (actual_ratings_k >= relevance_threshold).astype(int)\n",
        "            precision = np.mean(relevant)\n",
        "            precision_scores.append(precision)\n",
        "\n",
        "            all_relevant = (user_data['rating'] >= relevance_threshold).sum()\n",
        "            if all_relevant > 0:\n",
        "                recall = np.sum(relevant) / all_relevant\n",
        "                recall_scores.append(recall)\n",
        "\n",
        "            if precision > 0 and recall > 0:\n",
        "                f1 = 2 * (precision * recall) / (precision + recall)\n",
        "                f1_scores.append(f1)\n",
        "\n",
        "            ndcg = ndcg_at_k(actual_ratings_k, predicted_ratings_k, k)\n",
        "            ndcg_scores.append(ndcg)\n",
        "\n",
        "        print(f\"\\nMetrics for {dataset_name} Dataset (NCF):\")\n",
        "        print(f\"Accuracy (±{tolerance} tolerance): {accuracy:.4f}\")\n",
        "        print(f\"Precision@{k}: {np.mean(precision_scores):.4f}\")\n",
        "        print(f\"Recall@{k}: {np.mean(recall_scores):.4f}\")\n",
        "        print(f\"F1-score@{k}: {np.mean(f1_scores):.4f}\")\n",
        "        print(f\"NDCG@{k}: {np.mean(ndcg_scores):.4f}\")\n",
        "\n",
        "\n",
        "        if dataset_name == \"Test\":\n",
        "            eval_df['relevant'] = eval_df['rating'] == 5.0\n",
        "            relevant_preds = eval_df[eval_df['relevant']][['movieId', 'predicted_rating', 'rating']]\n",
        "            relevant_preds['movie_title'] = relevant_preds['movieId'].map(movie_names)\n",
        "            print(\"\\nPredictions for 5.0-rated movies in Test set (Top 10):\")\n",
        "            print(relevant_preds.head(10).round(2))\n",
        "            print(f\"Mean predicted rating for 5.0: {relevant_preds['predicted_rating'].mean():.4f}\")\n",
        "\n",
        "    except Exception as e:\n",
        "        print(f\"Error in evaluate_ncf: {e}\")\n",
        "\n",
        "try:\n",
        "    if not all(col in ratings_df.columns for col in ['userId', 'movieId', 'rating']):\n",
        "        raise ValueError(\"ratings_df missing required columns: userId, movieId, rating\")\n",
        "    if not isinstance(movie_names, dict):\n",
        "        raise ValueError(\"movie_names must be a dictionary mapping movieId to titles\")\n",
        "    print(f\"Input data: {len(ratings_df)} ratings, {len(ratings_df['userId'].unique())} users, {len(ratings_df['movieId'].unique())} movies\")\n",
        "except Exception as e:\n",
        "    print(f\"Input data error: {e}\")\n",
        "    raise\n",
        "\n",
        "\n",
        "ratings_df_filtered = filter_data(ratings_df, min_ratings_user=20, min_ratings_movie=5)\n",
        "userid2idx, movieid2idx, n_users, n_items = create_index_mappings(ratings_df_filtered)\n",
        "\n",
        "try:\n",
        "    model = train_ncf(\n",
        "        train_df, cv_df, n_users, n_items, userid2idx, movieid2idx,\n",
        "        embed_size=64, mlp_layers=[128, 64], dropout=0.9, l2_lambda=1e-4,\n",
        "        lr=0.001, epochs=50, batch_size=256, patience=10\n",
        "    )\n",
        "    if model is None:\n",
        "        raise ValueError(\"NCF training failed\")\n",
        "except Exception as e:\n",
        "    print(f\"Error in NCF training: {e}\")\n",
        "    raise\n",
        "evaluate_ncf(train_df, model, \"Training\", userid2idx, movieid2idx, movie_names, tolerance=0.25)\n",
        "evaluate_ncf(cv_df, model, \"Cross-Validation\", userid2idx, movieid2idx, movie_names, tolerance=0.25)\n",
        "evaluate_ncf(test_df, model, \"Test\", userid2idx, movieid2idx, movie_names, tolerance=0.25)"
      ]
    },
    {
      "cell_type": "markdown",
      "metadata": {
        "id": "Lvv6CQOUUPzr"
      },
      "source": [
        "## NCF + Contrastive learning"
      ]
    },
    {
      "cell_type": "code",
      "execution_count": null,
      "metadata": {
        "colab": {
          "base_uri": "https://localhost:8080/"
        },
        "id": "lAIMjUG3UTt5",
        "outputId": "25be5e3b-0840-4cf4-9a11-f5b0678f881b"
      },
      "outputs": [
        {
          "output_type": "stream",
          "name": "stdout",
          "text": [
            "Input data: 100836 ratings, 610 users, 9724 movies\n",
            "Filtered data: 90274 ratings, 610 users, 3650 movies\n",
            "Train: 62620 ratings, CV: 13827 ratings, Test: 13827 ratings\n",
            "Epoch 1/50, Train MSE Loss: 4.2266, Contrastive Loss: 3.4101, Val Loss: 3.8130\n",
            "Epoch 2/50, Train MSE Loss: 3.7327, Contrastive Loss: 2.2342, Val Loss: 3.8684\n",
            "Epoch 3/50, Train MSE Loss: 3.5720, Contrastive Loss: 1.9123, Val Loss: 3.8465\n",
            "Epoch 4/50, Train MSE Loss: 3.2708, Contrastive Loss: 1.7458, Val Loss: 3.4799\n",
            "Epoch 5/50, Train MSE Loss: 3.0601, Contrastive Loss: 1.6282, Val Loss: 3.3447\n",
            "Epoch 6/50, Train MSE Loss: 2.9128, Contrastive Loss: 1.4980, Val Loss: 3.2998\n",
            "Epoch 7/50, Train MSE Loss: 2.7373, Contrastive Loss: 1.3951, Val Loss: 3.1502\n",
            "Epoch 8/50, Train MSE Loss: 2.4924, Contrastive Loss: 1.3064, Val Loss: 3.0178\n",
            "Epoch 9/50, Train MSE Loss: 2.2239, Contrastive Loss: 1.2434, Val Loss: 2.9480\n",
            "Epoch 10/50, Train MSE Loss: 1.9619, Contrastive Loss: 1.1917, Val Loss: 2.8716\n",
            "Epoch 11/50, Train MSE Loss: 1.7241, Contrastive Loss: 1.1520, Val Loss: 2.8369\n",
            "Epoch 12/50, Train MSE Loss: 1.5102, Contrastive Loss: 1.1198, Val Loss: 2.8744\n",
            "Epoch 13/50, Train MSE Loss: 1.3158, Contrastive Loss: 1.0966, Val Loss: 2.9508\n",
            "Epoch 14/50, Train MSE Loss: 1.1537, Contrastive Loss: 1.0810, Val Loss: 2.9899\n",
            "Epoch 15/50, Train MSE Loss: 1.0182, Contrastive Loss: 1.0686, Val Loss: 3.0657\n",
            "Epoch 16/50, Train MSE Loss: 0.8983, Contrastive Loss: 1.0603, Val Loss: 3.0667\n",
            "Epoch 17/50, Train MSE Loss: 0.7976, Contrastive Loss: 1.0556, Val Loss: 3.2257\n",
            "Epoch 18/50, Train MSE Loss: 0.7113, Contrastive Loss: 1.0540, Val Loss: 3.3126\n",
            "Epoch 19/50, Train MSE Loss: 0.6381, Contrastive Loss: 1.0481, Val Loss: 3.3811\n",
            "Epoch 20/50, Train MSE Loss: 0.5725, Contrastive Loss: 1.0421, Val Loss: 3.4412\n",
            "Epoch 21/50, Train MSE Loss: 0.5159, Contrastive Loss: 1.0362, Val Loss: 3.5147\n",
            "Early stopping at epoch 21\n",
            "Final Train RMSE: 0.7182, Best CV RMSE: 1.8748, CV Pred Std: 1.1014\n",
            "Epoch 0, Train RMSE: 2.0559, CV RMSE: 1.9527\n",
            "Epoch 5, Train RMSE: 1.7067, CV RMSE: 1.8165\n",
            "Epoch 10, Train RMSE: 1.3131, CV RMSE: 1.6843\n",
            "Epoch 15, Train RMSE: 0.9478, CV RMSE: 1.7512\n",
            "Epoch 20, Train RMSE: 0.7182, CV RMSE: 1.8748\n"
          ]
        },
        {
          "output_type": "stream",
          "name": "stderr",
          "text": [
            "Evaluating Users (Training): 100%|██████████| 610/610 [00:25<00:00, 24.00it/s]\n"
          ]
        },
        {
          "output_type": "stream",
          "name": "stdout",
          "text": [
            "\n",
            "Metrics for Training Dataset (NCF):\n",
            "Accuracy (±0.25 tolerance): 0.1668\n",
            "Precision@20: 0.2778\n",
            "Recall@20: 0.5623\n",
            "F1-score@20: 0.3445\n",
            "NDCG@20: 0.6258\n"
          ]
        },
        {
          "output_type": "stream",
          "name": "stderr",
          "text": [
            "Evaluating Users (Cross-Validation): 100%|██████████| 610/610 [01:27<00:00,  6.98it/s]\n"
          ]
        },
        {
          "output_type": "stream",
          "name": "stdout",
          "text": [
            "\n",
            "Metrics for Cross-Validation Dataset (NCF):\n",
            "Accuracy (±0.25 tolerance): 0.1101\n",
            "Precision@20: 0.0706\n",
            "Recall@20: 0.3977\n",
            "F1-score@20: 0.2255\n",
            "NDCG@20: 0.2474\n"
          ]
        },
        {
          "output_type": "stream",
          "name": "stderr",
          "text": [
            "Evaluating Users (Test): 100%|██████████| 610/610 [01:25<00:00,  7.11it/s]"
          ]
        },
        {
          "output_type": "stream",
          "name": "stdout",
          "text": [
            "\n",
            "Metrics for Test Dataset (NCF):\n",
            "Accuracy (±0.25 tolerance): 0.1109\n",
            "Precision@20: 0.0730\n",
            "Recall@20: 0.3947\n",
            "F1-score@20: 0.2342\n",
            "NDCG@20: 0.2478\n",
            "\n",
            "Predictions for 5.0-rated movies in Test set (Top 10):\n",
            "    movieId  predicted_rating  rating  \\\n",
            "0       157              2.03     5.0   \n",
            "1      2291              0.90     5.0   \n",
            "2       260              4.50     5.0   \n",
            "3      2078              4.13     5.0   \n",
            "4      2427              3.04     5.0   \n",
            "8       923              1.96     5.0   \n",
            "9       457              3.39     5.0   \n",
            "10     1625              2.05     5.0   \n",
            "11     2700              3.94     5.0   \n",
            "15     2005              4.12     5.0   \n",
            "\n",
            "                                    movie_title  \n",
            "0                         Canadian Bacon (1995)  \n",
            "1                    Edward Scissorhands (1990)  \n",
            "2     Star Wars: Episode IV - A New Hope (1977)  \n",
            "3                       Jungle Book, The (1967)  \n",
            "4                     Thin Red Line, The (1998)  \n",
            "8                           Citizen Kane (1941)  \n",
            "9                          Fugitive, The (1993)  \n",
            "10                             Game, The (1997)  \n",
            "11  South Park: Bigger, Longer and Uncut (1999)  \n",
            "15                          Goonies, The (1985)  \n"
          ]
        },
        {
          "output_type": "stream",
          "name": "stderr",
          "text": [
            "\n"
          ]
        }
      ],
      "source": [
        "# def filter_data(ratings_df, min_ratings_user=20, min_ratings_movie=5):\n",
        "#     try:\n",
        "#         user_counts = ratings_df['userId'].value_counts()\n",
        "#         movie_counts = ratings_df['movieId'].value_counts()\n",
        "#         filtered_df = ratings_df[\n",
        "#             (ratings_df['userId'].isin(user_counts[user_counts >= min_ratings_user].index)) &\n",
        "#             (ratings_df['movieId'].isin(movie_counts[movie_counts >= min_ratings_movie].index))\n",
        "#         ]\n",
        "#         print(f\"Filtered data: {len(filtered_df)} ratings, {len(filtered_df['userId'].unique())} users, {len(filtered_df['movieId'].unique())} movies\")\n",
        "#         return filtered_df\n",
        "#     except Exception as e:\n",
        "#         print(f\"Error in filter_data: {e}\")\n",
        "#         return ratings_df\n",
        "\n",
        "def split_data(ratings_df, train_ratio=0.7, cv_ratio=0.15, test_ratio=0.15, random_state=42):\n",
        "    try:\n",
        "        train_data, cv_data, test_data = [], [], []\n",
        "        for user_id, user_ratings in ratings_df.groupby('userId'):\n",
        "            if len(user_ratings) < 3:\n",
        "                continue\n",
        "            train_cv, test = train_test_split(\n",
        "                user_ratings, test_size=test_ratio, random_state=random_state, shuffle=True\n",
        "            )\n",
        "            train_ratio_adj = train_ratio / (train_ratio + cv_ratio)\n",
        "            train, cv = train_test_split(\n",
        "                train_cv, test_size=1 - train_ratio_adj, random_state=random_state, shuffle=True\n",
        "            )\n",
        "            train_data.append(train)\n",
        "            cv_data.append(cv)\n",
        "            test_data.append(test)\n",
        "        train_df = pd.concat(train_data, ignore_index=True)\n",
        "        cv_df = pd.concat(cv_data, ignore_index=True)\n",
        "        test_df = pd.concat(test_data, ignore_index=True)\n",
        "        print(f\"Train: {len(train_df)} ratings, CV: {len(cv_df)} ratings, Test: {len(test_df)} ratings\")\n",
        "        return train_df, cv_df, test_df\n",
        "    except Exception as e:\n",
        "        print(f\"Error in split_data: {e}\")\n",
        "        return ratings_df, ratings_df, ratings_df\n",
        "\n",
        "\n",
        "def create_index_mappings(ratings_df):\n",
        "    user_ids = ratings_df['userId'].unique()\n",
        "    movie_ids = ratings_df['movieId'].unique()\n",
        "    userid2idx = {uid: idx for idx, uid in enumerate(user_ids)}\n",
        "    movieid2idx = {mid: idx for idx, mid in enumerate(movie_ids)}\n",
        "    return userid2idx, movieid2idx, len(user_ids), len(movie_ids)\n",
        "\n",
        "\n",
        "def generate_negative_samples(train_df, n_items, movieid2idx, neg_ratio=1):\n",
        "    neg_users, neg_items, neg_ratings = [], [], []\n",
        "    rated_items_per_user = train_df.groupby('userId')['movieId'].apply(set).to_dict()\n",
        "\n",
        "    for user_id in train_df['userId'].unique():\n",
        "        rated_items = rated_items_per_user.get(user_id, set())\n",
        "        n_pos = len(rated_items)\n",
        "        n_neg = int(n_pos * neg_ratio)\n",
        "        unrated_items = [mid for mid in movieid2idx.keys() if mid not in rated_items]\n",
        "        if len(unrated_items) < n_neg:\n",
        "            continue\n",
        "        neg_samples = np.random.choice(unrated_items, size=n_neg, replace=False)\n",
        "        neg_users.extend([user_id] * n_neg)\n",
        "        neg_items.extend(neg_samples)\n",
        "        neg_ratings.extend([0.0] * n_neg)\n",
        "\n",
        "    neg_df = pd.DataFrame({'userId': neg_users, 'movieId': neg_items, 'rating': neg_ratings})\n",
        "    return neg_df\n",
        "\n",
        "\n",
        "def contrastive_loss(user_emb, item_emb, ratings, temperature=0.07):\n",
        "    user_emb = tf.nn.l2_normalize(user_emb, axis=-1)\n",
        "    item_emb = tf.nn.l2_normalize(item_emb, axis=-1)\n",
        "    similarity = tf.reduce_sum(user_emb * item_emb, axis=-1) / temperature\n",
        "\n",
        "    target_similarity = tf.clip_by_value((ratings - 0.5) / 4.5, 0.0, 1.0)\n",
        "    loss = tf.reduce_mean(tf.square(similarity - target_similarity))\n",
        "    return loss\n",
        "\n",
        "\n",
        "def build_ncf_model(n_users, n_items, embed_size=64, mlp_layers=[128, 64], dropout=0.9, l2_lambda=1e-5):\n",
        "    user_input = Input(shape=(1,), dtype=tf.int64, name='user_input')\n",
        "    item_input = Input(shape=(1,), dtype=tf.int64, name='item_input')\n",
        "    rating_input = Input(shape=(1,), dtype=tf.float32, name='rating_input')\n",
        "\n",
        "\n",
        "    user_emb_gmf = Embedding(n_users, embed_size, name='user_emb_gmf',\n",
        "                             embeddings_regularizer=regularizers.l2(l2_lambda))(user_input)\n",
        "    item_emb_gmf = Embedding(n_items, embed_size, name='item_emb_gmf',\n",
        "                             embeddings_regularizer=regularizers.l2(l2_lambda))(item_input)\n",
        "    gmf_output = Multiply()([user_emb_gmf, item_emb_gmf])\n",
        "    gmf_output = Lambda(lambda x: tf.squeeze(x, axis=1), name='gmf_squeeze')(gmf_output)\n",
        "\n",
        "\n",
        "    user_emb_mlp = Embedding(n_users, embed_size, name='user_emb_mlp',\n",
        "                             embeddings_regularizer=regularizers.l2(l2_lambda))(user_input)\n",
        "    item_emb_mlp = Embedding(n_items, embed_size, name='item_emb_mlp',\n",
        "                             embeddings_regularizer=regularizers.l2(l2_lambda))(item_input)\n",
        "    mlp_input = Concatenate(axis=-1)([user_emb_mlp, item_emb_mlp])\n",
        "    mlp_input = Lambda(lambda x: tf.squeeze(x, axis=1), name='mlp_squeeze')(mlp_input)\n",
        "\n",
        "\n",
        "    mlp_output = mlp_input\n",
        "    for i, units in enumerate(mlp_layers):\n",
        "        mlp_output = Dense(units, activation='relu', name=f'mlp_dense_{i}',\n",
        "                           kernel_regularizer=regularizers.l2(l2_lambda))(mlp_output)\n",
        "        mlp_output = Dropout(dropout, name=f'mlp_dropout_{i}')(mlp_output)\n",
        "        mlp_output = BatchNormalization(name=f'mlp_bn_{i}')(mlp_output)\n",
        "\n",
        "\n",
        "    combined = Concatenate(axis=-1, name='combine_gmf_mlp')([gmf_output, mlp_output])\n",
        "    output = Dense(1, activation=None, name='output',\n",
        "                   kernel_regularizer=regularizers.l2(l2_lambda))(combined)\n",
        "    rating_output = Lambda(lambda x: tf.sigmoid(x) * 4.5 + 0.5, name='scale_output')(output)\n",
        "\n",
        "    model = Model(inputs=[user_input, item_input, rating_input],\n",
        "                  outputs=[rating_output, user_emb_gmf, item_emb_gmf, user_emb_mlp, item_emb_mlp])\n",
        "    return model\n",
        "\n",
        "\n",
        "def train_ncf(train_df, cv_df, n_users, n_items, userid2idx, movieid2idx, embed_size=64, mlp_layers=[128, 64], dropout=0.9, l2_lambda=1e-5, lr=0.0005, alpha=0.01, epochs=50, batch_size=256, patience=10):\n",
        "    try:\n",
        "\n",
        "        neg_df = generate_negative_samples(train_df, n_items, movieid2idx, neg_ratio=1)\n",
        "        train_df_aug = pd.concat([train_df, neg_df], ignore_index=True)\n",
        "\n",
        "\n",
        "        train_users = np.array([userid2idx[uid] for uid in train_df_aug['userId']], dtype=np.int64)\n",
        "        train_items = np.array([movieid2idx[mid] for mid in train_df_aug['movieId']], dtype=np.int64)\n",
        "        train_ratings = np.array(train_df_aug['rating'], dtype=np.float32)\n",
        "\n",
        "        cv_users = np.array([userid2idx[uid] for uid in cv_df['userId']], dtype=np.int64)\n",
        "        cv_items = np.array([movieid2idx[mid] for mid in cv_df['movieId']], dtype=np.int64)\n",
        "        cv_ratings = np.array(cv_df['rating'], dtype=np.float32)\n",
        "\n",
        "\n",
        "        model = build_ncf_model(n_users, n_items, embed_size, mlp_layers, dropout, l2_lambda)\n",
        "\n",
        "\n",
        "        optimizer = Adam(learning_rate=lr, clipnorm=1.0)\n",
        "        mse_loss_fn = tf.keras.losses.MeanSquaredError()\n",
        "\n",
        "        @tf.function\n",
        "        def train_step(users, items, ratings):\n",
        "            with tf.GradientTape() as tape:\n",
        "                rating_pred, user_emb_gmf, item_emb_gmf, user_emb_mlp, item_emb_mlp = model([users, items, ratings], training=True)\n",
        "                mse_loss = mse_loss_fn(ratings, rating_pred)\n",
        "\n",
        "                cont_loss_gmf = contrastive_loss(user_emb_gmf, item_emb_gmf, ratings, temperature=0.07)\n",
        "                cont_loss_mlp = contrastive_loss(user_emb_mlp, item_emb_mlp, ratings, temperature=0.07)\n",
        "                cont_loss = (cont_loss_gmf + cont_loss_mlp) / 2\n",
        "                total_loss = mse_loss + alpha * cont_loss + sum(model.losses)\n",
        "            gradients = tape.gradient(total_loss, model.trainable_variables)\n",
        "            optimizer.apply_gradients(zip(gradients, model.trainable_variables))\n",
        "            return mse_loss, cont_loss\n",
        "\n",
        "\n",
        "        history = {'loss': [], 'val_loss': [], 'cont_loss': []}\n",
        "        best_val_loss = float('inf')\n",
        "        patience_counter = 0\n",
        "\n",
        "        for epoch in range(epochs):\n",
        "            indices = np.random.permutation(len(train_users))\n",
        "            train_users_shuffled = train_users[indices]\n",
        "            train_items_shuffled = train_items[indices]\n",
        "            train_ratings_shuffled = train_ratings[indices]\n",
        "\n",
        "            total_mse_loss = 0.0\n",
        "            total_cont_loss = 0.0\n",
        "            steps = 0\n",
        "            for i in range(0, len(train_users), batch_size):\n",
        "                batch_users = train_users_shuffled[i:i+batch_size]\n",
        "                batch_items = train_items_shuffled[i:i+batch_size]\n",
        "                batch_ratings = train_ratings_shuffled[i:i+batch_size]\n",
        "                mse_loss, cont_loss = train_step(batch_users, batch_items, batch_ratings)\n",
        "                total_mse_loss += mse_loss.numpy()\n",
        "                total_cont_loss += cont_loss.numpy()\n",
        "                steps += 1\n",
        "\n",
        "            val_pred, _, _, _, _ = model([cv_users, cv_items, cv_ratings], training=False)\n",
        "            val_loss = mse_loss_fn(cv_ratings, val_pred).numpy()\n",
        "\n",
        "            history['loss'].append(total_mse_loss / steps)\n",
        "            history['cont_loss'].append(total_cont_loss / steps)\n",
        "            history['val_loss'].append(val_loss)\n",
        "\n",
        "            print(f\"Epoch {epoch+1}/{epochs}, Train MSE Loss: {total_mse_loss/steps:.4f}, Contrastive Loss: {total_cont_loss/steps:.4f}, Val Loss: {val_loss:.4f}\")\n",
        "\n",
        "            if val_loss < best_val_loss:\n",
        "                best_val_loss = val_loss\n",
        "                patience_counter = 0\n",
        "                best_weights = model.get_weights()\n",
        "            else:\n",
        "                patience_counter += 1\n",
        "                if patience_counter >= patience:\n",
        "                    print(f\"Early stopping at epoch {epoch+1}\")\n",
        "                    model.set_weights(best_weights)\n",
        "                    break\n",
        "\n",
        "\n",
        "        train_rmse = np.sqrt(history['loss'][-1])\n",
        "        cv_rmse = np.sqrt(history['val_loss'][-1])\n",
        "        cv_preds = model.predict([cv_users, cv_items, cv_ratings], batch_size=batch_size, verbose=0)[0]\n",
        "        cv_pred_std = np.std(cv_preds) if cv_preds.size else 0.0\n",
        "\n",
        "        print(f\"Final Train RMSE: {train_rmse:.4f}, Best CV RMSE: {cv_rmse:.4f}, CV Pred Std: {cv_pred_std:.4f}\")\n",
        "        for epoch in range(0, len(history['loss']), 5):\n",
        "            print(f\"Epoch {epoch}, Train RMSE: {np.sqrt(history['loss'][epoch]):.4f}, CV RMSE: {np.sqrt(history['val_loss'][epoch]):.4f}\")\n",
        "\n",
        "        return model\n",
        "\n",
        "    except Exception as e:\n",
        "        print(f\"Error in train_ncf: {e}\")\n",
        "        return None\n",
        "\n",
        "\n",
        "def evaluate_ncf(ratings_df, model, dataset_name, userid2idx, movieid2idx, movie_names, k=20, relevance_threshold=5.0, tolerance=0.25):\n",
        "    try:\n",
        "        eval_df = ratings_df.copy()\n",
        "\n",
        "\n",
        "        user_ids = np.array([userid2idx.get(uid, 0) for uid in eval_df['userId']], dtype=np.int64)\n",
        "        item_ids = np.array([movieid2idx.get(mid, 0) for mid in eval_df['movieId']], dtype=np.int64)\n",
        "        ratings_dummy = np.zeros_like(user_ids, dtype=np.float32)\n",
        "        predictions = model.predict([user_ids, item_ids, ratings_dummy], batch_size=256, verbose=0)[0]\n",
        "        eval_df['predicted_rating'] = np.clip(predictions.flatten(), 0.5, 5.0)\n",
        "\n",
        "\n",
        "        eval_df['error'] = abs(eval_df['predicted_rating'] - eval_df['rating'])\n",
        "        eval_df['correct'] = (eval_df['error'] <= tolerance).astype(int)\n",
        "        accuracy = eval_df['correct'].mean()\n",
        "\n",
        "        precision_scores = []\n",
        "        recall_scores = []\n",
        "        f1_scores = []\n",
        "        ndcg_scores = []\n",
        "\n",
        "        def ndcg_at_k(actual, predicted, k):\n",
        "            sorted_indices = np.argsort(predicted)[::-1][:k]\n",
        "            actual_k = actual[sorted_indices]\n",
        "            relevant = (actual_k >= relevance_threshold).astype(int)\n",
        "            dcg = sum(rel / np.log2(i + 2) for i, rel in enumerate(relevant))\n",
        "            ideal_relevant = np.sort(relevant)[::-1][:k]\n",
        "            idcg = sum(rel / np.log2(i + 2) for i, rel in enumerate(ideal_relevant))\n",
        "            return dcg / idcg if idcg > 0 else 0.0\n",
        "\n",
        "        for user_id in tqdm(eval_df['userId'].unique(), desc=f\"Evaluating Users ({dataset_name})\"):\n",
        "            user_data = eval_df[eval_df['userId'] == user_id]\n",
        "            if len(user_data) < k and user_id in userid2idx:\n",
        "                user_idx = userid2idx[user_id]\n",
        "                all_movie_ids = list(movieid2idx.keys())\n",
        "                user_array = np.array([user_idx] * len(all_movie_ids), dtype=np.int64)\n",
        "                item_array = np.array([movieid2idx[mid] for mid in all_movie_ids], dtype=np.int64)\n",
        "                ratings_dummy = np.zeros_like(user_array, dtype=np.float32)\n",
        "                preds = model.predict([user_array, item_array, ratings_dummy], batch_size=256, verbose=0)[0]\n",
        "                user_data = pd.DataFrame({\n",
        "                    'movieId': all_movie_ids,\n",
        "                    'predicted_rating': np.clip(preds.flatten(), 0.5, 5.0),\n",
        "                    'rating': [\n",
        "                        eval_df[(eval_df['userId'] == user_id) & (eval_df['movieId'] == mid)]['rating'].iloc[0]\n",
        "                        if mid in user_data['movieId'].values else 3.0\n",
        "                        for mid in all_movie_ids\n",
        "                    ]\n",
        "                })\n",
        "\n",
        "            top_k_pred = user_data.nlargest(k, 'predicted_rating')\n",
        "            actual_ratings_k = top_k_pred['rating'].values\n",
        "            predicted_ratings_k = top_k_pred['predicted_rating'].values\n",
        "\n",
        "            relevant = (actual_ratings_k >= relevance_threshold).astype(int)\n",
        "            precision = np.mean(relevant)\n",
        "            precision_scores.append(precision)\n",
        "\n",
        "            all_relevant = (user_data['rating'] >= relevance_threshold).sum()\n",
        "            if all_relevant > 0:\n",
        "                recall = np.sum(relevant) / all_relevant\n",
        "                recall_scores.append(recall)\n",
        "\n",
        "            if precision > 0 and recall > 0:\n",
        "                f1 = 2 * (precision * recall) / (precision + recall)\n",
        "                f1_scores.append(f1)\n",
        "\n",
        "            ndcg = ndcg_at_k(actual_ratings_k, predicted_ratings_k, k)\n",
        "            ndcg_scores.append(ndcg)\n",
        "\n",
        "        print(f\"\\nMetrics for {dataset_name} Dataset (NCF):\")\n",
        "        print(f\"Accuracy (±{tolerance} tolerance): {accuracy:.4f}\")\n",
        "        print(f\"Precision@{k}: {np.mean(precision_scores):.4f}\")\n",
        "        print(f\"Recall@{k}: {np.mean(recall_scores):.4f}\")\n",
        "        print(f\"F1-score@{k}: {np.mean(f1_scores):.4f}\")\n",
        "        print(f\"NDCG@{k}: {np.mean(ndcg_scores):.4f}\")\n",
        "\n",
        "\n",
        "        if dataset_name == \"Test\":\n",
        "            eval_df['relevant'] = eval_df['rating'] == 5.0\n",
        "            relevant_preds = eval_df[eval_df['relevant']][['movieId', 'predicted_rating', 'rating']]\n",
        "            relevant_preds['movie_title'] = relevant_preds['movieId'].map(movie_names)\n",
        "            print(\"\\nPredictions for 5.0-rated movies in Test set (Top 10):\")\n",
        "            print(relevant_preds.head(10).round(2))\n",
        "\n",
        "    except Exception as e:\n",
        "        print(f\"Error in evaluate_ncf: {e}\")\n",
        "\n",
        "\n",
        "try:\n",
        "    if not all(col in ratings_df.columns for col in ['userId', 'movieId', 'rating']):\n",
        "        raise ValueError(\"ratings_df missing required columns: userId, movieId, rating\")\n",
        "    if not isinstance(movie_names, dict):\n",
        "        raise ValueError(\"movie_names must be a dictionary mapping movieId to titles\")\n",
        "    print(f\"Input data: {len(ratings_df)} ratings, {len(ratings_df['userId'].unique())} users, {len(ratings_df['movieId'].unique())} movies\")\n",
        "except Exception as e:\n",
        "    print(f\"Input data error: {e}\")\n",
        "    raise\n",
        "\n",
        "\n",
        "ratings_df_filtered = filter_data(ratings_df, min_ratings_user=20, min_ratings_movie=5)\n",
        "train_df, cv_df, test_df = split_data(ratings_df_filtered, random_state=42)\n",
        "userid2idx, movieid2idx, n_users, n_items = create_index_mappings(ratings_df_filtered)\n",
        "\n",
        "\n",
        "try:\n",
        "    model = train_ncf(\n",
        "        train_df, cv_df, n_users, n_items, userid2idx, movieid2idx,\n",
        "        embed_size=64, mlp_layers=[128, 64], dropout=0.9, l2_lambda=1e-5,\n",
        "        lr=0.0005, alpha=0.01, epochs=50, batch_size=256, patience=10\n",
        "    )\n",
        "    if model is None:\n",
        "        raise ValueError(\"NCF training failed\")\n",
        "except Exception as e:\n",
        "    print(f\"Error in NCF training: {e}\")\n",
        "    raise\n",
        "\n",
        "\n",
        "evaluate_ncf(train_df, model, \"Training\", userid2idx, movieid2idx, movie_names, tolerance=0.25)\n",
        "evaluate_ncf(cv_df, model, \"Cross-Validation\", userid2idx, movieid2idx, movie_names, tolerance=0.25)\n",
        "evaluate_ncf(test_df, model, \"Test\", userid2idx, movieid2idx, movie_names, tolerance=0.25)"
      ]
    },
    {
      "cell_type": "markdown",
      "source": [
        "# Conclusion"
      ],
      "metadata": {
        "id": "6o7rQkPz-PSX"
      }
    },
    {
      "cell_type": "markdown",
      "source": [
        "The primary metrics for evaluating this project are Recall@20, which quantifies the capability to suggest relevant items, and NDCG@20, which evaluates the quality of ranked recommendations. The performance on the test set for these metrics is as follows:\n",
        "\n",
        "- Matrix Factorization: Recall@20 = 0.3712, NDCG@20 = 0.2311\n",
        "- Tuned Matrix Factorization: Recall@20 = 0.3739, NDCG@20 = 0.2372\n",
        "- Funk SVD + RPCA: Recall@20 = 0.2854, NDCG@20 = 0.1804\n",
        "- Neural Collaborative Filtering: Recall@20 = 0.3658, NDCG@20 = 0.2390\n",
        "- NCF + Contrastive Learning: Recall@20 = 0.3947, NDCG@20 = 0.2478\n",
        "\n",
        "NCF with Contrastive Learning surpassed all other models, achieving the highest Recall@20 (0.3947) and NDCG@20 (0.2478) on the test set, showcasing its exceptional ability to deliver pertinent movie recommendations and prioritize them effectively. Tuned Matrix Factorization performed closely behind, with Recall@20 of 0.3739 and NDCG@20 of 0.2372, marginally outperforming standard Matrix Factorization (Recall@20 = 0.3712, NDCG@20 = 0.2311). Despite excelling during training (Recall@20 = 0.7872, NDCG@20 = 0.7834), Funk SVD + RPCA exhibited the poorest generalization, with Recall@20 of 0.2854 and NDCG@20 of 0.1804. In comparison to established methods like SVD++ and NCF on larger datasets, our models fall short, primarily due to the constrained size of the MovieLens ml-latest-small dataset. Nonetheless, NCF with Contrastive Learning demonstrates strong ranking performance. Techniques such as data filtering, regularization, and contrastive learning substantially improved outcomes. Future efforts will focus on incorporating content-based attributes, exploring sophisticated ensemble approaches, and evaluating on larger datasets to enhance Recall@20 and NDCG@20 further."
      ],
      "metadata": {
        "id": "w1Prxbx2ALbT"
      }
    },
    {
      "cell_type": "markdown",
      "source": [
        "# References"
      ],
      "metadata": {
        "id": "HrguVpH_A7Os"
      }
    },
    {
      "cell_type": "markdown",
      "source": [
        "- He, X., Liao, L., Zhang, H., Nie, L., Hu, X., & Chua, T.-S. (2017). Neural collaborative filtering. In *Proceedings of the 26th International Conference on World Wide Web* (pp. 173–182). International World Wide Web Conferences Steering Committee. https://doi.org/10.1145/3038912.3052569\n",
        "- Koren, Y., Bell, R., & Volinsky, C. (2009). Matrix factorization techniques for recommender systems. *Computer*, 42(8), 30–37. https://doi.org/10.1109/MC.2009.263\n",
        "- Paszke, A., Gross, S., Massa, F., Lerer, A., Bradbury, J., Chanan, G., ... & Chintala, S. (2019). PyTorch: An imperative style, high-performance deep learning library. In *Advances in Neural Information Processing Systems* (pp. 8024–8035). https://pytorch.org/\n",
        "- Hug, N. (2020). Surprise: A Python library for recommender systems. *Journal of Open Source Software*, 5(52), 2174. https://doi.org/10.21105/joss.02174\n",
        "- Pedregosa, F., Varoquaux, G., Gramfort, A., Michel, V., Thirion, B., Grisel, O., ... & Duchesnay, E. (2011). Scikit-learn: Machine learning in Python. *Journal of Machine Learning Research*, 12, 2825–2830. https://scikit-learn.org/\n",
        "- Harper, F. M., & Konstan, J. A. (2015). The MovieLens datasets: History and context. *ACM Transactions on Interactive Intelligent Systems*, 5(4), 19:1–19:19. https://doi.org/10.1145/2827872"
      ],
      "metadata": {
        "id": "PKF5bJOZA_uX"
      }
    }
  ],
  "metadata": {
    "colab": {
      "provenance": []
    },
    "kernelspec": {
      "display_name": "Python 3",
      "name": "python3"
    },
    "language_info": {
      "name": "python"
    },
    "widgets": {
      "application/vnd.jupyter.widget-state+json": {
        "fd1651909c404035a12a64f13f77b620": {
          "model_module": "@jupyter-widgets/controls",
          "model_name": "HBoxModel",
          "model_module_version": "1.5.0",
          "state": {
            "_dom_classes": [],
            "_model_module": "@jupyter-widgets/controls",
            "_model_module_version": "1.5.0",
            "_model_name": "HBoxModel",
            "_view_count": null,
            "_view_module": "@jupyter-widgets/controls",
            "_view_module_version": "1.5.0",
            "_view_name": "HBoxView",
            "box_style": "",
            "children": [
              "IPY_MODEL_d9b434845406470f9f0d7bcba58a1eba",
              "IPY_MODEL_a91b868a492e49bd91804f8327f7aab3",
              "IPY_MODEL_47aa34e1929346c29958ee3b39e71243"
            ],
            "layout": "IPY_MODEL_1f941fe3f8f343d89b3e528da791e962"
          }
        },
        "d9b434845406470f9f0d7bcba58a1eba": {
          "model_module": "@jupyter-widgets/controls",
          "model_name": "HTMLModel",
          "model_module_version": "1.5.0",
          "state": {
            "_dom_classes": [],
            "_model_module": "@jupyter-widgets/controls",
            "_model_module_version": "1.5.0",
            "_model_name": "HTMLModel",
            "_view_count": null,
            "_view_module": "@jupyter-widgets/controls",
            "_view_module_version": "1.5.0",
            "_view_name": "HTMLView",
            "description": "",
            "description_tooltip": null,
            "layout": "IPY_MODEL_90f076820e4f49b1ad945ddc8606c10d",
            "placeholder": "​",
            "style": "IPY_MODEL_dadd7525fbd84b0bb995708bdc076689",
            "value": "Training: 100%"
          }
        },
        "a91b868a492e49bd91804f8327f7aab3": {
          "model_module": "@jupyter-widgets/controls",
          "model_name": "FloatProgressModel",
          "model_module_version": "1.5.0",
          "state": {
            "_dom_classes": [],
            "_model_module": "@jupyter-widgets/controls",
            "_model_module_version": "1.5.0",
            "_model_name": "FloatProgressModel",
            "_view_count": null,
            "_view_module": "@jupyter-widgets/controls",
            "_view_module_version": "1.5.0",
            "_view_name": "ProgressView",
            "bar_style": "success",
            "description": "",
            "description_tooltip": null,
            "layout": "IPY_MODEL_05204493607e484f98c7537537ed3a40",
            "max": 200,
            "min": 0,
            "orientation": "horizontal",
            "style": "IPY_MODEL_8011a128082b47639883cce79223d78f",
            "value": 200
          }
        },
        "47aa34e1929346c29958ee3b39e71243": {
          "model_module": "@jupyter-widgets/controls",
          "model_name": "HTMLModel",
          "model_module_version": "1.5.0",
          "state": {
            "_dom_classes": [],
            "_model_module": "@jupyter-widgets/controls",
            "_model_module_version": "1.5.0",
            "_model_name": "HTMLModel",
            "_view_count": null,
            "_view_module": "@jupyter-widgets/controls",
            "_view_module_version": "1.5.0",
            "_view_name": "HTMLView",
            "description": "",
            "description_tooltip": null,
            "layout": "IPY_MODEL_ad6ec1b69d544518b64997c862748c53",
            "placeholder": "​",
            "style": "IPY_MODEL_6fc363c807a24045a0a2c72c648bae39",
            "value": " 200/200 [04:54&lt;00:00,  1.45s/it]"
          }
        },
        "1f941fe3f8f343d89b3e528da791e962": {
          "model_module": "@jupyter-widgets/base",
          "model_name": "LayoutModel",
          "model_module_version": "1.2.0",
          "state": {
            "_model_module": "@jupyter-widgets/base",
            "_model_module_version": "1.2.0",
            "_model_name": "LayoutModel",
            "_view_count": null,
            "_view_module": "@jupyter-widgets/base",
            "_view_module_version": "1.2.0",
            "_view_name": "LayoutView",
            "align_content": null,
            "align_items": null,
            "align_self": null,
            "border": null,
            "bottom": null,
            "display": null,
            "flex": null,
            "flex_flow": null,
            "grid_area": null,
            "grid_auto_columns": null,
            "grid_auto_flow": null,
            "grid_auto_rows": null,
            "grid_column": null,
            "grid_gap": null,
            "grid_row": null,
            "grid_template_areas": null,
            "grid_template_columns": null,
            "grid_template_rows": null,
            "height": null,
            "justify_content": null,
            "justify_items": null,
            "left": null,
            "margin": null,
            "max_height": null,
            "max_width": null,
            "min_height": null,
            "min_width": null,
            "object_fit": null,
            "object_position": null,
            "order": null,
            "overflow": null,
            "overflow_x": null,
            "overflow_y": null,
            "padding": null,
            "right": null,
            "top": null,
            "visibility": null,
            "width": null
          }
        },
        "90f076820e4f49b1ad945ddc8606c10d": {
          "model_module": "@jupyter-widgets/base",
          "model_name": "LayoutModel",
          "model_module_version": "1.2.0",
          "state": {
            "_model_module": "@jupyter-widgets/base",
            "_model_module_version": "1.2.0",
            "_model_name": "LayoutModel",
            "_view_count": null,
            "_view_module": "@jupyter-widgets/base",
            "_view_module_version": "1.2.0",
            "_view_name": "LayoutView",
            "align_content": null,
            "align_items": null,
            "align_self": null,
            "border": null,
            "bottom": null,
            "display": null,
            "flex": null,
            "flex_flow": null,
            "grid_area": null,
            "grid_auto_columns": null,
            "grid_auto_flow": null,
            "grid_auto_rows": null,
            "grid_column": null,
            "grid_gap": null,
            "grid_row": null,
            "grid_template_areas": null,
            "grid_template_columns": null,
            "grid_template_rows": null,
            "height": null,
            "justify_content": null,
            "justify_items": null,
            "left": null,
            "margin": null,
            "max_height": null,
            "max_width": null,
            "min_height": null,
            "min_width": null,
            "object_fit": null,
            "object_position": null,
            "order": null,
            "overflow": null,
            "overflow_x": null,
            "overflow_y": null,
            "padding": null,
            "right": null,
            "top": null,
            "visibility": null,
            "width": null
          }
        },
        "dadd7525fbd84b0bb995708bdc076689": {
          "model_module": "@jupyter-widgets/controls",
          "model_name": "DescriptionStyleModel",
          "model_module_version": "1.5.0",
          "state": {
            "_model_module": "@jupyter-widgets/controls",
            "_model_module_version": "1.5.0",
            "_model_name": "DescriptionStyleModel",
            "_view_count": null,
            "_view_module": "@jupyter-widgets/base",
            "_view_module_version": "1.2.0",
            "_view_name": "StyleView",
            "description_width": ""
          }
        },
        "05204493607e484f98c7537537ed3a40": {
          "model_module": "@jupyter-widgets/base",
          "model_name": "LayoutModel",
          "model_module_version": "1.2.0",
          "state": {
            "_model_module": "@jupyter-widgets/base",
            "_model_module_version": "1.2.0",
            "_model_name": "LayoutModel",
            "_view_count": null,
            "_view_module": "@jupyter-widgets/base",
            "_view_module_version": "1.2.0",
            "_view_name": "LayoutView",
            "align_content": null,
            "align_items": null,
            "align_self": null,
            "border": null,
            "bottom": null,
            "display": null,
            "flex": null,
            "flex_flow": null,
            "grid_area": null,
            "grid_auto_columns": null,
            "grid_auto_flow": null,
            "grid_auto_rows": null,
            "grid_column": null,
            "grid_gap": null,
            "grid_row": null,
            "grid_template_areas": null,
            "grid_template_columns": null,
            "grid_template_rows": null,
            "height": null,
            "justify_content": null,
            "justify_items": null,
            "left": null,
            "margin": null,
            "max_height": null,
            "max_width": null,
            "min_height": null,
            "min_width": null,
            "object_fit": null,
            "object_position": null,
            "order": null,
            "overflow": null,
            "overflow_x": null,
            "overflow_y": null,
            "padding": null,
            "right": null,
            "top": null,
            "visibility": null,
            "width": null
          }
        },
        "8011a128082b47639883cce79223d78f": {
          "model_module": "@jupyter-widgets/controls",
          "model_name": "ProgressStyleModel",
          "model_module_version": "1.5.0",
          "state": {
            "_model_module": "@jupyter-widgets/controls",
            "_model_module_version": "1.5.0",
            "_model_name": "ProgressStyleModel",
            "_view_count": null,
            "_view_module": "@jupyter-widgets/base",
            "_view_module_version": "1.2.0",
            "_view_name": "StyleView",
            "bar_color": null,
            "description_width": ""
          }
        },
        "ad6ec1b69d544518b64997c862748c53": {
          "model_module": "@jupyter-widgets/base",
          "model_name": "LayoutModel",
          "model_module_version": "1.2.0",
          "state": {
            "_model_module": "@jupyter-widgets/base",
            "_model_module_version": "1.2.0",
            "_model_name": "LayoutModel",
            "_view_count": null,
            "_view_module": "@jupyter-widgets/base",
            "_view_module_version": "1.2.0",
            "_view_name": "LayoutView",
            "align_content": null,
            "align_items": null,
            "align_self": null,
            "border": null,
            "bottom": null,
            "display": null,
            "flex": null,
            "flex_flow": null,
            "grid_area": null,
            "grid_auto_columns": null,
            "grid_auto_flow": null,
            "grid_auto_rows": null,
            "grid_column": null,
            "grid_gap": null,
            "grid_row": null,
            "grid_template_areas": null,
            "grid_template_columns": null,
            "grid_template_rows": null,
            "height": null,
            "justify_content": null,
            "justify_items": null,
            "left": null,
            "margin": null,
            "max_height": null,
            "max_width": null,
            "min_height": null,
            "min_width": null,
            "object_fit": null,
            "object_position": null,
            "order": null,
            "overflow": null,
            "overflow_x": null,
            "overflow_y": null,
            "padding": null,
            "right": null,
            "top": null,
            "visibility": null,
            "width": null
          }
        },
        "6fc363c807a24045a0a2c72c648bae39": {
          "model_module": "@jupyter-widgets/controls",
          "model_name": "DescriptionStyleModel",
          "model_module_version": "1.5.0",
          "state": {
            "_model_module": "@jupyter-widgets/controls",
            "_model_module_version": "1.5.0",
            "_model_name": "DescriptionStyleModel",
            "_view_count": null,
            "_view_module": "@jupyter-widgets/base",
            "_view_module_version": "1.2.0",
            "_view_name": "StyleView",
            "description_width": ""
          }
        },
        "eed4e04d21ae4a049c72c61231a07539": {
          "model_module": "@jupyter-widgets/controls",
          "model_name": "HBoxModel",
          "model_module_version": "1.5.0",
          "state": {
            "_dom_classes": [],
            "_model_module": "@jupyter-widgets/controls",
            "_model_module_version": "1.5.0",
            "_model_name": "HBoxModel",
            "_view_count": null,
            "_view_module": "@jupyter-widgets/controls",
            "_view_module_version": "1.5.0",
            "_view_name": "HBoxView",
            "box_style": "",
            "children": [
              "IPY_MODEL_255765c3f5774c25b0afecc1be9aff87",
              "IPY_MODEL_18abb260d17949d9b4c966b7ca0a528b",
              "IPY_MODEL_b48aa3243d1640fa89deea2d208a28db"
            ],
            "layout": "IPY_MODEL_1c17d1ff019b4172a36bc78ba677db35"
          }
        },
        "255765c3f5774c25b0afecc1be9aff87": {
          "model_module": "@jupyter-widgets/controls",
          "model_name": "HTMLModel",
          "model_module_version": "1.5.0",
          "state": {
            "_dom_classes": [],
            "_model_module": "@jupyter-widgets/controls",
            "_model_module_version": "1.5.0",
            "_model_name": "HTMLModel",
            "_view_count": null,
            "_view_module": "@jupyter-widgets/controls",
            "_view_module_version": "1.5.0",
            "_view_name": "HTMLView",
            "description": "",
            "description_tooltip": null,
            "layout": "IPY_MODEL_3cf5964270fd406c99affb5d92dfd756",
            "placeholder": "​",
            "style": "IPY_MODEL_1905c32e5b754eecad01cb62ea80f1f0",
            "value": "Collecting Predictions (Training): 100%"
          }
        },
        "18abb260d17949d9b4c966b7ca0a528b": {
          "model_module": "@jupyter-widgets/controls",
          "model_name": "FloatProgressModel",
          "model_module_version": "1.5.0",
          "state": {
            "_dom_classes": [],
            "_model_module": "@jupyter-widgets/controls",
            "_model_module_version": "1.5.0",
            "_model_name": "FloatProgressModel",
            "_view_count": null,
            "_view_module": "@jupyter-widgets/controls",
            "_view_module_version": "1.5.0",
            "_view_name": "ProgressView",
            "bar_style": "success",
            "description": "",
            "description_tooltip": null,
            "layout": "IPY_MODEL_04efdb3dc6554694925351ae4cab64d0",
            "max": 490,
            "min": 0,
            "orientation": "horizontal",
            "style": "IPY_MODEL_24a2a52771624232a848d305528c3be5",
            "value": 490
          }
        },
        "b48aa3243d1640fa89deea2d208a28db": {
          "model_module": "@jupyter-widgets/controls",
          "model_name": "HTMLModel",
          "model_module_version": "1.5.0",
          "state": {
            "_dom_classes": [],
            "_model_module": "@jupyter-widgets/controls",
            "_model_module_version": "1.5.0",
            "_model_name": "HTMLModel",
            "_view_count": null,
            "_view_module": "@jupyter-widgets/controls",
            "_view_module_version": "1.5.0",
            "_view_name": "HTMLView",
            "description": "",
            "description_tooltip": null,
            "layout": "IPY_MODEL_1ae7f941689347529ecb83a7e50f2f21",
            "placeholder": "​",
            "style": "IPY_MODEL_968e02d899eb40649b7855346bf9bdad",
            "value": " 490/490 [00:01&lt;00:00, 443.31it/s]"
          }
        },
        "1c17d1ff019b4172a36bc78ba677db35": {
          "model_module": "@jupyter-widgets/base",
          "model_name": "LayoutModel",
          "model_module_version": "1.2.0",
          "state": {
            "_model_module": "@jupyter-widgets/base",
            "_model_module_version": "1.2.0",
            "_model_name": "LayoutModel",
            "_view_count": null,
            "_view_module": "@jupyter-widgets/base",
            "_view_module_version": "1.2.0",
            "_view_name": "LayoutView",
            "align_content": null,
            "align_items": null,
            "align_self": null,
            "border": null,
            "bottom": null,
            "display": null,
            "flex": null,
            "flex_flow": null,
            "grid_area": null,
            "grid_auto_columns": null,
            "grid_auto_flow": null,
            "grid_auto_rows": null,
            "grid_column": null,
            "grid_gap": null,
            "grid_row": null,
            "grid_template_areas": null,
            "grid_template_columns": null,
            "grid_template_rows": null,
            "height": null,
            "justify_content": null,
            "justify_items": null,
            "left": null,
            "margin": null,
            "max_height": null,
            "max_width": null,
            "min_height": null,
            "min_width": null,
            "object_fit": null,
            "object_position": null,
            "order": null,
            "overflow": null,
            "overflow_x": null,
            "overflow_y": null,
            "padding": null,
            "right": null,
            "top": null,
            "visibility": null,
            "width": null
          }
        },
        "3cf5964270fd406c99affb5d92dfd756": {
          "model_module": "@jupyter-widgets/base",
          "model_name": "LayoutModel",
          "model_module_version": "1.2.0",
          "state": {
            "_model_module": "@jupyter-widgets/base",
            "_model_module_version": "1.2.0",
            "_model_name": "LayoutModel",
            "_view_count": null,
            "_view_module": "@jupyter-widgets/base",
            "_view_module_version": "1.2.0",
            "_view_name": "LayoutView",
            "align_content": null,
            "align_items": null,
            "align_self": null,
            "border": null,
            "bottom": null,
            "display": null,
            "flex": null,
            "flex_flow": null,
            "grid_area": null,
            "grid_auto_columns": null,
            "grid_auto_flow": null,
            "grid_auto_rows": null,
            "grid_column": null,
            "grid_gap": null,
            "grid_row": null,
            "grid_template_areas": null,
            "grid_template_columns": null,
            "grid_template_rows": null,
            "height": null,
            "justify_content": null,
            "justify_items": null,
            "left": null,
            "margin": null,
            "max_height": null,
            "max_width": null,
            "min_height": null,
            "min_width": null,
            "object_fit": null,
            "object_position": null,
            "order": null,
            "overflow": null,
            "overflow_x": null,
            "overflow_y": null,
            "padding": null,
            "right": null,
            "top": null,
            "visibility": null,
            "width": null
          }
        },
        "1905c32e5b754eecad01cb62ea80f1f0": {
          "model_module": "@jupyter-widgets/controls",
          "model_name": "DescriptionStyleModel",
          "model_module_version": "1.5.0",
          "state": {
            "_model_module": "@jupyter-widgets/controls",
            "_model_module_version": "1.5.0",
            "_model_name": "DescriptionStyleModel",
            "_view_count": null,
            "_view_module": "@jupyter-widgets/base",
            "_view_module_version": "1.2.0",
            "_view_name": "StyleView",
            "description_width": ""
          }
        },
        "04efdb3dc6554694925351ae4cab64d0": {
          "model_module": "@jupyter-widgets/base",
          "model_name": "LayoutModel",
          "model_module_version": "1.2.0",
          "state": {
            "_model_module": "@jupyter-widgets/base",
            "_model_module_version": "1.2.0",
            "_model_name": "LayoutModel",
            "_view_count": null,
            "_view_module": "@jupyter-widgets/base",
            "_view_module_version": "1.2.0",
            "_view_name": "LayoutView",
            "align_content": null,
            "align_items": null,
            "align_self": null,
            "border": null,
            "bottom": null,
            "display": null,
            "flex": null,
            "flex_flow": null,
            "grid_area": null,
            "grid_auto_columns": null,
            "grid_auto_flow": null,
            "grid_auto_rows": null,
            "grid_column": null,
            "grid_gap": null,
            "grid_row": null,
            "grid_template_areas": null,
            "grid_template_columns": null,
            "grid_template_rows": null,
            "height": null,
            "justify_content": null,
            "justify_items": null,
            "left": null,
            "margin": null,
            "max_height": null,
            "max_width": null,
            "min_height": null,
            "min_width": null,
            "object_fit": null,
            "object_position": null,
            "order": null,
            "overflow": null,
            "overflow_x": null,
            "overflow_y": null,
            "padding": null,
            "right": null,
            "top": null,
            "visibility": null,
            "width": null
          }
        },
        "24a2a52771624232a848d305528c3be5": {
          "model_module": "@jupyter-widgets/controls",
          "model_name": "ProgressStyleModel",
          "model_module_version": "1.5.0",
          "state": {
            "_model_module": "@jupyter-widgets/controls",
            "_model_module_version": "1.5.0",
            "_model_name": "ProgressStyleModel",
            "_view_count": null,
            "_view_module": "@jupyter-widgets/base",
            "_view_module_version": "1.2.0",
            "_view_name": "StyleView",
            "bar_color": null,
            "description_width": ""
          }
        },
        "1ae7f941689347529ecb83a7e50f2f21": {
          "model_module": "@jupyter-widgets/base",
          "model_name": "LayoutModel",
          "model_module_version": "1.2.0",
          "state": {
            "_model_module": "@jupyter-widgets/base",
            "_model_module_version": "1.2.0",
            "_model_name": "LayoutModel",
            "_view_count": null,
            "_view_module": "@jupyter-widgets/base",
            "_view_module_version": "1.2.0",
            "_view_name": "LayoutView",
            "align_content": null,
            "align_items": null,
            "align_self": null,
            "border": null,
            "bottom": null,
            "display": null,
            "flex": null,
            "flex_flow": null,
            "grid_area": null,
            "grid_auto_columns": null,
            "grid_auto_flow": null,
            "grid_auto_rows": null,
            "grid_column": null,
            "grid_gap": null,
            "grid_row": null,
            "grid_template_areas": null,
            "grid_template_columns": null,
            "grid_template_rows": null,
            "height": null,
            "justify_content": null,
            "justify_items": null,
            "left": null,
            "margin": null,
            "max_height": null,
            "max_width": null,
            "min_height": null,
            "min_width": null,
            "object_fit": null,
            "object_position": null,
            "order": null,
            "overflow": null,
            "overflow_x": null,
            "overflow_y": null,
            "padding": null,
            "right": null,
            "top": null,
            "visibility": null,
            "width": null
          }
        },
        "968e02d899eb40649b7855346bf9bdad": {
          "model_module": "@jupyter-widgets/controls",
          "model_name": "DescriptionStyleModel",
          "model_module_version": "1.5.0",
          "state": {
            "_model_module": "@jupyter-widgets/controls",
            "_model_module_version": "1.5.0",
            "_model_name": "DescriptionStyleModel",
            "_view_count": null,
            "_view_module": "@jupyter-widgets/base",
            "_view_module_version": "1.2.0",
            "_view_name": "StyleView",
            "description_width": ""
          }
        },
        "905e7ce99f014e23ac32b7118a02a3a2": {
          "model_module": "@jupyter-widgets/controls",
          "model_name": "HBoxModel",
          "model_module_version": "1.5.0",
          "state": {
            "_dom_classes": [],
            "_model_module": "@jupyter-widgets/controls",
            "_model_module_version": "1.5.0",
            "_model_name": "HBoxModel",
            "_view_count": null,
            "_view_module": "@jupyter-widgets/controls",
            "_view_module_version": "1.5.0",
            "_view_name": "HBoxView",
            "box_style": "",
            "children": [
              "IPY_MODEL_fb671b48b9654a7586f5dff959691848",
              "IPY_MODEL_10413d2dbaa94bff918144f17c215de9",
              "IPY_MODEL_a8070aa9fa5d4b7982b53896fa630557"
            ],
            "layout": "IPY_MODEL_3d0bf346cc644dfca9546864aefffd7c"
          }
        },
        "fb671b48b9654a7586f5dff959691848": {
          "model_module": "@jupyter-widgets/controls",
          "model_name": "HTMLModel",
          "model_module_version": "1.5.0",
          "state": {
            "_dom_classes": [],
            "_model_module": "@jupyter-widgets/controls",
            "_model_module_version": "1.5.0",
            "_model_name": "HTMLModel",
            "_view_count": null,
            "_view_module": "@jupyter-widgets/controls",
            "_view_module_version": "1.5.0",
            "_view_name": "HTMLView",
            "description": "",
            "description_tooltip": null,
            "layout": "IPY_MODEL_361975cab03949b5bcfe3ec5feb1f1d5",
            "placeholder": "​",
            "style": "IPY_MODEL_9e11003760f44792b79d460d3449e251",
            "value": "Evaluating Users (Training): 100%"
          }
        },
        "10413d2dbaa94bff918144f17c215de9": {
          "model_module": "@jupyter-widgets/controls",
          "model_name": "FloatProgressModel",
          "model_module_version": "1.5.0",
          "state": {
            "_dom_classes": [],
            "_model_module": "@jupyter-widgets/controls",
            "_model_module_version": "1.5.0",
            "_model_name": "FloatProgressModel",
            "_view_count": null,
            "_view_module": "@jupyter-widgets/controls",
            "_view_module_version": "1.5.0",
            "_view_name": "ProgressView",
            "bar_style": "success",
            "description": "",
            "description_tooltip": null,
            "layout": "IPY_MODEL_3d81384147074a2b9fe4e30048e34477",
            "max": 610,
            "min": 0,
            "orientation": "horizontal",
            "style": "IPY_MODEL_654bad38659a48d38f493653c35b42e8",
            "value": 610
          }
        },
        "a8070aa9fa5d4b7982b53896fa630557": {
          "model_module": "@jupyter-widgets/controls",
          "model_name": "HTMLModel",
          "model_module_version": "1.5.0",
          "state": {
            "_dom_classes": [],
            "_model_module": "@jupyter-widgets/controls",
            "_model_module_version": "1.5.0",
            "_model_name": "HTMLModel",
            "_view_count": null,
            "_view_module": "@jupyter-widgets/controls",
            "_view_module_version": "1.5.0",
            "_view_name": "HTMLView",
            "description": "",
            "description_tooltip": null,
            "layout": "IPY_MODEL_f55246c9592e4113865bdbc489878e5c",
            "placeholder": "​",
            "style": "IPY_MODEL_c7a88384c06c4a9b823174bca87c38c4",
            "value": " 610/610 [00:06&lt;00:00, 30.44it/s]"
          }
        },
        "3d0bf346cc644dfca9546864aefffd7c": {
          "model_module": "@jupyter-widgets/base",
          "model_name": "LayoutModel",
          "model_module_version": "1.2.0",
          "state": {
            "_model_module": "@jupyter-widgets/base",
            "_model_module_version": "1.2.0",
            "_model_name": "LayoutModel",
            "_view_count": null,
            "_view_module": "@jupyter-widgets/base",
            "_view_module_version": "1.2.0",
            "_view_name": "LayoutView",
            "align_content": null,
            "align_items": null,
            "align_self": null,
            "border": null,
            "bottom": null,
            "display": null,
            "flex": null,
            "flex_flow": null,
            "grid_area": null,
            "grid_auto_columns": null,
            "grid_auto_flow": null,
            "grid_auto_rows": null,
            "grid_column": null,
            "grid_gap": null,
            "grid_row": null,
            "grid_template_areas": null,
            "grid_template_columns": null,
            "grid_template_rows": null,
            "height": null,
            "justify_content": null,
            "justify_items": null,
            "left": null,
            "margin": null,
            "max_height": null,
            "max_width": null,
            "min_height": null,
            "min_width": null,
            "object_fit": null,
            "object_position": null,
            "order": null,
            "overflow": null,
            "overflow_x": null,
            "overflow_y": null,
            "padding": null,
            "right": null,
            "top": null,
            "visibility": null,
            "width": null
          }
        },
        "361975cab03949b5bcfe3ec5feb1f1d5": {
          "model_module": "@jupyter-widgets/base",
          "model_name": "LayoutModel",
          "model_module_version": "1.2.0",
          "state": {
            "_model_module": "@jupyter-widgets/base",
            "_model_module_version": "1.2.0",
            "_model_name": "LayoutModel",
            "_view_count": null,
            "_view_module": "@jupyter-widgets/base",
            "_view_module_version": "1.2.0",
            "_view_name": "LayoutView",
            "align_content": null,
            "align_items": null,
            "align_self": null,
            "border": null,
            "bottom": null,
            "display": null,
            "flex": null,
            "flex_flow": null,
            "grid_area": null,
            "grid_auto_columns": null,
            "grid_auto_flow": null,
            "grid_auto_rows": null,
            "grid_column": null,
            "grid_gap": null,
            "grid_row": null,
            "grid_template_areas": null,
            "grid_template_columns": null,
            "grid_template_rows": null,
            "height": null,
            "justify_content": null,
            "justify_items": null,
            "left": null,
            "margin": null,
            "max_height": null,
            "max_width": null,
            "min_height": null,
            "min_width": null,
            "object_fit": null,
            "object_position": null,
            "order": null,
            "overflow": null,
            "overflow_x": null,
            "overflow_y": null,
            "padding": null,
            "right": null,
            "top": null,
            "visibility": null,
            "width": null
          }
        },
        "9e11003760f44792b79d460d3449e251": {
          "model_module": "@jupyter-widgets/controls",
          "model_name": "DescriptionStyleModel",
          "model_module_version": "1.5.0",
          "state": {
            "_model_module": "@jupyter-widgets/controls",
            "_model_module_version": "1.5.0",
            "_model_name": "DescriptionStyleModel",
            "_view_count": null,
            "_view_module": "@jupyter-widgets/base",
            "_view_module_version": "1.2.0",
            "_view_name": "StyleView",
            "description_width": ""
          }
        },
        "3d81384147074a2b9fe4e30048e34477": {
          "model_module": "@jupyter-widgets/base",
          "model_name": "LayoutModel",
          "model_module_version": "1.2.0",
          "state": {
            "_model_module": "@jupyter-widgets/base",
            "_model_module_version": "1.2.0",
            "_model_name": "LayoutModel",
            "_view_count": null,
            "_view_module": "@jupyter-widgets/base",
            "_view_module_version": "1.2.0",
            "_view_name": "LayoutView",
            "align_content": null,
            "align_items": null,
            "align_self": null,
            "border": null,
            "bottom": null,
            "display": null,
            "flex": null,
            "flex_flow": null,
            "grid_area": null,
            "grid_auto_columns": null,
            "grid_auto_flow": null,
            "grid_auto_rows": null,
            "grid_column": null,
            "grid_gap": null,
            "grid_row": null,
            "grid_template_areas": null,
            "grid_template_columns": null,
            "grid_template_rows": null,
            "height": null,
            "justify_content": null,
            "justify_items": null,
            "left": null,
            "margin": null,
            "max_height": null,
            "max_width": null,
            "min_height": null,
            "min_width": null,
            "object_fit": null,
            "object_position": null,
            "order": null,
            "overflow": null,
            "overflow_x": null,
            "overflow_y": null,
            "padding": null,
            "right": null,
            "top": null,
            "visibility": null,
            "width": null
          }
        },
        "654bad38659a48d38f493653c35b42e8": {
          "model_module": "@jupyter-widgets/controls",
          "model_name": "ProgressStyleModel",
          "model_module_version": "1.5.0",
          "state": {
            "_model_module": "@jupyter-widgets/controls",
            "_model_module_version": "1.5.0",
            "_model_name": "ProgressStyleModel",
            "_view_count": null,
            "_view_module": "@jupyter-widgets/base",
            "_view_module_version": "1.2.0",
            "_view_name": "StyleView",
            "bar_color": null,
            "description_width": ""
          }
        },
        "f55246c9592e4113865bdbc489878e5c": {
          "model_module": "@jupyter-widgets/base",
          "model_name": "LayoutModel",
          "model_module_version": "1.2.0",
          "state": {
            "_model_module": "@jupyter-widgets/base",
            "_model_module_version": "1.2.0",
            "_model_name": "LayoutModel",
            "_view_count": null,
            "_view_module": "@jupyter-widgets/base",
            "_view_module_version": "1.2.0",
            "_view_name": "LayoutView",
            "align_content": null,
            "align_items": null,
            "align_self": null,
            "border": null,
            "bottom": null,
            "display": null,
            "flex": null,
            "flex_flow": null,
            "grid_area": null,
            "grid_auto_columns": null,
            "grid_auto_flow": null,
            "grid_auto_rows": null,
            "grid_column": null,
            "grid_gap": null,
            "grid_row": null,
            "grid_template_areas": null,
            "grid_template_columns": null,
            "grid_template_rows": null,
            "height": null,
            "justify_content": null,
            "justify_items": null,
            "left": null,
            "margin": null,
            "max_height": null,
            "max_width": null,
            "min_height": null,
            "min_width": null,
            "object_fit": null,
            "object_position": null,
            "order": null,
            "overflow": null,
            "overflow_x": null,
            "overflow_y": null,
            "padding": null,
            "right": null,
            "top": null,
            "visibility": null,
            "width": null
          }
        },
        "c7a88384c06c4a9b823174bca87c38c4": {
          "model_module": "@jupyter-widgets/controls",
          "model_name": "DescriptionStyleModel",
          "model_module_version": "1.5.0",
          "state": {
            "_model_module": "@jupyter-widgets/controls",
            "_model_module_version": "1.5.0",
            "_model_name": "DescriptionStyleModel",
            "_view_count": null,
            "_view_module": "@jupyter-widgets/base",
            "_view_module_version": "1.2.0",
            "_view_name": "StyleView",
            "description_width": ""
          }
        },
        "d4f35a301c7c4a69b0787062ab632a2b": {
          "model_module": "@jupyter-widgets/controls",
          "model_name": "HBoxModel",
          "model_module_version": "1.5.0",
          "state": {
            "_dom_classes": [],
            "_model_module": "@jupyter-widgets/controls",
            "_model_module_version": "1.5.0",
            "_model_name": "HBoxModel",
            "_view_count": null,
            "_view_module": "@jupyter-widgets/controls",
            "_view_module_version": "1.5.0",
            "_view_name": "HBoxView",
            "box_style": "",
            "children": [
              "IPY_MODEL_6be208f286c1497d8f8f9e18e66d6d83",
              "IPY_MODEL_6f1852e82cb84d659a970403fbbeeda9",
              "IPY_MODEL_98486f48ec6e425a95d41a61f1a31aa6"
            ],
            "layout": "IPY_MODEL_5977136d5036487596383c67fc7aa293"
          }
        },
        "6be208f286c1497d8f8f9e18e66d6d83": {
          "model_module": "@jupyter-widgets/controls",
          "model_name": "HTMLModel",
          "model_module_version": "1.5.0",
          "state": {
            "_dom_classes": [],
            "_model_module": "@jupyter-widgets/controls",
            "_model_module_version": "1.5.0",
            "_model_name": "HTMLModel",
            "_view_count": null,
            "_view_module": "@jupyter-widgets/controls",
            "_view_module_version": "1.5.0",
            "_view_name": "HTMLView",
            "description": "",
            "description_tooltip": null,
            "layout": "IPY_MODEL_84754fd7b126434bb32aa250a2d0fe95",
            "placeholder": "​",
            "style": "IPY_MODEL_78b2cab0a72c4c7d8a3f51f28e4a1ef2",
            "value": "Collecting Predictions (Cross-Validation): 100%"
          }
        },
        "6f1852e82cb84d659a970403fbbeeda9": {
          "model_module": "@jupyter-widgets/controls",
          "model_name": "FloatProgressModel",
          "model_module_version": "1.5.0",
          "state": {
            "_dom_classes": [],
            "_model_module": "@jupyter-widgets/controls",
            "_model_module_version": "1.5.0",
            "_model_name": "FloatProgressModel",
            "_view_count": null,
            "_view_module": "@jupyter-widgets/controls",
            "_view_module_version": "1.5.0",
            "_view_name": "ProgressView",
            "bar_style": "success",
            "description": "",
            "description_tooltip": null,
            "layout": "IPY_MODEL_7361a60f4a694bf9a02dabea02c972a2",
            "max": 109,
            "min": 0,
            "orientation": "horizontal",
            "style": "IPY_MODEL_0c407af8e653448dbf9b30ed8bff5580",
            "value": 109
          }
        },
        "98486f48ec6e425a95d41a61f1a31aa6": {
          "model_module": "@jupyter-widgets/controls",
          "model_name": "HTMLModel",
          "model_module_version": "1.5.0",
          "state": {
            "_dom_classes": [],
            "_model_module": "@jupyter-widgets/controls",
            "_model_module_version": "1.5.0",
            "_model_name": "HTMLModel",
            "_view_count": null,
            "_view_module": "@jupyter-widgets/controls",
            "_view_module_version": "1.5.0",
            "_view_name": "HTMLView",
            "description": "",
            "description_tooltip": null,
            "layout": "IPY_MODEL_628163ede34045669663df188ead2148",
            "placeholder": "​",
            "style": "IPY_MODEL_5dcbd04115154de9953b6195410666ed",
            "value": " 109/109 [00:00&lt;00:00, 459.27it/s]"
          }
        },
        "5977136d5036487596383c67fc7aa293": {
          "model_module": "@jupyter-widgets/base",
          "model_name": "LayoutModel",
          "model_module_version": "1.2.0",
          "state": {
            "_model_module": "@jupyter-widgets/base",
            "_model_module_version": "1.2.0",
            "_model_name": "LayoutModel",
            "_view_count": null,
            "_view_module": "@jupyter-widgets/base",
            "_view_module_version": "1.2.0",
            "_view_name": "LayoutView",
            "align_content": null,
            "align_items": null,
            "align_self": null,
            "border": null,
            "bottom": null,
            "display": null,
            "flex": null,
            "flex_flow": null,
            "grid_area": null,
            "grid_auto_columns": null,
            "grid_auto_flow": null,
            "grid_auto_rows": null,
            "grid_column": null,
            "grid_gap": null,
            "grid_row": null,
            "grid_template_areas": null,
            "grid_template_columns": null,
            "grid_template_rows": null,
            "height": null,
            "justify_content": null,
            "justify_items": null,
            "left": null,
            "margin": null,
            "max_height": null,
            "max_width": null,
            "min_height": null,
            "min_width": null,
            "object_fit": null,
            "object_position": null,
            "order": null,
            "overflow": null,
            "overflow_x": null,
            "overflow_y": null,
            "padding": null,
            "right": null,
            "top": null,
            "visibility": null,
            "width": null
          }
        },
        "84754fd7b126434bb32aa250a2d0fe95": {
          "model_module": "@jupyter-widgets/base",
          "model_name": "LayoutModel",
          "model_module_version": "1.2.0",
          "state": {
            "_model_module": "@jupyter-widgets/base",
            "_model_module_version": "1.2.0",
            "_model_name": "LayoutModel",
            "_view_count": null,
            "_view_module": "@jupyter-widgets/base",
            "_view_module_version": "1.2.0",
            "_view_name": "LayoutView",
            "align_content": null,
            "align_items": null,
            "align_self": null,
            "border": null,
            "bottom": null,
            "display": null,
            "flex": null,
            "flex_flow": null,
            "grid_area": null,
            "grid_auto_columns": null,
            "grid_auto_flow": null,
            "grid_auto_rows": null,
            "grid_column": null,
            "grid_gap": null,
            "grid_row": null,
            "grid_template_areas": null,
            "grid_template_columns": null,
            "grid_template_rows": null,
            "height": null,
            "justify_content": null,
            "justify_items": null,
            "left": null,
            "margin": null,
            "max_height": null,
            "max_width": null,
            "min_height": null,
            "min_width": null,
            "object_fit": null,
            "object_position": null,
            "order": null,
            "overflow": null,
            "overflow_x": null,
            "overflow_y": null,
            "padding": null,
            "right": null,
            "top": null,
            "visibility": null,
            "width": null
          }
        },
        "78b2cab0a72c4c7d8a3f51f28e4a1ef2": {
          "model_module": "@jupyter-widgets/controls",
          "model_name": "DescriptionStyleModel",
          "model_module_version": "1.5.0",
          "state": {
            "_model_module": "@jupyter-widgets/controls",
            "_model_module_version": "1.5.0",
            "_model_name": "DescriptionStyleModel",
            "_view_count": null,
            "_view_module": "@jupyter-widgets/base",
            "_view_module_version": "1.2.0",
            "_view_name": "StyleView",
            "description_width": ""
          }
        },
        "7361a60f4a694bf9a02dabea02c972a2": {
          "model_module": "@jupyter-widgets/base",
          "model_name": "LayoutModel",
          "model_module_version": "1.2.0",
          "state": {
            "_model_module": "@jupyter-widgets/base",
            "_model_module_version": "1.2.0",
            "_model_name": "LayoutModel",
            "_view_count": null,
            "_view_module": "@jupyter-widgets/base",
            "_view_module_version": "1.2.0",
            "_view_name": "LayoutView",
            "align_content": null,
            "align_items": null,
            "align_self": null,
            "border": null,
            "bottom": null,
            "display": null,
            "flex": null,
            "flex_flow": null,
            "grid_area": null,
            "grid_auto_columns": null,
            "grid_auto_flow": null,
            "grid_auto_rows": null,
            "grid_column": null,
            "grid_gap": null,
            "grid_row": null,
            "grid_template_areas": null,
            "grid_template_columns": null,
            "grid_template_rows": null,
            "height": null,
            "justify_content": null,
            "justify_items": null,
            "left": null,
            "margin": null,
            "max_height": null,
            "max_width": null,
            "min_height": null,
            "min_width": null,
            "object_fit": null,
            "object_position": null,
            "order": null,
            "overflow": null,
            "overflow_x": null,
            "overflow_y": null,
            "padding": null,
            "right": null,
            "top": null,
            "visibility": null,
            "width": null
          }
        },
        "0c407af8e653448dbf9b30ed8bff5580": {
          "model_module": "@jupyter-widgets/controls",
          "model_name": "ProgressStyleModel",
          "model_module_version": "1.5.0",
          "state": {
            "_model_module": "@jupyter-widgets/controls",
            "_model_module_version": "1.5.0",
            "_model_name": "ProgressStyleModel",
            "_view_count": null,
            "_view_module": "@jupyter-widgets/base",
            "_view_module_version": "1.2.0",
            "_view_name": "StyleView",
            "bar_color": null,
            "description_width": ""
          }
        },
        "628163ede34045669663df188ead2148": {
          "model_module": "@jupyter-widgets/base",
          "model_name": "LayoutModel",
          "model_module_version": "1.2.0",
          "state": {
            "_model_module": "@jupyter-widgets/base",
            "_model_module_version": "1.2.0",
            "_model_name": "LayoutModel",
            "_view_count": null,
            "_view_module": "@jupyter-widgets/base",
            "_view_module_version": "1.2.0",
            "_view_name": "LayoutView",
            "align_content": null,
            "align_items": null,
            "align_self": null,
            "border": null,
            "bottom": null,
            "display": null,
            "flex": null,
            "flex_flow": null,
            "grid_area": null,
            "grid_auto_columns": null,
            "grid_auto_flow": null,
            "grid_auto_rows": null,
            "grid_column": null,
            "grid_gap": null,
            "grid_row": null,
            "grid_template_areas": null,
            "grid_template_columns": null,
            "grid_template_rows": null,
            "height": null,
            "justify_content": null,
            "justify_items": null,
            "left": null,
            "margin": null,
            "max_height": null,
            "max_width": null,
            "min_height": null,
            "min_width": null,
            "object_fit": null,
            "object_position": null,
            "order": null,
            "overflow": null,
            "overflow_x": null,
            "overflow_y": null,
            "padding": null,
            "right": null,
            "top": null,
            "visibility": null,
            "width": null
          }
        },
        "5dcbd04115154de9953b6195410666ed": {
          "model_module": "@jupyter-widgets/controls",
          "model_name": "DescriptionStyleModel",
          "model_module_version": "1.5.0",
          "state": {
            "_model_module": "@jupyter-widgets/controls",
            "_model_module_version": "1.5.0",
            "_model_name": "DescriptionStyleModel",
            "_view_count": null,
            "_view_module": "@jupyter-widgets/base",
            "_view_module_version": "1.2.0",
            "_view_name": "StyleView",
            "description_width": ""
          }
        },
        "bb69f28a60f0466da1fb2a09e676c5bd": {
          "model_module": "@jupyter-widgets/controls",
          "model_name": "HBoxModel",
          "model_module_version": "1.5.0",
          "state": {
            "_dom_classes": [],
            "_model_module": "@jupyter-widgets/controls",
            "_model_module_version": "1.5.0",
            "_model_name": "HBoxModel",
            "_view_count": null,
            "_view_module": "@jupyter-widgets/controls",
            "_view_module_version": "1.5.0",
            "_view_name": "HBoxView",
            "box_style": "",
            "children": [
              "IPY_MODEL_a26c21a1ad92439e86cc40f181041c2e",
              "IPY_MODEL_267b58e0accb4604b657aced27fd130d",
              "IPY_MODEL_7da76018cf9a4940aa7914fbcc937c12"
            ],
            "layout": "IPY_MODEL_57d18b1606c34c93af18cc603c4498b4"
          }
        },
        "a26c21a1ad92439e86cc40f181041c2e": {
          "model_module": "@jupyter-widgets/controls",
          "model_name": "HTMLModel",
          "model_module_version": "1.5.0",
          "state": {
            "_dom_classes": [],
            "_model_module": "@jupyter-widgets/controls",
            "_model_module_version": "1.5.0",
            "_model_name": "HTMLModel",
            "_view_count": null,
            "_view_module": "@jupyter-widgets/controls",
            "_view_module_version": "1.5.0",
            "_view_name": "HTMLView",
            "description": "",
            "description_tooltip": null,
            "layout": "IPY_MODEL_72ac6b6ac89d456b8e2ef306fc1aaaf9",
            "placeholder": "​",
            "style": "IPY_MODEL_0ba96791a8db47ac9e80564b769ee275",
            "value": "Evaluating Users (Cross-Validation): 100%"
          }
        },
        "267b58e0accb4604b657aced27fd130d": {
          "model_module": "@jupyter-widgets/controls",
          "model_name": "FloatProgressModel",
          "model_module_version": "1.5.0",
          "state": {
            "_dom_classes": [],
            "_model_module": "@jupyter-widgets/controls",
            "_model_module_version": "1.5.0",
            "_model_name": "FloatProgressModel",
            "_view_count": null,
            "_view_module": "@jupyter-widgets/controls",
            "_view_module_version": "1.5.0",
            "_view_name": "ProgressView",
            "bar_style": "success",
            "description": "",
            "description_tooltip": null,
            "layout": "IPY_MODEL_ac8601457bd546e7862aff777cb90cf8",
            "max": 610,
            "min": 0,
            "orientation": "horizontal",
            "style": "IPY_MODEL_a2cb9176b8b64521a7a4e308297ee57c",
            "value": 610
          }
        },
        "7da76018cf9a4940aa7914fbcc937c12": {
          "model_module": "@jupyter-widgets/controls",
          "model_name": "HTMLModel",
          "model_module_version": "1.5.0",
          "state": {
            "_dom_classes": [],
            "_model_module": "@jupyter-widgets/controls",
            "_model_module_version": "1.5.0",
            "_model_name": "HTMLModel",
            "_view_count": null,
            "_view_module": "@jupyter-widgets/controls",
            "_view_module_version": "1.5.0",
            "_view_name": "HTMLView",
            "description": "",
            "description_tooltip": null,
            "layout": "IPY_MODEL_edb652e73d8c4e288256b54134a7ce0f",
            "placeholder": "​",
            "style": "IPY_MODEL_4ffe29ec43d846afb98f83efa732d225",
            "value": " 610/610 [00:20&lt;00:00, 48.83it/s]"
          }
        },
        "57d18b1606c34c93af18cc603c4498b4": {
          "model_module": "@jupyter-widgets/base",
          "model_name": "LayoutModel",
          "model_module_version": "1.2.0",
          "state": {
            "_model_module": "@jupyter-widgets/base",
            "_model_module_version": "1.2.0",
            "_model_name": "LayoutModel",
            "_view_count": null,
            "_view_module": "@jupyter-widgets/base",
            "_view_module_version": "1.2.0",
            "_view_name": "LayoutView",
            "align_content": null,
            "align_items": null,
            "align_self": null,
            "border": null,
            "bottom": null,
            "display": null,
            "flex": null,
            "flex_flow": null,
            "grid_area": null,
            "grid_auto_columns": null,
            "grid_auto_flow": null,
            "grid_auto_rows": null,
            "grid_column": null,
            "grid_gap": null,
            "grid_row": null,
            "grid_template_areas": null,
            "grid_template_columns": null,
            "grid_template_rows": null,
            "height": null,
            "justify_content": null,
            "justify_items": null,
            "left": null,
            "margin": null,
            "max_height": null,
            "max_width": null,
            "min_height": null,
            "min_width": null,
            "object_fit": null,
            "object_position": null,
            "order": null,
            "overflow": null,
            "overflow_x": null,
            "overflow_y": null,
            "padding": null,
            "right": null,
            "top": null,
            "visibility": null,
            "width": null
          }
        },
        "72ac6b6ac89d456b8e2ef306fc1aaaf9": {
          "model_module": "@jupyter-widgets/base",
          "model_name": "LayoutModel",
          "model_module_version": "1.2.0",
          "state": {
            "_model_module": "@jupyter-widgets/base",
            "_model_module_version": "1.2.0",
            "_model_name": "LayoutModel",
            "_view_count": null,
            "_view_module": "@jupyter-widgets/base",
            "_view_module_version": "1.2.0",
            "_view_name": "LayoutView",
            "align_content": null,
            "align_items": null,
            "align_self": null,
            "border": null,
            "bottom": null,
            "display": null,
            "flex": null,
            "flex_flow": null,
            "grid_area": null,
            "grid_auto_columns": null,
            "grid_auto_flow": null,
            "grid_auto_rows": null,
            "grid_column": null,
            "grid_gap": null,
            "grid_row": null,
            "grid_template_areas": null,
            "grid_template_columns": null,
            "grid_template_rows": null,
            "height": null,
            "justify_content": null,
            "justify_items": null,
            "left": null,
            "margin": null,
            "max_height": null,
            "max_width": null,
            "min_height": null,
            "min_width": null,
            "object_fit": null,
            "object_position": null,
            "order": null,
            "overflow": null,
            "overflow_x": null,
            "overflow_y": null,
            "padding": null,
            "right": null,
            "top": null,
            "visibility": null,
            "width": null
          }
        },
        "0ba96791a8db47ac9e80564b769ee275": {
          "model_module": "@jupyter-widgets/controls",
          "model_name": "DescriptionStyleModel",
          "model_module_version": "1.5.0",
          "state": {
            "_model_module": "@jupyter-widgets/controls",
            "_model_module_version": "1.5.0",
            "_model_name": "DescriptionStyleModel",
            "_view_count": null,
            "_view_module": "@jupyter-widgets/base",
            "_view_module_version": "1.2.0",
            "_view_name": "StyleView",
            "description_width": ""
          }
        },
        "ac8601457bd546e7862aff777cb90cf8": {
          "model_module": "@jupyter-widgets/base",
          "model_name": "LayoutModel",
          "model_module_version": "1.2.0",
          "state": {
            "_model_module": "@jupyter-widgets/base",
            "_model_module_version": "1.2.0",
            "_model_name": "LayoutModel",
            "_view_count": null,
            "_view_module": "@jupyter-widgets/base",
            "_view_module_version": "1.2.0",
            "_view_name": "LayoutView",
            "align_content": null,
            "align_items": null,
            "align_self": null,
            "border": null,
            "bottom": null,
            "display": null,
            "flex": null,
            "flex_flow": null,
            "grid_area": null,
            "grid_auto_columns": null,
            "grid_auto_flow": null,
            "grid_auto_rows": null,
            "grid_column": null,
            "grid_gap": null,
            "grid_row": null,
            "grid_template_areas": null,
            "grid_template_columns": null,
            "grid_template_rows": null,
            "height": null,
            "justify_content": null,
            "justify_items": null,
            "left": null,
            "margin": null,
            "max_height": null,
            "max_width": null,
            "min_height": null,
            "min_width": null,
            "object_fit": null,
            "object_position": null,
            "order": null,
            "overflow": null,
            "overflow_x": null,
            "overflow_y": null,
            "padding": null,
            "right": null,
            "top": null,
            "visibility": null,
            "width": null
          }
        },
        "a2cb9176b8b64521a7a4e308297ee57c": {
          "model_module": "@jupyter-widgets/controls",
          "model_name": "ProgressStyleModel",
          "model_module_version": "1.5.0",
          "state": {
            "_model_module": "@jupyter-widgets/controls",
            "_model_module_version": "1.5.0",
            "_model_name": "ProgressStyleModel",
            "_view_count": null,
            "_view_module": "@jupyter-widgets/base",
            "_view_module_version": "1.2.0",
            "_view_name": "StyleView",
            "bar_color": null,
            "description_width": ""
          }
        },
        "edb652e73d8c4e288256b54134a7ce0f": {
          "model_module": "@jupyter-widgets/base",
          "model_name": "LayoutModel",
          "model_module_version": "1.2.0",
          "state": {
            "_model_module": "@jupyter-widgets/base",
            "_model_module_version": "1.2.0",
            "_model_name": "LayoutModel",
            "_view_count": null,
            "_view_module": "@jupyter-widgets/base",
            "_view_module_version": "1.2.0",
            "_view_name": "LayoutView",
            "align_content": null,
            "align_items": null,
            "align_self": null,
            "border": null,
            "bottom": null,
            "display": null,
            "flex": null,
            "flex_flow": null,
            "grid_area": null,
            "grid_auto_columns": null,
            "grid_auto_flow": null,
            "grid_auto_rows": null,
            "grid_column": null,
            "grid_gap": null,
            "grid_row": null,
            "grid_template_areas": null,
            "grid_template_columns": null,
            "grid_template_rows": null,
            "height": null,
            "justify_content": null,
            "justify_items": null,
            "left": null,
            "margin": null,
            "max_height": null,
            "max_width": null,
            "min_height": null,
            "min_width": null,
            "object_fit": null,
            "object_position": null,
            "order": null,
            "overflow": null,
            "overflow_x": null,
            "overflow_y": null,
            "padding": null,
            "right": null,
            "top": null,
            "visibility": null,
            "width": null
          }
        },
        "4ffe29ec43d846afb98f83efa732d225": {
          "model_module": "@jupyter-widgets/controls",
          "model_name": "DescriptionStyleModel",
          "model_module_version": "1.5.0",
          "state": {
            "_model_module": "@jupyter-widgets/controls",
            "_model_module_version": "1.5.0",
            "_model_name": "DescriptionStyleModel",
            "_view_count": null,
            "_view_module": "@jupyter-widgets/base",
            "_view_module_version": "1.2.0",
            "_view_name": "StyleView",
            "description_width": ""
          }
        },
        "d08e22aa2ed941c58a5830c0a9483ffe": {
          "model_module": "@jupyter-widgets/controls",
          "model_name": "HBoxModel",
          "model_module_version": "1.5.0",
          "state": {
            "_dom_classes": [],
            "_model_module": "@jupyter-widgets/controls",
            "_model_module_version": "1.5.0",
            "_model_name": "HBoxModel",
            "_view_count": null,
            "_view_module": "@jupyter-widgets/controls",
            "_view_module_version": "1.5.0",
            "_view_name": "HBoxView",
            "box_style": "",
            "children": [
              "IPY_MODEL_0ad52d3293af41198d0d0b6874d987e3",
              "IPY_MODEL_0f283950b3d04fa49184e40b053005be",
              "IPY_MODEL_00746b7929d14ad58b798d3b057a30c2"
            ],
            "layout": "IPY_MODEL_f219b1c5b9334493ad99c95a2d602fa2"
          }
        },
        "0ad52d3293af41198d0d0b6874d987e3": {
          "model_module": "@jupyter-widgets/controls",
          "model_name": "HTMLModel",
          "model_module_version": "1.5.0",
          "state": {
            "_dom_classes": [],
            "_model_module": "@jupyter-widgets/controls",
            "_model_module_version": "1.5.0",
            "_model_name": "HTMLModel",
            "_view_count": null,
            "_view_module": "@jupyter-widgets/controls",
            "_view_module_version": "1.5.0",
            "_view_name": "HTMLView",
            "description": "",
            "description_tooltip": null,
            "layout": "IPY_MODEL_0ef0fe71c23c476cac9a9628abadabbe",
            "placeholder": "​",
            "style": "IPY_MODEL_8648e7d7a99649d7bdfab13d24b82436",
            "value": "Collecting Predictions (Test): 100%"
          }
        },
        "0f283950b3d04fa49184e40b053005be": {
          "model_module": "@jupyter-widgets/controls",
          "model_name": "FloatProgressModel",
          "model_module_version": "1.5.0",
          "state": {
            "_dom_classes": [],
            "_model_module": "@jupyter-widgets/controls",
            "_model_module_version": "1.5.0",
            "_model_name": "FloatProgressModel",
            "_view_count": null,
            "_view_module": "@jupyter-widgets/controls",
            "_view_module_version": "1.5.0",
            "_view_name": "ProgressView",
            "bar_style": "success",
            "description": "",
            "description_tooltip": null,
            "layout": "IPY_MODEL_3e9e2fd438fb4d67843bc6c4179afe15",
            "max": 109,
            "min": 0,
            "orientation": "horizontal",
            "style": "IPY_MODEL_2037152681bd4bfda3fa0045b4a1811e",
            "value": 109
          }
        },
        "00746b7929d14ad58b798d3b057a30c2": {
          "model_module": "@jupyter-widgets/controls",
          "model_name": "HTMLModel",
          "model_module_version": "1.5.0",
          "state": {
            "_dom_classes": [],
            "_model_module": "@jupyter-widgets/controls",
            "_model_module_version": "1.5.0",
            "_model_name": "HTMLModel",
            "_view_count": null,
            "_view_module": "@jupyter-widgets/controls",
            "_view_module_version": "1.5.0",
            "_view_name": "HTMLView",
            "description": "",
            "description_tooltip": null,
            "layout": "IPY_MODEL_8c685096571347f2a79f32eaf56fa085",
            "placeholder": "​",
            "style": "IPY_MODEL_de23249d8f1d4ad1857574aae6295bd9",
            "value": " 109/109 [00:00&lt;00:00, 525.67it/s]"
          }
        },
        "f219b1c5b9334493ad99c95a2d602fa2": {
          "model_module": "@jupyter-widgets/base",
          "model_name": "LayoutModel",
          "model_module_version": "1.2.0",
          "state": {
            "_model_module": "@jupyter-widgets/base",
            "_model_module_version": "1.2.0",
            "_model_name": "LayoutModel",
            "_view_count": null,
            "_view_module": "@jupyter-widgets/base",
            "_view_module_version": "1.2.0",
            "_view_name": "LayoutView",
            "align_content": null,
            "align_items": null,
            "align_self": null,
            "border": null,
            "bottom": null,
            "display": null,
            "flex": null,
            "flex_flow": null,
            "grid_area": null,
            "grid_auto_columns": null,
            "grid_auto_flow": null,
            "grid_auto_rows": null,
            "grid_column": null,
            "grid_gap": null,
            "grid_row": null,
            "grid_template_areas": null,
            "grid_template_columns": null,
            "grid_template_rows": null,
            "height": null,
            "justify_content": null,
            "justify_items": null,
            "left": null,
            "margin": null,
            "max_height": null,
            "max_width": null,
            "min_height": null,
            "min_width": null,
            "object_fit": null,
            "object_position": null,
            "order": null,
            "overflow": null,
            "overflow_x": null,
            "overflow_y": null,
            "padding": null,
            "right": null,
            "top": null,
            "visibility": null,
            "width": null
          }
        },
        "0ef0fe71c23c476cac9a9628abadabbe": {
          "model_module": "@jupyter-widgets/base",
          "model_name": "LayoutModel",
          "model_module_version": "1.2.0",
          "state": {
            "_model_module": "@jupyter-widgets/base",
            "_model_module_version": "1.2.0",
            "_model_name": "LayoutModel",
            "_view_count": null,
            "_view_module": "@jupyter-widgets/base",
            "_view_module_version": "1.2.0",
            "_view_name": "LayoutView",
            "align_content": null,
            "align_items": null,
            "align_self": null,
            "border": null,
            "bottom": null,
            "display": null,
            "flex": null,
            "flex_flow": null,
            "grid_area": null,
            "grid_auto_columns": null,
            "grid_auto_flow": null,
            "grid_auto_rows": null,
            "grid_column": null,
            "grid_gap": null,
            "grid_row": null,
            "grid_template_areas": null,
            "grid_template_columns": null,
            "grid_template_rows": null,
            "height": null,
            "justify_content": null,
            "justify_items": null,
            "left": null,
            "margin": null,
            "max_height": null,
            "max_width": null,
            "min_height": null,
            "min_width": null,
            "object_fit": null,
            "object_position": null,
            "order": null,
            "overflow": null,
            "overflow_x": null,
            "overflow_y": null,
            "padding": null,
            "right": null,
            "top": null,
            "visibility": null,
            "width": null
          }
        },
        "8648e7d7a99649d7bdfab13d24b82436": {
          "model_module": "@jupyter-widgets/controls",
          "model_name": "DescriptionStyleModel",
          "model_module_version": "1.5.0",
          "state": {
            "_model_module": "@jupyter-widgets/controls",
            "_model_module_version": "1.5.0",
            "_model_name": "DescriptionStyleModel",
            "_view_count": null,
            "_view_module": "@jupyter-widgets/base",
            "_view_module_version": "1.2.0",
            "_view_name": "StyleView",
            "description_width": ""
          }
        },
        "3e9e2fd438fb4d67843bc6c4179afe15": {
          "model_module": "@jupyter-widgets/base",
          "model_name": "LayoutModel",
          "model_module_version": "1.2.0",
          "state": {
            "_model_module": "@jupyter-widgets/base",
            "_model_module_version": "1.2.0",
            "_model_name": "LayoutModel",
            "_view_count": null,
            "_view_module": "@jupyter-widgets/base",
            "_view_module_version": "1.2.0",
            "_view_name": "LayoutView",
            "align_content": null,
            "align_items": null,
            "align_self": null,
            "border": null,
            "bottom": null,
            "display": null,
            "flex": null,
            "flex_flow": null,
            "grid_area": null,
            "grid_auto_columns": null,
            "grid_auto_flow": null,
            "grid_auto_rows": null,
            "grid_column": null,
            "grid_gap": null,
            "grid_row": null,
            "grid_template_areas": null,
            "grid_template_columns": null,
            "grid_template_rows": null,
            "height": null,
            "justify_content": null,
            "justify_items": null,
            "left": null,
            "margin": null,
            "max_height": null,
            "max_width": null,
            "min_height": null,
            "min_width": null,
            "object_fit": null,
            "object_position": null,
            "order": null,
            "overflow": null,
            "overflow_x": null,
            "overflow_y": null,
            "padding": null,
            "right": null,
            "top": null,
            "visibility": null,
            "width": null
          }
        },
        "2037152681bd4bfda3fa0045b4a1811e": {
          "model_module": "@jupyter-widgets/controls",
          "model_name": "ProgressStyleModel",
          "model_module_version": "1.5.0",
          "state": {
            "_model_module": "@jupyter-widgets/controls",
            "_model_module_version": "1.5.0",
            "_model_name": "ProgressStyleModel",
            "_view_count": null,
            "_view_module": "@jupyter-widgets/base",
            "_view_module_version": "1.2.0",
            "_view_name": "StyleView",
            "bar_color": null,
            "description_width": ""
          }
        },
        "8c685096571347f2a79f32eaf56fa085": {
          "model_module": "@jupyter-widgets/base",
          "model_name": "LayoutModel",
          "model_module_version": "1.2.0",
          "state": {
            "_model_module": "@jupyter-widgets/base",
            "_model_module_version": "1.2.0",
            "_model_name": "LayoutModel",
            "_view_count": null,
            "_view_module": "@jupyter-widgets/base",
            "_view_module_version": "1.2.0",
            "_view_name": "LayoutView",
            "align_content": null,
            "align_items": null,
            "align_self": null,
            "border": null,
            "bottom": null,
            "display": null,
            "flex": null,
            "flex_flow": null,
            "grid_area": null,
            "grid_auto_columns": null,
            "grid_auto_flow": null,
            "grid_auto_rows": null,
            "grid_column": null,
            "grid_gap": null,
            "grid_row": null,
            "grid_template_areas": null,
            "grid_template_columns": null,
            "grid_template_rows": null,
            "height": null,
            "justify_content": null,
            "justify_items": null,
            "left": null,
            "margin": null,
            "max_height": null,
            "max_width": null,
            "min_height": null,
            "min_width": null,
            "object_fit": null,
            "object_position": null,
            "order": null,
            "overflow": null,
            "overflow_x": null,
            "overflow_y": null,
            "padding": null,
            "right": null,
            "top": null,
            "visibility": null,
            "width": null
          }
        },
        "de23249d8f1d4ad1857574aae6295bd9": {
          "model_module": "@jupyter-widgets/controls",
          "model_name": "DescriptionStyleModel",
          "model_module_version": "1.5.0",
          "state": {
            "_model_module": "@jupyter-widgets/controls",
            "_model_module_version": "1.5.0",
            "_model_name": "DescriptionStyleModel",
            "_view_count": null,
            "_view_module": "@jupyter-widgets/base",
            "_view_module_version": "1.2.0",
            "_view_name": "StyleView",
            "description_width": ""
          }
        },
        "4a8b45ca07414cc4a104951a8cce66b8": {
          "model_module": "@jupyter-widgets/controls",
          "model_name": "HBoxModel",
          "model_module_version": "1.5.0",
          "state": {
            "_dom_classes": [],
            "_model_module": "@jupyter-widgets/controls",
            "_model_module_version": "1.5.0",
            "_model_name": "HBoxModel",
            "_view_count": null,
            "_view_module": "@jupyter-widgets/controls",
            "_view_module_version": "1.5.0",
            "_view_name": "HBoxView",
            "box_style": "",
            "children": [
              "IPY_MODEL_5374d80d47444f6e92b664b9c423428e",
              "IPY_MODEL_468140afe88a4211b1342a7e110b7d0f",
              "IPY_MODEL_0db63eaf85b24b5ea30cfbc162c07954"
            ],
            "layout": "IPY_MODEL_ca1d081de8e847af9f27895ba00a1731"
          }
        },
        "5374d80d47444f6e92b664b9c423428e": {
          "model_module": "@jupyter-widgets/controls",
          "model_name": "HTMLModel",
          "model_module_version": "1.5.0",
          "state": {
            "_dom_classes": [],
            "_model_module": "@jupyter-widgets/controls",
            "_model_module_version": "1.5.0",
            "_model_name": "HTMLModel",
            "_view_count": null,
            "_view_module": "@jupyter-widgets/controls",
            "_view_module_version": "1.5.0",
            "_view_name": "HTMLView",
            "description": "",
            "description_tooltip": null,
            "layout": "IPY_MODEL_b5ec46191b034fb8bfa8e12ea450f8be",
            "placeholder": "​",
            "style": "IPY_MODEL_9d2e46fa421743f2a010f132c1f3ade4",
            "value": "Evaluating Users (Test): 100%"
          }
        },
        "468140afe88a4211b1342a7e110b7d0f": {
          "model_module": "@jupyter-widgets/controls",
          "model_name": "FloatProgressModel",
          "model_module_version": "1.5.0",
          "state": {
            "_dom_classes": [],
            "_model_module": "@jupyter-widgets/controls",
            "_model_module_version": "1.5.0",
            "_model_name": "FloatProgressModel",
            "_view_count": null,
            "_view_module": "@jupyter-widgets/controls",
            "_view_module_version": "1.5.0",
            "_view_name": "ProgressView",
            "bar_style": "success",
            "description": "",
            "description_tooltip": null,
            "layout": "IPY_MODEL_35d185d8579c4798a8b91894e46bfb2f",
            "max": 610,
            "min": 0,
            "orientation": "horizontal",
            "style": "IPY_MODEL_cbdc708eff3941479b59d98594bce210",
            "value": 610
          }
        },
        "0db63eaf85b24b5ea30cfbc162c07954": {
          "model_module": "@jupyter-widgets/controls",
          "model_name": "HTMLModel",
          "model_module_version": "1.5.0",
          "state": {
            "_dom_classes": [],
            "_model_module": "@jupyter-widgets/controls",
            "_model_module_version": "1.5.0",
            "_model_name": "HTMLModel",
            "_view_count": null,
            "_view_module": "@jupyter-widgets/controls",
            "_view_module_version": "1.5.0",
            "_view_name": "HTMLView",
            "description": "",
            "description_tooltip": null,
            "layout": "IPY_MODEL_289c2b062436473eb07fa6bd5158ed92",
            "placeholder": "​",
            "style": "IPY_MODEL_59997605faaa49b3b98c404182441c16",
            "value": " 610/610 [00:19&lt;00:00, 46.65it/s]"
          }
        },
        "ca1d081de8e847af9f27895ba00a1731": {
          "model_module": "@jupyter-widgets/base",
          "model_name": "LayoutModel",
          "model_module_version": "1.2.0",
          "state": {
            "_model_module": "@jupyter-widgets/base",
            "_model_module_version": "1.2.0",
            "_model_name": "LayoutModel",
            "_view_count": null,
            "_view_module": "@jupyter-widgets/base",
            "_view_module_version": "1.2.0",
            "_view_name": "LayoutView",
            "align_content": null,
            "align_items": null,
            "align_self": null,
            "border": null,
            "bottom": null,
            "display": null,
            "flex": null,
            "flex_flow": null,
            "grid_area": null,
            "grid_auto_columns": null,
            "grid_auto_flow": null,
            "grid_auto_rows": null,
            "grid_column": null,
            "grid_gap": null,
            "grid_row": null,
            "grid_template_areas": null,
            "grid_template_columns": null,
            "grid_template_rows": null,
            "height": null,
            "justify_content": null,
            "justify_items": null,
            "left": null,
            "margin": null,
            "max_height": null,
            "max_width": null,
            "min_height": null,
            "min_width": null,
            "object_fit": null,
            "object_position": null,
            "order": null,
            "overflow": null,
            "overflow_x": null,
            "overflow_y": null,
            "padding": null,
            "right": null,
            "top": null,
            "visibility": null,
            "width": null
          }
        },
        "b5ec46191b034fb8bfa8e12ea450f8be": {
          "model_module": "@jupyter-widgets/base",
          "model_name": "LayoutModel",
          "model_module_version": "1.2.0",
          "state": {
            "_model_module": "@jupyter-widgets/base",
            "_model_module_version": "1.2.0",
            "_model_name": "LayoutModel",
            "_view_count": null,
            "_view_module": "@jupyter-widgets/base",
            "_view_module_version": "1.2.0",
            "_view_name": "LayoutView",
            "align_content": null,
            "align_items": null,
            "align_self": null,
            "border": null,
            "bottom": null,
            "display": null,
            "flex": null,
            "flex_flow": null,
            "grid_area": null,
            "grid_auto_columns": null,
            "grid_auto_flow": null,
            "grid_auto_rows": null,
            "grid_column": null,
            "grid_gap": null,
            "grid_row": null,
            "grid_template_areas": null,
            "grid_template_columns": null,
            "grid_template_rows": null,
            "height": null,
            "justify_content": null,
            "justify_items": null,
            "left": null,
            "margin": null,
            "max_height": null,
            "max_width": null,
            "min_height": null,
            "min_width": null,
            "object_fit": null,
            "object_position": null,
            "order": null,
            "overflow": null,
            "overflow_x": null,
            "overflow_y": null,
            "padding": null,
            "right": null,
            "top": null,
            "visibility": null,
            "width": null
          }
        },
        "9d2e46fa421743f2a010f132c1f3ade4": {
          "model_module": "@jupyter-widgets/controls",
          "model_name": "DescriptionStyleModel",
          "model_module_version": "1.5.0",
          "state": {
            "_model_module": "@jupyter-widgets/controls",
            "_model_module_version": "1.5.0",
            "_model_name": "DescriptionStyleModel",
            "_view_count": null,
            "_view_module": "@jupyter-widgets/base",
            "_view_module_version": "1.2.0",
            "_view_name": "StyleView",
            "description_width": ""
          }
        },
        "35d185d8579c4798a8b91894e46bfb2f": {
          "model_module": "@jupyter-widgets/base",
          "model_name": "LayoutModel",
          "model_module_version": "1.2.0",
          "state": {
            "_model_module": "@jupyter-widgets/base",
            "_model_module_version": "1.2.0",
            "_model_name": "LayoutModel",
            "_view_count": null,
            "_view_module": "@jupyter-widgets/base",
            "_view_module_version": "1.2.0",
            "_view_name": "LayoutView",
            "align_content": null,
            "align_items": null,
            "align_self": null,
            "border": null,
            "bottom": null,
            "display": null,
            "flex": null,
            "flex_flow": null,
            "grid_area": null,
            "grid_auto_columns": null,
            "grid_auto_flow": null,
            "grid_auto_rows": null,
            "grid_column": null,
            "grid_gap": null,
            "grid_row": null,
            "grid_template_areas": null,
            "grid_template_columns": null,
            "grid_template_rows": null,
            "height": null,
            "justify_content": null,
            "justify_items": null,
            "left": null,
            "margin": null,
            "max_height": null,
            "max_width": null,
            "min_height": null,
            "min_width": null,
            "object_fit": null,
            "object_position": null,
            "order": null,
            "overflow": null,
            "overflow_x": null,
            "overflow_y": null,
            "padding": null,
            "right": null,
            "top": null,
            "visibility": null,
            "width": null
          }
        },
        "cbdc708eff3941479b59d98594bce210": {
          "model_module": "@jupyter-widgets/controls",
          "model_name": "ProgressStyleModel",
          "model_module_version": "1.5.0",
          "state": {
            "_model_module": "@jupyter-widgets/controls",
            "_model_module_version": "1.5.0",
            "_model_name": "ProgressStyleModel",
            "_view_count": null,
            "_view_module": "@jupyter-widgets/base",
            "_view_module_version": "1.2.0",
            "_view_name": "StyleView",
            "bar_color": null,
            "description_width": ""
          }
        },
        "289c2b062436473eb07fa6bd5158ed92": {
          "model_module": "@jupyter-widgets/base",
          "model_name": "LayoutModel",
          "model_module_version": "1.2.0",
          "state": {
            "_model_module": "@jupyter-widgets/base",
            "_model_module_version": "1.2.0",
            "_model_name": "LayoutModel",
            "_view_count": null,
            "_view_module": "@jupyter-widgets/base",
            "_view_module_version": "1.2.0",
            "_view_name": "LayoutView",
            "align_content": null,
            "align_items": null,
            "align_self": null,
            "border": null,
            "bottom": null,
            "display": null,
            "flex": null,
            "flex_flow": null,
            "grid_area": null,
            "grid_auto_columns": null,
            "grid_auto_flow": null,
            "grid_auto_rows": null,
            "grid_column": null,
            "grid_gap": null,
            "grid_row": null,
            "grid_template_areas": null,
            "grid_template_columns": null,
            "grid_template_rows": null,
            "height": null,
            "justify_content": null,
            "justify_items": null,
            "left": null,
            "margin": null,
            "max_height": null,
            "max_width": null,
            "min_height": null,
            "min_width": null,
            "object_fit": null,
            "object_position": null,
            "order": null,
            "overflow": null,
            "overflow_x": null,
            "overflow_y": null,
            "padding": null,
            "right": null,
            "top": null,
            "visibility": null,
            "width": null
          }
        },
        "59997605faaa49b3b98c404182441c16": {
          "model_module": "@jupyter-widgets/controls",
          "model_name": "DescriptionStyleModel",
          "model_module_version": "1.5.0",
          "state": {
            "_model_module": "@jupyter-widgets/controls",
            "_model_module_version": "1.5.0",
            "_model_name": "DescriptionStyleModel",
            "_view_count": null,
            "_view_module": "@jupyter-widgets/base",
            "_view_module_version": "1.2.0",
            "_view_name": "StyleView",
            "description_width": ""
          }
        },
        "38d5aee18d6446c1ab93e10f3338e22c": {
          "model_module": "@jupyter-widgets/controls",
          "model_name": "HBoxModel",
          "model_module_version": "1.5.0",
          "state": {
            "_dom_classes": [],
            "_model_module": "@jupyter-widgets/controls",
            "_model_module_version": "1.5.0",
            "_model_name": "HBoxModel",
            "_view_count": null,
            "_view_module": "@jupyter-widgets/controls",
            "_view_module_version": "1.5.0",
            "_view_name": "HBoxView",
            "box_style": "",
            "children": [
              "IPY_MODEL_475fa809beb148129d26dd4ab51d2926",
              "IPY_MODEL_c06ea9000635443d88cc9b8874704324",
              "IPY_MODEL_e93300f159044241830a8072e74d3d9d"
            ],
            "layout": "IPY_MODEL_ed837907d90e4bfeae489e462b937b11"
          }
        },
        "475fa809beb148129d26dd4ab51d2926": {
          "model_module": "@jupyter-widgets/controls",
          "model_name": "HTMLModel",
          "model_module_version": "1.5.0",
          "state": {
            "_dom_classes": [],
            "_model_module": "@jupyter-widgets/controls",
            "_model_module_version": "1.5.0",
            "_model_name": "HTMLModel",
            "_view_count": null,
            "_view_module": "@jupyter-widgets/controls",
            "_view_module_version": "1.5.0",
            "_view_name": "HTMLView",
            "description": "",
            "description_tooltip": null,
            "layout": "IPY_MODEL_299b842b0c95449782763314418ce2da",
            "placeholder": "​",
            "style": "IPY_MODEL_069e93279cdb4a71a5fdde08ac26be82",
            "value": "RPCA: 100%"
          }
        },
        "c06ea9000635443d88cc9b8874704324": {
          "model_module": "@jupyter-widgets/controls",
          "model_name": "FloatProgressModel",
          "model_module_version": "1.5.0",
          "state": {
            "_dom_classes": [],
            "_model_module": "@jupyter-widgets/controls",
            "_model_module_version": "1.5.0",
            "_model_name": "FloatProgressModel",
            "_view_count": null,
            "_view_module": "@jupyter-widgets/controls",
            "_view_module_version": "1.5.0",
            "_view_name": "ProgressView",
            "bar_style": "success",
            "description": "",
            "description_tooltip": null,
            "layout": "IPY_MODEL_eb0bb4c9f2c343d7b3cbf5730533984a",
            "max": 100,
            "min": 0,
            "orientation": "horizontal",
            "style": "IPY_MODEL_24e2a689d4d0470f8e295175df316a7e",
            "value": 100
          }
        },
        "e93300f159044241830a8072e74d3d9d": {
          "model_module": "@jupyter-widgets/controls",
          "model_name": "HTMLModel",
          "model_module_version": "1.5.0",
          "state": {
            "_dom_classes": [],
            "_model_module": "@jupyter-widgets/controls",
            "_model_module_version": "1.5.0",
            "_model_name": "HTMLModel",
            "_view_count": null,
            "_view_module": "@jupyter-widgets/controls",
            "_view_module_version": "1.5.0",
            "_view_name": "HTMLView",
            "description": "",
            "description_tooltip": null,
            "layout": "IPY_MODEL_81bc2aee291b4c62913620b875b99f41",
            "placeholder": "​",
            "style": "IPY_MODEL_131e0340f03d47b188acbf276006819b",
            "value": " 100/100 [04:45&lt;00:00,  3.32s/it]"
          }
        },
        "ed837907d90e4bfeae489e462b937b11": {
          "model_module": "@jupyter-widgets/base",
          "model_name": "LayoutModel",
          "model_module_version": "1.2.0",
          "state": {
            "_model_module": "@jupyter-widgets/base",
            "_model_module_version": "1.2.0",
            "_model_name": "LayoutModel",
            "_view_count": null,
            "_view_module": "@jupyter-widgets/base",
            "_view_module_version": "1.2.0",
            "_view_name": "LayoutView",
            "align_content": null,
            "align_items": null,
            "align_self": null,
            "border": null,
            "bottom": null,
            "display": null,
            "flex": null,
            "flex_flow": null,
            "grid_area": null,
            "grid_auto_columns": null,
            "grid_auto_flow": null,
            "grid_auto_rows": null,
            "grid_column": null,
            "grid_gap": null,
            "grid_row": null,
            "grid_template_areas": null,
            "grid_template_columns": null,
            "grid_template_rows": null,
            "height": null,
            "justify_content": null,
            "justify_items": null,
            "left": null,
            "margin": null,
            "max_height": null,
            "max_width": null,
            "min_height": null,
            "min_width": null,
            "object_fit": null,
            "object_position": null,
            "order": null,
            "overflow": null,
            "overflow_x": null,
            "overflow_y": null,
            "padding": null,
            "right": null,
            "top": null,
            "visibility": null,
            "width": null
          }
        },
        "299b842b0c95449782763314418ce2da": {
          "model_module": "@jupyter-widgets/base",
          "model_name": "LayoutModel",
          "model_module_version": "1.2.0",
          "state": {
            "_model_module": "@jupyter-widgets/base",
            "_model_module_version": "1.2.0",
            "_model_name": "LayoutModel",
            "_view_count": null,
            "_view_module": "@jupyter-widgets/base",
            "_view_module_version": "1.2.0",
            "_view_name": "LayoutView",
            "align_content": null,
            "align_items": null,
            "align_self": null,
            "border": null,
            "bottom": null,
            "display": null,
            "flex": null,
            "flex_flow": null,
            "grid_area": null,
            "grid_auto_columns": null,
            "grid_auto_flow": null,
            "grid_auto_rows": null,
            "grid_column": null,
            "grid_gap": null,
            "grid_row": null,
            "grid_template_areas": null,
            "grid_template_columns": null,
            "grid_template_rows": null,
            "height": null,
            "justify_content": null,
            "justify_items": null,
            "left": null,
            "margin": null,
            "max_height": null,
            "max_width": null,
            "min_height": null,
            "min_width": null,
            "object_fit": null,
            "object_position": null,
            "order": null,
            "overflow": null,
            "overflow_x": null,
            "overflow_y": null,
            "padding": null,
            "right": null,
            "top": null,
            "visibility": null,
            "width": null
          }
        },
        "069e93279cdb4a71a5fdde08ac26be82": {
          "model_module": "@jupyter-widgets/controls",
          "model_name": "DescriptionStyleModel",
          "model_module_version": "1.5.0",
          "state": {
            "_model_module": "@jupyter-widgets/controls",
            "_model_module_version": "1.5.0",
            "_model_name": "DescriptionStyleModel",
            "_view_count": null,
            "_view_module": "@jupyter-widgets/base",
            "_view_module_version": "1.2.0",
            "_view_name": "StyleView",
            "description_width": ""
          }
        },
        "eb0bb4c9f2c343d7b3cbf5730533984a": {
          "model_module": "@jupyter-widgets/base",
          "model_name": "LayoutModel",
          "model_module_version": "1.2.0",
          "state": {
            "_model_module": "@jupyter-widgets/base",
            "_model_module_version": "1.2.0",
            "_model_name": "LayoutModel",
            "_view_count": null,
            "_view_module": "@jupyter-widgets/base",
            "_view_module_version": "1.2.0",
            "_view_name": "LayoutView",
            "align_content": null,
            "align_items": null,
            "align_self": null,
            "border": null,
            "bottom": null,
            "display": null,
            "flex": null,
            "flex_flow": null,
            "grid_area": null,
            "grid_auto_columns": null,
            "grid_auto_flow": null,
            "grid_auto_rows": null,
            "grid_column": null,
            "grid_gap": null,
            "grid_row": null,
            "grid_template_areas": null,
            "grid_template_columns": null,
            "grid_template_rows": null,
            "height": null,
            "justify_content": null,
            "justify_items": null,
            "left": null,
            "margin": null,
            "max_height": null,
            "max_width": null,
            "min_height": null,
            "min_width": null,
            "object_fit": null,
            "object_position": null,
            "order": null,
            "overflow": null,
            "overflow_x": null,
            "overflow_y": null,
            "padding": null,
            "right": null,
            "top": null,
            "visibility": null,
            "width": null
          }
        },
        "24e2a689d4d0470f8e295175df316a7e": {
          "model_module": "@jupyter-widgets/controls",
          "model_name": "ProgressStyleModel",
          "model_module_version": "1.5.0",
          "state": {
            "_model_module": "@jupyter-widgets/controls",
            "_model_module_version": "1.5.0",
            "_model_name": "ProgressStyleModel",
            "_view_count": null,
            "_view_module": "@jupyter-widgets/base",
            "_view_module_version": "1.2.0",
            "_view_name": "StyleView",
            "bar_color": null,
            "description_width": ""
          }
        },
        "81bc2aee291b4c62913620b875b99f41": {
          "model_module": "@jupyter-widgets/base",
          "model_name": "LayoutModel",
          "model_module_version": "1.2.0",
          "state": {
            "_model_module": "@jupyter-widgets/base",
            "_model_module_version": "1.2.0",
            "_model_name": "LayoutModel",
            "_view_count": null,
            "_view_module": "@jupyter-widgets/base",
            "_view_module_version": "1.2.0",
            "_view_name": "LayoutView",
            "align_content": null,
            "align_items": null,
            "align_self": null,
            "border": null,
            "bottom": null,
            "display": null,
            "flex": null,
            "flex_flow": null,
            "grid_area": null,
            "grid_auto_columns": null,
            "grid_auto_flow": null,
            "grid_auto_rows": null,
            "grid_column": null,
            "grid_gap": null,
            "grid_row": null,
            "grid_template_areas": null,
            "grid_template_columns": null,
            "grid_template_rows": null,
            "height": null,
            "justify_content": null,
            "justify_items": null,
            "left": null,
            "margin": null,
            "max_height": null,
            "max_width": null,
            "min_height": null,
            "min_width": null,
            "object_fit": null,
            "object_position": null,
            "order": null,
            "overflow": null,
            "overflow_x": null,
            "overflow_y": null,
            "padding": null,
            "right": null,
            "top": null,
            "visibility": null,
            "width": null
          }
        },
        "131e0340f03d47b188acbf276006819b": {
          "model_module": "@jupyter-widgets/controls",
          "model_name": "DescriptionStyleModel",
          "model_module_version": "1.5.0",
          "state": {
            "_model_module": "@jupyter-widgets/controls",
            "_model_module_version": "1.5.0",
            "_model_name": "DescriptionStyleModel",
            "_view_count": null,
            "_view_module": "@jupyter-widgets/base",
            "_view_module_version": "1.2.0",
            "_view_name": "StyleView",
            "description_width": ""
          }
        },
        "9057d87891e44987bc49cd372db25f19": {
          "model_module": "@jupyter-widgets/controls",
          "model_name": "HBoxModel",
          "model_module_version": "1.5.0",
          "state": {
            "_dom_classes": [],
            "_model_module": "@jupyter-widgets/controls",
            "_model_module_version": "1.5.0",
            "_model_name": "HBoxModel",
            "_view_count": null,
            "_view_module": "@jupyter-widgets/controls",
            "_view_module_version": "1.5.0",
            "_view_name": "HBoxView",
            "box_style": "",
            "children": [
              "IPY_MODEL_ef8185b9fbc649848a8058f416551d66",
              "IPY_MODEL_ec4fae3eb1064272b8dae1e77c198d30",
              "IPY_MODEL_d4ed1eeeab3149f1ae8fd48bf2112b51"
            ],
            "layout": "IPY_MODEL_5d092c9c4da346daaeaf81dbfe907474"
          }
        },
        "ef8185b9fbc649848a8058f416551d66": {
          "model_module": "@jupyter-widgets/controls",
          "model_name": "HTMLModel",
          "model_module_version": "1.5.0",
          "state": {
            "_dom_classes": [],
            "_model_module": "@jupyter-widgets/controls",
            "_model_module_version": "1.5.0",
            "_model_name": "HTMLModel",
            "_view_count": null,
            "_view_module": "@jupyter-widgets/controls",
            "_view_module_version": "1.5.0",
            "_view_name": "HTMLView",
            "description": "",
            "description_tooltip": null,
            "layout": "IPY_MODEL_66d05d3ecae74e02b7a971c201841cb6",
            "placeholder": "​",
            "style": "IPY_MODEL_87f6b52420a44d62a85d723cba557d5b",
            "value": "Funk SVD Training: 100%"
          }
        },
        "ec4fae3eb1064272b8dae1e77c198d30": {
          "model_module": "@jupyter-widgets/controls",
          "model_name": "FloatProgressModel",
          "model_module_version": "1.5.0",
          "state": {
            "_dom_classes": [],
            "_model_module": "@jupyter-widgets/controls",
            "_model_module_version": "1.5.0",
            "_model_name": "FloatProgressModel",
            "_view_count": null,
            "_view_module": "@jupyter-widgets/controls",
            "_view_module_version": "1.5.0",
            "_view_name": "ProgressView",
            "bar_style": "success",
            "description": "",
            "description_tooltip": null,
            "layout": "IPY_MODEL_c13a4a666efe4b6f864d72ca1a718885",
            "max": 200,
            "min": 0,
            "orientation": "horizontal",
            "style": "IPY_MODEL_cba90af6b7784253a20ff4dacdec9d15",
            "value": 200
          }
        },
        "d4ed1eeeab3149f1ae8fd48bf2112b51": {
          "model_module": "@jupyter-widgets/controls",
          "model_name": "HTMLModel",
          "model_module_version": "1.5.0",
          "state": {
            "_dom_classes": [],
            "_model_module": "@jupyter-widgets/controls",
            "_model_module_version": "1.5.0",
            "_model_name": "HTMLModel",
            "_view_count": null,
            "_view_module": "@jupyter-widgets/controls",
            "_view_module_version": "1.5.0",
            "_view_name": "HTMLView",
            "description": "",
            "description_tooltip": null,
            "layout": "IPY_MODEL_b9b93e6deea64f34b8eda5fbf193c274",
            "placeholder": "​",
            "style": "IPY_MODEL_ce88a8e23fe7495787f116cf9c3be157",
            "value": " 200/200 [25:37&lt;00:00,  7.73s/it]"
          }
        },
        "5d092c9c4da346daaeaf81dbfe907474": {
          "model_module": "@jupyter-widgets/base",
          "model_name": "LayoutModel",
          "model_module_version": "1.2.0",
          "state": {
            "_model_module": "@jupyter-widgets/base",
            "_model_module_version": "1.2.0",
            "_model_name": "LayoutModel",
            "_view_count": null,
            "_view_module": "@jupyter-widgets/base",
            "_view_module_version": "1.2.0",
            "_view_name": "LayoutView",
            "align_content": null,
            "align_items": null,
            "align_self": null,
            "border": null,
            "bottom": null,
            "display": null,
            "flex": null,
            "flex_flow": null,
            "grid_area": null,
            "grid_auto_columns": null,
            "grid_auto_flow": null,
            "grid_auto_rows": null,
            "grid_column": null,
            "grid_gap": null,
            "grid_row": null,
            "grid_template_areas": null,
            "grid_template_columns": null,
            "grid_template_rows": null,
            "height": null,
            "justify_content": null,
            "justify_items": null,
            "left": null,
            "margin": null,
            "max_height": null,
            "max_width": null,
            "min_height": null,
            "min_width": null,
            "object_fit": null,
            "object_position": null,
            "order": null,
            "overflow": null,
            "overflow_x": null,
            "overflow_y": null,
            "padding": null,
            "right": null,
            "top": null,
            "visibility": null,
            "width": null
          }
        },
        "66d05d3ecae74e02b7a971c201841cb6": {
          "model_module": "@jupyter-widgets/base",
          "model_name": "LayoutModel",
          "model_module_version": "1.2.0",
          "state": {
            "_model_module": "@jupyter-widgets/base",
            "_model_module_version": "1.2.0",
            "_model_name": "LayoutModel",
            "_view_count": null,
            "_view_module": "@jupyter-widgets/base",
            "_view_module_version": "1.2.0",
            "_view_name": "LayoutView",
            "align_content": null,
            "align_items": null,
            "align_self": null,
            "border": null,
            "bottom": null,
            "display": null,
            "flex": null,
            "flex_flow": null,
            "grid_area": null,
            "grid_auto_columns": null,
            "grid_auto_flow": null,
            "grid_auto_rows": null,
            "grid_column": null,
            "grid_gap": null,
            "grid_row": null,
            "grid_template_areas": null,
            "grid_template_columns": null,
            "grid_template_rows": null,
            "height": null,
            "justify_content": null,
            "justify_items": null,
            "left": null,
            "margin": null,
            "max_height": null,
            "max_width": null,
            "min_height": null,
            "min_width": null,
            "object_fit": null,
            "object_position": null,
            "order": null,
            "overflow": null,
            "overflow_x": null,
            "overflow_y": null,
            "padding": null,
            "right": null,
            "top": null,
            "visibility": null,
            "width": null
          }
        },
        "87f6b52420a44d62a85d723cba557d5b": {
          "model_module": "@jupyter-widgets/controls",
          "model_name": "DescriptionStyleModel",
          "model_module_version": "1.5.0",
          "state": {
            "_model_module": "@jupyter-widgets/controls",
            "_model_module_version": "1.5.0",
            "_model_name": "DescriptionStyleModel",
            "_view_count": null,
            "_view_module": "@jupyter-widgets/base",
            "_view_module_version": "1.2.0",
            "_view_name": "StyleView",
            "description_width": ""
          }
        },
        "c13a4a666efe4b6f864d72ca1a718885": {
          "model_module": "@jupyter-widgets/base",
          "model_name": "LayoutModel",
          "model_module_version": "1.2.0",
          "state": {
            "_model_module": "@jupyter-widgets/base",
            "_model_module_version": "1.2.0",
            "_model_name": "LayoutModel",
            "_view_count": null,
            "_view_module": "@jupyter-widgets/base",
            "_view_module_version": "1.2.0",
            "_view_name": "LayoutView",
            "align_content": null,
            "align_items": null,
            "align_self": null,
            "border": null,
            "bottom": null,
            "display": null,
            "flex": null,
            "flex_flow": null,
            "grid_area": null,
            "grid_auto_columns": null,
            "grid_auto_flow": null,
            "grid_auto_rows": null,
            "grid_column": null,
            "grid_gap": null,
            "grid_row": null,
            "grid_template_areas": null,
            "grid_template_columns": null,
            "grid_template_rows": null,
            "height": null,
            "justify_content": null,
            "justify_items": null,
            "left": null,
            "margin": null,
            "max_height": null,
            "max_width": null,
            "min_height": null,
            "min_width": null,
            "object_fit": null,
            "object_position": null,
            "order": null,
            "overflow": null,
            "overflow_x": null,
            "overflow_y": null,
            "padding": null,
            "right": null,
            "top": null,
            "visibility": null,
            "width": null
          }
        },
        "cba90af6b7784253a20ff4dacdec9d15": {
          "model_module": "@jupyter-widgets/controls",
          "model_name": "ProgressStyleModel",
          "model_module_version": "1.5.0",
          "state": {
            "_model_module": "@jupyter-widgets/controls",
            "_model_module_version": "1.5.0",
            "_model_name": "ProgressStyleModel",
            "_view_count": null,
            "_view_module": "@jupyter-widgets/base",
            "_view_module_version": "1.2.0",
            "_view_name": "StyleView",
            "bar_color": null,
            "description_width": ""
          }
        },
        "b9b93e6deea64f34b8eda5fbf193c274": {
          "model_module": "@jupyter-widgets/base",
          "model_name": "LayoutModel",
          "model_module_version": "1.2.0",
          "state": {
            "_model_module": "@jupyter-widgets/base",
            "_model_module_version": "1.2.0",
            "_model_name": "LayoutModel",
            "_view_count": null,
            "_view_module": "@jupyter-widgets/base",
            "_view_module_version": "1.2.0",
            "_view_name": "LayoutView",
            "align_content": null,
            "align_items": null,
            "align_self": null,
            "border": null,
            "bottom": null,
            "display": null,
            "flex": null,
            "flex_flow": null,
            "grid_area": null,
            "grid_auto_columns": null,
            "grid_auto_flow": null,
            "grid_auto_rows": null,
            "grid_column": null,
            "grid_gap": null,
            "grid_row": null,
            "grid_template_areas": null,
            "grid_template_columns": null,
            "grid_template_rows": null,
            "height": null,
            "justify_content": null,
            "justify_items": null,
            "left": null,
            "margin": null,
            "max_height": null,
            "max_width": null,
            "min_height": null,
            "min_width": null,
            "object_fit": null,
            "object_position": null,
            "order": null,
            "overflow": null,
            "overflow_x": null,
            "overflow_y": null,
            "padding": null,
            "right": null,
            "top": null,
            "visibility": null,
            "width": null
          }
        },
        "ce88a8e23fe7495787f116cf9c3be157": {
          "model_module": "@jupyter-widgets/controls",
          "model_name": "DescriptionStyleModel",
          "model_module_version": "1.5.0",
          "state": {
            "_model_module": "@jupyter-widgets/controls",
            "_model_module_version": "1.5.0",
            "_model_name": "DescriptionStyleModel",
            "_view_count": null,
            "_view_module": "@jupyter-widgets/base",
            "_view_module_version": "1.2.0",
            "_view_name": "StyleView",
            "description_width": ""
          }
        },
        "6ba6c4fac598444c9d169834839b7fcd": {
          "model_module": "@jupyter-widgets/controls",
          "model_name": "HBoxModel",
          "model_module_version": "1.5.0",
          "state": {
            "_dom_classes": [],
            "_model_module": "@jupyter-widgets/controls",
            "_model_module_version": "1.5.0",
            "_model_name": "HBoxModel",
            "_view_count": null,
            "_view_module": "@jupyter-widgets/controls",
            "_view_module_version": "1.5.0",
            "_view_name": "HBoxView",
            "box_style": "",
            "children": [
              "IPY_MODEL_6bba8e3bda564a6ab1318ba7570ec719",
              "IPY_MODEL_eff0aa5401814021938896c7b7c1a02f",
              "IPY_MODEL_b5fc4662e3234331aa418cc282b43bed"
            ],
            "layout": "IPY_MODEL_8c0671ac300844ba892ac7e52316444c"
          }
        },
        "6bba8e3bda564a6ab1318ba7570ec719": {
          "model_module": "@jupyter-widgets/controls",
          "model_name": "HTMLModel",
          "model_module_version": "1.5.0",
          "state": {
            "_dom_classes": [],
            "_model_module": "@jupyter-widgets/controls",
            "_model_module_version": "1.5.0",
            "_model_name": "HTMLModel",
            "_view_count": null,
            "_view_module": "@jupyter-widgets/controls",
            "_view_module_version": "1.5.0",
            "_view_name": "HTMLView",
            "description": "",
            "description_tooltip": null,
            "layout": "IPY_MODEL_d597f7e746674f25b89f9f2447eacbb4",
            "placeholder": "​",
            "style": "IPY_MODEL_e550a429d39e4f629dda474a4daa476c",
            "value": "Evaluating Users (Training): 100%"
          }
        },
        "eff0aa5401814021938896c7b7c1a02f": {
          "model_module": "@jupyter-widgets/controls",
          "model_name": "FloatProgressModel",
          "model_module_version": "1.5.0",
          "state": {
            "_dom_classes": [],
            "_model_module": "@jupyter-widgets/controls",
            "_model_module_version": "1.5.0",
            "_model_name": "FloatProgressModel",
            "_view_count": null,
            "_view_module": "@jupyter-widgets/controls",
            "_view_module_version": "1.5.0",
            "_view_name": "ProgressView",
            "bar_style": "success",
            "description": "",
            "description_tooltip": null,
            "layout": "IPY_MODEL_a5871f3e721e472791b522218eb044c0",
            "max": 610,
            "min": 0,
            "orientation": "horizontal",
            "style": "IPY_MODEL_ec44051f73c54a60abb9b79006095c8c",
            "value": 610
          }
        },
        "b5fc4662e3234331aa418cc282b43bed": {
          "model_module": "@jupyter-widgets/controls",
          "model_name": "HTMLModel",
          "model_module_version": "1.5.0",
          "state": {
            "_dom_classes": [],
            "_model_module": "@jupyter-widgets/controls",
            "_model_module_version": "1.5.0",
            "_model_name": "HTMLModel",
            "_view_count": null,
            "_view_module": "@jupyter-widgets/controls",
            "_view_module_version": "1.5.0",
            "_view_name": "HTMLView",
            "description": "",
            "description_tooltip": null,
            "layout": "IPY_MODEL_3e4c423ab51244268ba73c8120c7b45b",
            "placeholder": "​",
            "style": "IPY_MODEL_77695466a8584c498d4a53cbca79f488",
            "value": " 610/610 [00:08&lt;00:00, 71.83it/s]"
          }
        },
        "8c0671ac300844ba892ac7e52316444c": {
          "model_module": "@jupyter-widgets/base",
          "model_name": "LayoutModel",
          "model_module_version": "1.2.0",
          "state": {
            "_model_module": "@jupyter-widgets/base",
            "_model_module_version": "1.2.0",
            "_model_name": "LayoutModel",
            "_view_count": null,
            "_view_module": "@jupyter-widgets/base",
            "_view_module_version": "1.2.0",
            "_view_name": "LayoutView",
            "align_content": null,
            "align_items": null,
            "align_self": null,
            "border": null,
            "bottom": null,
            "display": null,
            "flex": null,
            "flex_flow": null,
            "grid_area": null,
            "grid_auto_columns": null,
            "grid_auto_flow": null,
            "grid_auto_rows": null,
            "grid_column": null,
            "grid_gap": null,
            "grid_row": null,
            "grid_template_areas": null,
            "grid_template_columns": null,
            "grid_template_rows": null,
            "height": null,
            "justify_content": null,
            "justify_items": null,
            "left": null,
            "margin": null,
            "max_height": null,
            "max_width": null,
            "min_height": null,
            "min_width": null,
            "object_fit": null,
            "object_position": null,
            "order": null,
            "overflow": null,
            "overflow_x": null,
            "overflow_y": null,
            "padding": null,
            "right": null,
            "top": null,
            "visibility": null,
            "width": null
          }
        },
        "d597f7e746674f25b89f9f2447eacbb4": {
          "model_module": "@jupyter-widgets/base",
          "model_name": "LayoutModel",
          "model_module_version": "1.2.0",
          "state": {
            "_model_module": "@jupyter-widgets/base",
            "_model_module_version": "1.2.0",
            "_model_name": "LayoutModel",
            "_view_count": null,
            "_view_module": "@jupyter-widgets/base",
            "_view_module_version": "1.2.0",
            "_view_name": "LayoutView",
            "align_content": null,
            "align_items": null,
            "align_self": null,
            "border": null,
            "bottom": null,
            "display": null,
            "flex": null,
            "flex_flow": null,
            "grid_area": null,
            "grid_auto_columns": null,
            "grid_auto_flow": null,
            "grid_auto_rows": null,
            "grid_column": null,
            "grid_gap": null,
            "grid_row": null,
            "grid_template_areas": null,
            "grid_template_columns": null,
            "grid_template_rows": null,
            "height": null,
            "justify_content": null,
            "justify_items": null,
            "left": null,
            "margin": null,
            "max_height": null,
            "max_width": null,
            "min_height": null,
            "min_width": null,
            "object_fit": null,
            "object_position": null,
            "order": null,
            "overflow": null,
            "overflow_x": null,
            "overflow_y": null,
            "padding": null,
            "right": null,
            "top": null,
            "visibility": null,
            "width": null
          }
        },
        "e550a429d39e4f629dda474a4daa476c": {
          "model_module": "@jupyter-widgets/controls",
          "model_name": "DescriptionStyleModel",
          "model_module_version": "1.5.0",
          "state": {
            "_model_module": "@jupyter-widgets/controls",
            "_model_module_version": "1.5.0",
            "_model_name": "DescriptionStyleModel",
            "_view_count": null,
            "_view_module": "@jupyter-widgets/base",
            "_view_module_version": "1.2.0",
            "_view_name": "StyleView",
            "description_width": ""
          }
        },
        "a5871f3e721e472791b522218eb044c0": {
          "model_module": "@jupyter-widgets/base",
          "model_name": "LayoutModel",
          "model_module_version": "1.2.0",
          "state": {
            "_model_module": "@jupyter-widgets/base",
            "_model_module_version": "1.2.0",
            "_model_name": "LayoutModel",
            "_view_count": null,
            "_view_module": "@jupyter-widgets/base",
            "_view_module_version": "1.2.0",
            "_view_name": "LayoutView",
            "align_content": null,
            "align_items": null,
            "align_self": null,
            "border": null,
            "bottom": null,
            "display": null,
            "flex": null,
            "flex_flow": null,
            "grid_area": null,
            "grid_auto_columns": null,
            "grid_auto_flow": null,
            "grid_auto_rows": null,
            "grid_column": null,
            "grid_gap": null,
            "grid_row": null,
            "grid_template_areas": null,
            "grid_template_columns": null,
            "grid_template_rows": null,
            "height": null,
            "justify_content": null,
            "justify_items": null,
            "left": null,
            "margin": null,
            "max_height": null,
            "max_width": null,
            "min_height": null,
            "min_width": null,
            "object_fit": null,
            "object_position": null,
            "order": null,
            "overflow": null,
            "overflow_x": null,
            "overflow_y": null,
            "padding": null,
            "right": null,
            "top": null,
            "visibility": null,
            "width": null
          }
        },
        "ec44051f73c54a60abb9b79006095c8c": {
          "model_module": "@jupyter-widgets/controls",
          "model_name": "ProgressStyleModel",
          "model_module_version": "1.5.0",
          "state": {
            "_model_module": "@jupyter-widgets/controls",
            "_model_module_version": "1.5.0",
            "_model_name": "ProgressStyleModel",
            "_view_count": null,
            "_view_module": "@jupyter-widgets/base",
            "_view_module_version": "1.2.0",
            "_view_name": "StyleView",
            "bar_color": null,
            "description_width": ""
          }
        },
        "3e4c423ab51244268ba73c8120c7b45b": {
          "model_module": "@jupyter-widgets/base",
          "model_name": "LayoutModel",
          "model_module_version": "1.2.0",
          "state": {
            "_model_module": "@jupyter-widgets/base",
            "_model_module_version": "1.2.0",
            "_model_name": "LayoutModel",
            "_view_count": null,
            "_view_module": "@jupyter-widgets/base",
            "_view_module_version": "1.2.0",
            "_view_name": "LayoutView",
            "align_content": null,
            "align_items": null,
            "align_self": null,
            "border": null,
            "bottom": null,
            "display": null,
            "flex": null,
            "flex_flow": null,
            "grid_area": null,
            "grid_auto_columns": null,
            "grid_auto_flow": null,
            "grid_auto_rows": null,
            "grid_column": null,
            "grid_gap": null,
            "grid_row": null,
            "grid_template_areas": null,
            "grid_template_columns": null,
            "grid_template_rows": null,
            "height": null,
            "justify_content": null,
            "justify_items": null,
            "left": null,
            "margin": null,
            "max_height": null,
            "max_width": null,
            "min_height": null,
            "min_width": null,
            "object_fit": null,
            "object_position": null,
            "order": null,
            "overflow": null,
            "overflow_x": null,
            "overflow_y": null,
            "padding": null,
            "right": null,
            "top": null,
            "visibility": null,
            "width": null
          }
        },
        "77695466a8584c498d4a53cbca79f488": {
          "model_module": "@jupyter-widgets/controls",
          "model_name": "DescriptionStyleModel",
          "model_module_version": "1.5.0",
          "state": {
            "_model_module": "@jupyter-widgets/controls",
            "_model_module_version": "1.5.0",
            "_model_name": "DescriptionStyleModel",
            "_view_count": null,
            "_view_module": "@jupyter-widgets/base",
            "_view_module_version": "1.2.0",
            "_view_name": "StyleView",
            "description_width": ""
          }
        },
        "4233cfec5877450c841bf28ddeb304e0": {
          "model_module": "@jupyter-widgets/controls",
          "model_name": "HBoxModel",
          "model_module_version": "1.5.0",
          "state": {
            "_dom_classes": [],
            "_model_module": "@jupyter-widgets/controls",
            "_model_module_version": "1.5.0",
            "_model_name": "HBoxModel",
            "_view_count": null,
            "_view_module": "@jupyter-widgets/controls",
            "_view_module_version": "1.5.0",
            "_view_name": "HBoxView",
            "box_style": "",
            "children": [
              "IPY_MODEL_f30fd36395964db098c440ee52900c7a",
              "IPY_MODEL_8cf6c189c1374c0592f11507464dc15e",
              "IPY_MODEL_f0f37889598b47dd9e25caaa71c91978"
            ],
            "layout": "IPY_MODEL_447a8e238ce645e5a954afadf89f4d7e"
          }
        },
        "f30fd36395964db098c440ee52900c7a": {
          "model_module": "@jupyter-widgets/controls",
          "model_name": "HTMLModel",
          "model_module_version": "1.5.0",
          "state": {
            "_dom_classes": [],
            "_model_module": "@jupyter-widgets/controls",
            "_model_module_version": "1.5.0",
            "_model_name": "HTMLModel",
            "_view_count": null,
            "_view_module": "@jupyter-widgets/controls",
            "_view_module_version": "1.5.0",
            "_view_name": "HTMLView",
            "description": "",
            "description_tooltip": null,
            "layout": "IPY_MODEL_8dba9805eae44517891aac4747b53787",
            "placeholder": "​",
            "style": "IPY_MODEL_7a6adc4d04e5466ba6fc7cd86c488136",
            "value": "Evaluating Users (Cross-Validation): 100%"
          }
        },
        "8cf6c189c1374c0592f11507464dc15e": {
          "model_module": "@jupyter-widgets/controls",
          "model_name": "FloatProgressModel",
          "model_module_version": "1.5.0",
          "state": {
            "_dom_classes": [],
            "_model_module": "@jupyter-widgets/controls",
            "_model_module_version": "1.5.0",
            "_model_name": "FloatProgressModel",
            "_view_count": null,
            "_view_module": "@jupyter-widgets/controls",
            "_view_module_version": "1.5.0",
            "_view_name": "ProgressView",
            "bar_style": "success",
            "description": "",
            "description_tooltip": null,
            "layout": "IPY_MODEL_45fec97c7d2e4650816de8dabf6da879",
            "max": 610,
            "min": 0,
            "orientation": "horizontal",
            "style": "IPY_MODEL_267d90945ce64d1b814dea86f46b731b",
            "value": 610
          }
        },
        "f0f37889598b47dd9e25caaa71c91978": {
          "model_module": "@jupyter-widgets/controls",
          "model_name": "HTMLModel",
          "model_module_version": "1.5.0",
          "state": {
            "_dom_classes": [],
            "_model_module": "@jupyter-widgets/controls",
            "_model_module_version": "1.5.0",
            "_model_name": "HTMLModel",
            "_view_count": null,
            "_view_module": "@jupyter-widgets/controls",
            "_view_module_version": "1.5.0",
            "_view_name": "HTMLView",
            "description": "",
            "description_tooltip": null,
            "layout": "IPY_MODEL_e8809a612c144487b8e7b01df362a890",
            "placeholder": "​",
            "style": "IPY_MODEL_201b7f404f2f46aba508a6270c75193f",
            "value": " 610/610 [00:21&lt;00:00, 43.76it/s]"
          }
        },
        "447a8e238ce645e5a954afadf89f4d7e": {
          "model_module": "@jupyter-widgets/base",
          "model_name": "LayoutModel",
          "model_module_version": "1.2.0",
          "state": {
            "_model_module": "@jupyter-widgets/base",
            "_model_module_version": "1.2.0",
            "_model_name": "LayoutModel",
            "_view_count": null,
            "_view_module": "@jupyter-widgets/base",
            "_view_module_version": "1.2.0",
            "_view_name": "LayoutView",
            "align_content": null,
            "align_items": null,
            "align_self": null,
            "border": null,
            "bottom": null,
            "display": null,
            "flex": null,
            "flex_flow": null,
            "grid_area": null,
            "grid_auto_columns": null,
            "grid_auto_flow": null,
            "grid_auto_rows": null,
            "grid_column": null,
            "grid_gap": null,
            "grid_row": null,
            "grid_template_areas": null,
            "grid_template_columns": null,
            "grid_template_rows": null,
            "height": null,
            "justify_content": null,
            "justify_items": null,
            "left": null,
            "margin": null,
            "max_height": null,
            "max_width": null,
            "min_height": null,
            "min_width": null,
            "object_fit": null,
            "object_position": null,
            "order": null,
            "overflow": null,
            "overflow_x": null,
            "overflow_y": null,
            "padding": null,
            "right": null,
            "top": null,
            "visibility": null,
            "width": null
          }
        },
        "8dba9805eae44517891aac4747b53787": {
          "model_module": "@jupyter-widgets/base",
          "model_name": "LayoutModel",
          "model_module_version": "1.2.0",
          "state": {
            "_model_module": "@jupyter-widgets/base",
            "_model_module_version": "1.2.0",
            "_model_name": "LayoutModel",
            "_view_count": null,
            "_view_module": "@jupyter-widgets/base",
            "_view_module_version": "1.2.0",
            "_view_name": "LayoutView",
            "align_content": null,
            "align_items": null,
            "align_self": null,
            "border": null,
            "bottom": null,
            "display": null,
            "flex": null,
            "flex_flow": null,
            "grid_area": null,
            "grid_auto_columns": null,
            "grid_auto_flow": null,
            "grid_auto_rows": null,
            "grid_column": null,
            "grid_gap": null,
            "grid_row": null,
            "grid_template_areas": null,
            "grid_template_columns": null,
            "grid_template_rows": null,
            "height": null,
            "justify_content": null,
            "justify_items": null,
            "left": null,
            "margin": null,
            "max_height": null,
            "max_width": null,
            "min_height": null,
            "min_width": null,
            "object_fit": null,
            "object_position": null,
            "order": null,
            "overflow": null,
            "overflow_x": null,
            "overflow_y": null,
            "padding": null,
            "right": null,
            "top": null,
            "visibility": null,
            "width": null
          }
        },
        "7a6adc4d04e5466ba6fc7cd86c488136": {
          "model_module": "@jupyter-widgets/controls",
          "model_name": "DescriptionStyleModel",
          "model_module_version": "1.5.0",
          "state": {
            "_model_module": "@jupyter-widgets/controls",
            "_model_module_version": "1.5.0",
            "_model_name": "DescriptionStyleModel",
            "_view_count": null,
            "_view_module": "@jupyter-widgets/base",
            "_view_module_version": "1.2.0",
            "_view_name": "StyleView",
            "description_width": ""
          }
        },
        "45fec97c7d2e4650816de8dabf6da879": {
          "model_module": "@jupyter-widgets/base",
          "model_name": "LayoutModel",
          "model_module_version": "1.2.0",
          "state": {
            "_model_module": "@jupyter-widgets/base",
            "_model_module_version": "1.2.0",
            "_model_name": "LayoutModel",
            "_view_count": null,
            "_view_module": "@jupyter-widgets/base",
            "_view_module_version": "1.2.0",
            "_view_name": "LayoutView",
            "align_content": null,
            "align_items": null,
            "align_self": null,
            "border": null,
            "bottom": null,
            "display": null,
            "flex": null,
            "flex_flow": null,
            "grid_area": null,
            "grid_auto_columns": null,
            "grid_auto_flow": null,
            "grid_auto_rows": null,
            "grid_column": null,
            "grid_gap": null,
            "grid_row": null,
            "grid_template_areas": null,
            "grid_template_columns": null,
            "grid_template_rows": null,
            "height": null,
            "justify_content": null,
            "justify_items": null,
            "left": null,
            "margin": null,
            "max_height": null,
            "max_width": null,
            "min_height": null,
            "min_width": null,
            "object_fit": null,
            "object_position": null,
            "order": null,
            "overflow": null,
            "overflow_x": null,
            "overflow_y": null,
            "padding": null,
            "right": null,
            "top": null,
            "visibility": null,
            "width": null
          }
        },
        "267d90945ce64d1b814dea86f46b731b": {
          "model_module": "@jupyter-widgets/controls",
          "model_name": "ProgressStyleModel",
          "model_module_version": "1.5.0",
          "state": {
            "_model_module": "@jupyter-widgets/controls",
            "_model_module_version": "1.5.0",
            "_model_name": "ProgressStyleModel",
            "_view_count": null,
            "_view_module": "@jupyter-widgets/base",
            "_view_module_version": "1.2.0",
            "_view_name": "StyleView",
            "bar_color": null,
            "description_width": ""
          }
        },
        "e8809a612c144487b8e7b01df362a890": {
          "model_module": "@jupyter-widgets/base",
          "model_name": "LayoutModel",
          "model_module_version": "1.2.0",
          "state": {
            "_model_module": "@jupyter-widgets/base",
            "_model_module_version": "1.2.0",
            "_model_name": "LayoutModel",
            "_view_count": null,
            "_view_module": "@jupyter-widgets/base",
            "_view_module_version": "1.2.0",
            "_view_name": "LayoutView",
            "align_content": null,
            "align_items": null,
            "align_self": null,
            "border": null,
            "bottom": null,
            "display": null,
            "flex": null,
            "flex_flow": null,
            "grid_area": null,
            "grid_auto_columns": null,
            "grid_auto_flow": null,
            "grid_auto_rows": null,
            "grid_column": null,
            "grid_gap": null,
            "grid_row": null,
            "grid_template_areas": null,
            "grid_template_columns": null,
            "grid_template_rows": null,
            "height": null,
            "justify_content": null,
            "justify_items": null,
            "left": null,
            "margin": null,
            "max_height": null,
            "max_width": null,
            "min_height": null,
            "min_width": null,
            "object_fit": null,
            "object_position": null,
            "order": null,
            "overflow": null,
            "overflow_x": null,
            "overflow_y": null,
            "padding": null,
            "right": null,
            "top": null,
            "visibility": null,
            "width": null
          }
        },
        "201b7f404f2f46aba508a6270c75193f": {
          "model_module": "@jupyter-widgets/controls",
          "model_name": "DescriptionStyleModel",
          "model_module_version": "1.5.0",
          "state": {
            "_model_module": "@jupyter-widgets/controls",
            "_model_module_version": "1.5.0",
            "_model_name": "DescriptionStyleModel",
            "_view_count": null,
            "_view_module": "@jupyter-widgets/base",
            "_view_module_version": "1.2.0",
            "_view_name": "StyleView",
            "description_width": ""
          }
        },
        "5c3d461c20b84f299a4af63d1230bfac": {
          "model_module": "@jupyter-widgets/controls",
          "model_name": "HBoxModel",
          "model_module_version": "1.5.0",
          "state": {
            "_dom_classes": [],
            "_model_module": "@jupyter-widgets/controls",
            "_model_module_version": "1.5.0",
            "_model_name": "HBoxModel",
            "_view_count": null,
            "_view_module": "@jupyter-widgets/controls",
            "_view_module_version": "1.5.0",
            "_view_name": "HBoxView",
            "box_style": "",
            "children": [
              "IPY_MODEL_6107b0c1c2f446ed9ef8e376fff1a5cc",
              "IPY_MODEL_016dc4d9c73d468d80caa586d116a105",
              "IPY_MODEL_01265745b6c94a83bebc4a55b44ed35e"
            ],
            "layout": "IPY_MODEL_f70a60f61a8b41a2b110864a1a99a8f2"
          }
        },
        "6107b0c1c2f446ed9ef8e376fff1a5cc": {
          "model_module": "@jupyter-widgets/controls",
          "model_name": "HTMLModel",
          "model_module_version": "1.5.0",
          "state": {
            "_dom_classes": [],
            "_model_module": "@jupyter-widgets/controls",
            "_model_module_version": "1.5.0",
            "_model_name": "HTMLModel",
            "_view_count": null,
            "_view_module": "@jupyter-widgets/controls",
            "_view_module_version": "1.5.0",
            "_view_name": "HTMLView",
            "description": "",
            "description_tooltip": null,
            "layout": "IPY_MODEL_0179daeaea89495f8a9e71ed0d9385ca",
            "placeholder": "​",
            "style": "IPY_MODEL_e7cfd96382d94e56a41445358dc0b34a",
            "value": "Evaluating Users (Test): 100%"
          }
        },
        "016dc4d9c73d468d80caa586d116a105": {
          "model_module": "@jupyter-widgets/controls",
          "model_name": "FloatProgressModel",
          "model_module_version": "1.5.0",
          "state": {
            "_dom_classes": [],
            "_model_module": "@jupyter-widgets/controls",
            "_model_module_version": "1.5.0",
            "_model_name": "FloatProgressModel",
            "_view_count": null,
            "_view_module": "@jupyter-widgets/controls",
            "_view_module_version": "1.5.0",
            "_view_name": "ProgressView",
            "bar_style": "success",
            "description": "",
            "description_tooltip": null,
            "layout": "IPY_MODEL_8938fedaf25348ec81978bfff566344a",
            "max": 610,
            "min": 0,
            "orientation": "horizontal",
            "style": "IPY_MODEL_8be4efcc66984d8dbd8a2b41e26aadff",
            "value": 610
          }
        },
        "01265745b6c94a83bebc4a55b44ed35e": {
          "model_module": "@jupyter-widgets/controls",
          "model_name": "HTMLModel",
          "model_module_version": "1.5.0",
          "state": {
            "_dom_classes": [],
            "_model_module": "@jupyter-widgets/controls",
            "_model_module_version": "1.5.0",
            "_model_name": "HTMLModel",
            "_view_count": null,
            "_view_module": "@jupyter-widgets/controls",
            "_view_module_version": "1.5.0",
            "_view_name": "HTMLView",
            "description": "",
            "description_tooltip": null,
            "layout": "IPY_MODEL_5b13a8d87cbd4976858358762960cb06",
            "placeholder": "​",
            "style": "IPY_MODEL_a1a104d6db6846d8bb8003c061bd09aa",
            "value": " 610/610 [00:22&lt;00:00, 45.65it/s]"
          }
        },
        "f70a60f61a8b41a2b110864a1a99a8f2": {
          "model_module": "@jupyter-widgets/base",
          "model_name": "LayoutModel",
          "model_module_version": "1.2.0",
          "state": {
            "_model_module": "@jupyter-widgets/base",
            "_model_module_version": "1.2.0",
            "_model_name": "LayoutModel",
            "_view_count": null,
            "_view_module": "@jupyter-widgets/base",
            "_view_module_version": "1.2.0",
            "_view_name": "LayoutView",
            "align_content": null,
            "align_items": null,
            "align_self": null,
            "border": null,
            "bottom": null,
            "display": null,
            "flex": null,
            "flex_flow": null,
            "grid_area": null,
            "grid_auto_columns": null,
            "grid_auto_flow": null,
            "grid_auto_rows": null,
            "grid_column": null,
            "grid_gap": null,
            "grid_row": null,
            "grid_template_areas": null,
            "grid_template_columns": null,
            "grid_template_rows": null,
            "height": null,
            "justify_content": null,
            "justify_items": null,
            "left": null,
            "margin": null,
            "max_height": null,
            "max_width": null,
            "min_height": null,
            "min_width": null,
            "object_fit": null,
            "object_position": null,
            "order": null,
            "overflow": null,
            "overflow_x": null,
            "overflow_y": null,
            "padding": null,
            "right": null,
            "top": null,
            "visibility": null,
            "width": null
          }
        },
        "0179daeaea89495f8a9e71ed0d9385ca": {
          "model_module": "@jupyter-widgets/base",
          "model_name": "LayoutModel",
          "model_module_version": "1.2.0",
          "state": {
            "_model_module": "@jupyter-widgets/base",
            "_model_module_version": "1.2.0",
            "_model_name": "LayoutModel",
            "_view_count": null,
            "_view_module": "@jupyter-widgets/base",
            "_view_module_version": "1.2.0",
            "_view_name": "LayoutView",
            "align_content": null,
            "align_items": null,
            "align_self": null,
            "border": null,
            "bottom": null,
            "display": null,
            "flex": null,
            "flex_flow": null,
            "grid_area": null,
            "grid_auto_columns": null,
            "grid_auto_flow": null,
            "grid_auto_rows": null,
            "grid_column": null,
            "grid_gap": null,
            "grid_row": null,
            "grid_template_areas": null,
            "grid_template_columns": null,
            "grid_template_rows": null,
            "height": null,
            "justify_content": null,
            "justify_items": null,
            "left": null,
            "margin": null,
            "max_height": null,
            "max_width": null,
            "min_height": null,
            "min_width": null,
            "object_fit": null,
            "object_position": null,
            "order": null,
            "overflow": null,
            "overflow_x": null,
            "overflow_y": null,
            "padding": null,
            "right": null,
            "top": null,
            "visibility": null,
            "width": null
          }
        },
        "e7cfd96382d94e56a41445358dc0b34a": {
          "model_module": "@jupyter-widgets/controls",
          "model_name": "DescriptionStyleModel",
          "model_module_version": "1.5.0",
          "state": {
            "_model_module": "@jupyter-widgets/controls",
            "_model_module_version": "1.5.0",
            "_model_name": "DescriptionStyleModel",
            "_view_count": null,
            "_view_module": "@jupyter-widgets/base",
            "_view_module_version": "1.2.0",
            "_view_name": "StyleView",
            "description_width": ""
          }
        },
        "8938fedaf25348ec81978bfff566344a": {
          "model_module": "@jupyter-widgets/base",
          "model_name": "LayoutModel",
          "model_module_version": "1.2.0",
          "state": {
            "_model_module": "@jupyter-widgets/base",
            "_model_module_version": "1.2.0",
            "_model_name": "LayoutModel",
            "_view_count": null,
            "_view_module": "@jupyter-widgets/base",
            "_view_module_version": "1.2.0",
            "_view_name": "LayoutView",
            "align_content": null,
            "align_items": null,
            "align_self": null,
            "border": null,
            "bottom": null,
            "display": null,
            "flex": null,
            "flex_flow": null,
            "grid_area": null,
            "grid_auto_columns": null,
            "grid_auto_flow": null,
            "grid_auto_rows": null,
            "grid_column": null,
            "grid_gap": null,
            "grid_row": null,
            "grid_template_areas": null,
            "grid_template_columns": null,
            "grid_template_rows": null,
            "height": null,
            "justify_content": null,
            "justify_items": null,
            "left": null,
            "margin": null,
            "max_height": null,
            "max_width": null,
            "min_height": null,
            "min_width": null,
            "object_fit": null,
            "object_position": null,
            "order": null,
            "overflow": null,
            "overflow_x": null,
            "overflow_y": null,
            "padding": null,
            "right": null,
            "top": null,
            "visibility": null,
            "width": null
          }
        },
        "8be4efcc66984d8dbd8a2b41e26aadff": {
          "model_module": "@jupyter-widgets/controls",
          "model_name": "ProgressStyleModel",
          "model_module_version": "1.5.0",
          "state": {
            "_model_module": "@jupyter-widgets/controls",
            "_model_module_version": "1.5.0",
            "_model_name": "ProgressStyleModel",
            "_view_count": null,
            "_view_module": "@jupyter-widgets/base",
            "_view_module_version": "1.2.0",
            "_view_name": "StyleView",
            "bar_color": null,
            "description_width": ""
          }
        },
        "5b13a8d87cbd4976858358762960cb06": {
          "model_module": "@jupyter-widgets/base",
          "model_name": "LayoutModel",
          "model_module_version": "1.2.0",
          "state": {
            "_model_module": "@jupyter-widgets/base",
            "_model_module_version": "1.2.0",
            "_model_name": "LayoutModel",
            "_view_count": null,
            "_view_module": "@jupyter-widgets/base",
            "_view_module_version": "1.2.0",
            "_view_name": "LayoutView",
            "align_content": null,
            "align_items": null,
            "align_self": null,
            "border": null,
            "bottom": null,
            "display": null,
            "flex": null,
            "flex_flow": null,
            "grid_area": null,
            "grid_auto_columns": null,
            "grid_auto_flow": null,
            "grid_auto_rows": null,
            "grid_column": null,
            "grid_gap": null,
            "grid_row": null,
            "grid_template_areas": null,
            "grid_template_columns": null,
            "grid_template_rows": null,
            "height": null,
            "justify_content": null,
            "justify_items": null,
            "left": null,
            "margin": null,
            "max_height": null,
            "max_width": null,
            "min_height": null,
            "min_width": null,
            "object_fit": null,
            "object_position": null,
            "order": null,
            "overflow": null,
            "overflow_x": null,
            "overflow_y": null,
            "padding": null,
            "right": null,
            "top": null,
            "visibility": null,
            "width": null
          }
        },
        "a1a104d6db6846d8bb8003c061bd09aa": {
          "model_module": "@jupyter-widgets/controls",
          "model_name": "DescriptionStyleModel",
          "model_module_version": "1.5.0",
          "state": {
            "_model_module": "@jupyter-widgets/controls",
            "_model_module_version": "1.5.0",
            "_model_name": "DescriptionStyleModel",
            "_view_count": null,
            "_view_module": "@jupyter-widgets/base",
            "_view_module_version": "1.2.0",
            "_view_name": "StyleView",
            "description_width": ""
          }
        }
      }
    }
  },
  "nbformat": 4,
  "nbformat_minor": 0
}